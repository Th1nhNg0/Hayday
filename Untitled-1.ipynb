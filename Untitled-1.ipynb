{
 "cells": [
  {
   "cell_type": "code",
   "execution_count": 102,
   "metadata": {},
   "outputs": [],
   "source": [
    "from ortools.sat.python import cp_model\n",
    "import collections\n",
    "import json \n",
    "\n",
    "class SolutionPrinter(cp_model.CpSolverSolutionCallback):\n",
    "    \"\"\"Print intermediate solutions.\"\"\"\n",
    "\n",
    "    def __init__(self):\n",
    "        cp_model.CpSolverSolutionCallback.__init__(self)\n",
    "        self.__solution_count = 0\n",
    "\n",
    "    def on_solution_callback(self):\n",
    "        \"\"\"Called at each new solution.\"\"\"\n",
    "        print(\n",
    "            \"Solution %i, time = %f s, objective = %i\"\n",
    "            % (self.__solution_count, self.wall_time, self.objective_value)\n",
    "        )\n",
    "        self.__solution_count += 1\n",
    "\n",
    "\n",
    "task_type = collections.namedtuple(\"task_type\", \"start end interval machine\")\n",
    "\n",
    "\n",
    "data = json.load(open(\"hayday_tasks.json\"))\n",
    "source_id = data[\"machine\"]\n",
    "machine_len = sum(len(source_id[machine_id]) for machine_id in source_id)\n",
    "tasks = data[\"tasks\"]\n",
    "\n",
    "duration = {task['id']: task['duration'] for task in tasks}\n",
    "horizon = sum(task['duration'] for task in tasks)\n",
    "times = range(horizon)\n",
    "\n",
    "model = cp_model.CpModel()\n",
    "\n",
    "all_tasks = {}\n",
    "intervals_per_resources = collections.defaultdict(list)\n",
    "\n",
    "for task in tasks:\n",
    "    start_var = model.new_int_var(0, horizon, 'start_%i' % task['id'])\n",
    "    end_var = model.new_int_var(0, horizon, 'end_%i' % task['id'])\n",
    "    interval_var = model.new_interval_var(start_var, duration[task['id']], end_var, 'interval_%i' % task['id'])\n",
    "    machine_var = model.new_int_var_from_domain(cp_model.Domain.FromValues(task['machine']), 'machine_%i' % task['id'])\n",
    "    all_tasks[task['id']] = task_type(\n",
    "        start=start_var, end=end_var, interval=interval_var, machine=machine_var,\n",
    "    )\n",
    "\n",
    "    if len(task['machine']) == 1:\n",
    "        intervals_per_resources[task['machine'][0]].append(interval_var)\n",
    "    else:\n",
    "        l_presences = []\n",
    "        for machine_id in task['machine']:\n",
    "            l_presence = model.new_bool_var('presence_%i_%i' % (task['id'], machine_id))\n",
    "            l_start = model.new_int_var(0, horizon, 'start_%i_%i' % (task['id'], machine_id))\n",
    "            l_end = model.new_int_var(0, horizon, 'end_%i_%i' % (task['id'], machine_id))   \n",
    "            l_interval = model.new_optional_interval_var(l_start, duration[task['id']], l_end, l_presence, 'interval_%i_%i' % (task['id'], machine_id))\n",
    "            l_presences.append(l_presence)\n",
    "\n",
    "            model.add(start_var == l_start).only_enforce_if(l_presence)\n",
    "            model.add(end_var == l_end).only_enforce_if(l_presence)\n",
    "            model.add(machine_var == machine_id).only_enforce_if(l_presence)\n",
    "            \n",
    "            intervals_per_resources[machine_id].append(l_interval)\n",
    "        model.add_exactly_one(l_presences)\n",
    "\n",
    "for machine_id in range(1,machine_len+1):\n",
    "    intervals = intervals_per_resources[machine_id]\n",
    "    if len(intervals) > 1:\n",
    "        model.add_no_overlap(intervals)\n",
    "\n",
    "for task in tasks:\n",
    "    for dependency in task['dependent']:\n",
    "        model.Add(all_tasks[task['id']].start >= all_tasks[dependency].end)\n",
    "\n",
    "\n",
    "\n",
    "obj_var = model.new_int_var(0, horizon, 'makespan')\n",
    "model.add_max_equality(obj_var, [all_tasks[task['id']].end for task in tasks])\n",
    "model.minimize(obj_var )\n",
    "\n",
    "solver = cp_model.CpSolver()\n",
    "solver.parameters.max_time_in_seconds = 60\n",
    "solution_printer = SolutionPrinter()\n",
    "status = solver.solve(model,solution_printer)\n",
    "print()\n",
    "print(\"solve status: %s\" % solver.status_name(status))\n",
    "print(\"Optimal objective value: %i\" % solver.objective_value)\n",
    "print(\"Statistics\")\n",
    "print(\"  - conflicts : %i\" % solver.num_conflicts)\n",
    "print(\"  - branches  : %i\" % solver.num_branches)\n",
    "print(\"  - wall time : %f s\" % solver.wall_time)"
   ]
  },
  {
   "cell_type": "code",
   "execution_count": null,
   "metadata": {},
   "outputs": [],
   "source": [
    "import pandas as pd\n",
    "data = []\n",
    "for task in tasks:\n",
    "    task_id = task['id']\n",
    "    task_name = task['name']\n",
    "    start = solver.Value(all_tasks[task_id].start)\n",
    "    end = solver.Value(all_tasks[task_id].end)\n",
    "    machine = solver.Value(all_tasks[task_id].machine)\n",
    "    job_id = task['job_id']\n",
    "    # machine name = source_id + machine \n",
    "    # source name\n",
    "    for source in source_id:\n",
    "        if machine in source_id[source]:\n",
    "            machine = source +'_'+ str(machine)\n",
    "            break\n",
    "    data.append([ task_name, start, end, machine, job_id])\n",
    "\n",
    "df = pd.DataFrame(data, columns=[ \"task_name\", \"start\", \"end\", \"machine\", \"job_id\"])\n",
    "df['job_id'] = df['job_id'].astype(str)"
   ]
  },
  {
   "cell_type": "code",
   "execution_count": null,
   "metadata": {},
   "outputs": [],
   "source": [
    "df[\"start\"] = pd.to_datetime(df[\"start\"], unit=\"s\")\n",
    "df[\"end\"] = pd.to_datetime(df[\"end\"], unit=\"s\")"
   ]
  },
  {
   "cell_type": "code",
   "execution_count": null,
   "metadata": {},
   "outputs": [
    {
     "data": {
      "application/vnd.plotly.v1+json": {
       "config": {
        "plotlyServerURL": "https://plot.ly"
       },
       "data": [
        {
         "alignmentgroup": "True",
         "base": [
          "1970-01-01T05:00:00",
          "1970-01-01T00:50:00",
          "1970-01-01T00:00:00",
          "1970-01-01T02:00:00",
          "1970-01-01T00:50:00",
          "1970-01-01T00:40:00",
          "1970-01-01T00:00:00",
          "1970-01-01T00:00:00",
          "1970-01-01T00:00:00",
          "1970-01-01T02:00:00",
          "1970-01-01T01:10:00",
          "1970-01-01T00:00:00",
          "1970-01-01T01:30:00",
          "1970-01-01T00:30:00",
          "1970-01-01T00:20:00",
          "1970-01-01T00:00:00",
          "1970-01-01T00:00:00",
          "1970-01-01T00:00:00",
          "1970-01-01T03:30:00",
          "1970-01-01T00:30:00",
          "1970-01-01T00:00:00",
          "1970-01-01T02:30:00",
          "1970-01-01T00:40:00",
          "1970-01-01T00:30:00",
          "1970-01-01T00:00:00",
          "1970-01-01T00:00:00",
          "1970-01-01T00:00:00"
         ],
         "hovertemplate": "job_id=0<br>start=%{base}<br>end=%{x}<br>machine=%{y}<br>task_name=%{text}<extra></extra>",
         "legendgroup": "0",
         "marker": {
          "color": "#636efa",
          "pattern": {
           "shape": ""
          }
         },
         "name": "0",
         "offsetgroup": "0",
         "orientation": "h",
         "showlegend": true,
         "text": [
          "carrot cake",
          "brown sugar",
          "sugarcane",
          "butter",
          "milk",
          "cow feed",
          "corn",
          "soybean",
          "carrot",
          "carrot cake",
          "brown sugar",
          "sugarcane",
          "butter",
          "milk",
          "cow feed",
          "corn",
          "soybean",
          "carrot",
          "carrot cake",
          "brown sugar",
          "sugarcane",
          "butter",
          "milk",
          "cow feed",
          "corn",
          "soybean",
          "carrot"
         ],
         "textposition": "auto",
         "type": "bar",
         "x": [
          5400000,
          1200000,
          1800000,
          1800000,
          3600000,
          600000,
          300000,
          1200000,
          600000,
          5400000,
          1200000,
          1800000,
          1800000,
          3600000,
          600000,
          300000,
          1200000,
          600000,
          5400000,
          1200000,
          1800000,
          1800000,
          3600000,
          600000,
          300000,
          1200000,
          600000
         ],
         "xaxis": "x",
         "y": [
          "cake oven_94",
          "sugar mill_63",
          "field_41",
          "dairy_72",
          "cow_70",
          "feed mill_21",
          "field_35",
          "field_42",
          "field_27",
          "cake oven_94",
          "sugar mill_63",
          "field_29",
          "dairy_72",
          "cow_68",
          "feed mill_21",
          "field_30",
          "field_36",
          "field_34",
          "cake oven_94",
          "sugar mill_63",
          "field_46",
          "dairy_72",
          "cow_66",
          "feed mill_21",
          "field_28",
          "field_33",
          "field_31"
         ],
         "yaxis": "y"
        }
       ],
       "layout": {
        "barmode": "overlay",
        "legend": {
         "title": {
          "text": "job_id"
         },
         "tracegroupgap": 0
        },
        "template": {
         "data": {
          "bar": [
           {
            "error_x": {
             "color": "#2a3f5f"
            },
            "error_y": {
             "color": "#2a3f5f"
            },
            "marker": {
             "line": {
              "color": "#E5ECF6",
              "width": 0.5
             },
             "pattern": {
              "fillmode": "overlay",
              "size": 10,
              "solidity": 0.2
             }
            },
            "type": "bar"
           }
          ],
          "barpolar": [
           {
            "marker": {
             "line": {
              "color": "#E5ECF6",
              "width": 0.5
             },
             "pattern": {
              "fillmode": "overlay",
              "size": 10,
              "solidity": 0.2
             }
            },
            "type": "barpolar"
           }
          ],
          "carpet": [
           {
            "aaxis": {
             "endlinecolor": "#2a3f5f",
             "gridcolor": "white",
             "linecolor": "white",
             "minorgridcolor": "white",
             "startlinecolor": "#2a3f5f"
            },
            "baxis": {
             "endlinecolor": "#2a3f5f",
             "gridcolor": "white",
             "linecolor": "white",
             "minorgridcolor": "white",
             "startlinecolor": "#2a3f5f"
            },
            "type": "carpet"
           }
          ],
          "choropleth": [
           {
            "colorbar": {
             "outlinewidth": 0,
             "ticks": ""
            },
            "type": "choropleth"
           }
          ],
          "contour": [
           {
            "colorbar": {
             "outlinewidth": 0,
             "ticks": ""
            },
            "colorscale": [
             [
              0,
              "#0d0887"
             ],
             [
              0.1111111111111111,
              "#46039f"
             ],
             [
              0.2222222222222222,
              "#7201a8"
             ],
             [
              0.3333333333333333,
              "#9c179e"
             ],
             [
              0.4444444444444444,
              "#bd3786"
             ],
             [
              0.5555555555555556,
              "#d8576b"
             ],
             [
              0.6666666666666666,
              "#ed7953"
             ],
             [
              0.7777777777777778,
              "#fb9f3a"
             ],
             [
              0.8888888888888888,
              "#fdca26"
             ],
             [
              1,
              "#f0f921"
             ]
            ],
            "type": "contour"
           }
          ],
          "contourcarpet": [
           {
            "colorbar": {
             "outlinewidth": 0,
             "ticks": ""
            },
            "type": "contourcarpet"
           }
          ],
          "heatmap": [
           {
            "colorbar": {
             "outlinewidth": 0,
             "ticks": ""
            },
            "colorscale": [
             [
              0,
              "#0d0887"
             ],
             [
              0.1111111111111111,
              "#46039f"
             ],
             [
              0.2222222222222222,
              "#7201a8"
             ],
             [
              0.3333333333333333,
              "#9c179e"
             ],
             [
              0.4444444444444444,
              "#bd3786"
             ],
             [
              0.5555555555555556,
              "#d8576b"
             ],
             [
              0.6666666666666666,
              "#ed7953"
             ],
             [
              0.7777777777777778,
              "#fb9f3a"
             ],
             [
              0.8888888888888888,
              "#fdca26"
             ],
             [
              1,
              "#f0f921"
             ]
            ],
            "type": "heatmap"
           }
          ],
          "heatmapgl": [
           {
            "colorbar": {
             "outlinewidth": 0,
             "ticks": ""
            },
            "colorscale": [
             [
              0,
              "#0d0887"
             ],
             [
              0.1111111111111111,
              "#46039f"
             ],
             [
              0.2222222222222222,
              "#7201a8"
             ],
             [
              0.3333333333333333,
              "#9c179e"
             ],
             [
              0.4444444444444444,
              "#bd3786"
             ],
             [
              0.5555555555555556,
              "#d8576b"
             ],
             [
              0.6666666666666666,
              "#ed7953"
             ],
             [
              0.7777777777777778,
              "#fb9f3a"
             ],
             [
              0.8888888888888888,
              "#fdca26"
             ],
             [
              1,
              "#f0f921"
             ]
            ],
            "type": "heatmapgl"
           }
          ],
          "histogram": [
           {
            "marker": {
             "pattern": {
              "fillmode": "overlay",
              "size": 10,
              "solidity": 0.2
             }
            },
            "type": "histogram"
           }
          ],
          "histogram2d": [
           {
            "colorbar": {
             "outlinewidth": 0,
             "ticks": ""
            },
            "colorscale": [
             [
              0,
              "#0d0887"
             ],
             [
              0.1111111111111111,
              "#46039f"
             ],
             [
              0.2222222222222222,
              "#7201a8"
             ],
             [
              0.3333333333333333,
              "#9c179e"
             ],
             [
              0.4444444444444444,
              "#bd3786"
             ],
             [
              0.5555555555555556,
              "#d8576b"
             ],
             [
              0.6666666666666666,
              "#ed7953"
             ],
             [
              0.7777777777777778,
              "#fb9f3a"
             ],
             [
              0.8888888888888888,
              "#fdca26"
             ],
             [
              1,
              "#f0f921"
             ]
            ],
            "type": "histogram2d"
           }
          ],
          "histogram2dcontour": [
           {
            "colorbar": {
             "outlinewidth": 0,
             "ticks": ""
            },
            "colorscale": [
             [
              0,
              "#0d0887"
             ],
             [
              0.1111111111111111,
              "#46039f"
             ],
             [
              0.2222222222222222,
              "#7201a8"
             ],
             [
              0.3333333333333333,
              "#9c179e"
             ],
             [
              0.4444444444444444,
              "#bd3786"
             ],
             [
              0.5555555555555556,
              "#d8576b"
             ],
             [
              0.6666666666666666,
              "#ed7953"
             ],
             [
              0.7777777777777778,
              "#fb9f3a"
             ],
             [
              0.8888888888888888,
              "#fdca26"
             ],
             [
              1,
              "#f0f921"
             ]
            ],
            "type": "histogram2dcontour"
           }
          ],
          "mesh3d": [
           {
            "colorbar": {
             "outlinewidth": 0,
             "ticks": ""
            },
            "type": "mesh3d"
           }
          ],
          "parcoords": [
           {
            "line": {
             "colorbar": {
              "outlinewidth": 0,
              "ticks": ""
             }
            },
            "type": "parcoords"
           }
          ],
          "pie": [
           {
            "automargin": true,
            "type": "pie"
           }
          ],
          "scatter": [
           {
            "fillpattern": {
             "fillmode": "overlay",
             "size": 10,
             "solidity": 0.2
            },
            "type": "scatter"
           }
          ],
          "scatter3d": [
           {
            "line": {
             "colorbar": {
              "outlinewidth": 0,
              "ticks": ""
             }
            },
            "marker": {
             "colorbar": {
              "outlinewidth": 0,
              "ticks": ""
             }
            },
            "type": "scatter3d"
           }
          ],
          "scattercarpet": [
           {
            "marker": {
             "colorbar": {
              "outlinewidth": 0,
              "ticks": ""
             }
            },
            "type": "scattercarpet"
           }
          ],
          "scattergeo": [
           {
            "marker": {
             "colorbar": {
              "outlinewidth": 0,
              "ticks": ""
             }
            },
            "type": "scattergeo"
           }
          ],
          "scattergl": [
           {
            "marker": {
             "colorbar": {
              "outlinewidth": 0,
              "ticks": ""
             }
            },
            "type": "scattergl"
           }
          ],
          "scattermapbox": [
           {
            "marker": {
             "colorbar": {
              "outlinewidth": 0,
              "ticks": ""
             }
            },
            "type": "scattermapbox"
           }
          ],
          "scatterpolar": [
           {
            "marker": {
             "colorbar": {
              "outlinewidth": 0,
              "ticks": ""
             }
            },
            "type": "scatterpolar"
           }
          ],
          "scatterpolargl": [
           {
            "marker": {
             "colorbar": {
              "outlinewidth": 0,
              "ticks": ""
             }
            },
            "type": "scatterpolargl"
           }
          ],
          "scatterternary": [
           {
            "marker": {
             "colorbar": {
              "outlinewidth": 0,
              "ticks": ""
             }
            },
            "type": "scatterternary"
           }
          ],
          "surface": [
           {
            "colorbar": {
             "outlinewidth": 0,
             "ticks": ""
            },
            "colorscale": [
             [
              0,
              "#0d0887"
             ],
             [
              0.1111111111111111,
              "#46039f"
             ],
             [
              0.2222222222222222,
              "#7201a8"
             ],
             [
              0.3333333333333333,
              "#9c179e"
             ],
             [
              0.4444444444444444,
              "#bd3786"
             ],
             [
              0.5555555555555556,
              "#d8576b"
             ],
             [
              0.6666666666666666,
              "#ed7953"
             ],
             [
              0.7777777777777778,
              "#fb9f3a"
             ],
             [
              0.8888888888888888,
              "#fdca26"
             ],
             [
              1,
              "#f0f921"
             ]
            ],
            "type": "surface"
           }
          ],
          "table": [
           {
            "cells": {
             "fill": {
              "color": "#EBF0F8"
             },
             "line": {
              "color": "white"
             }
            },
            "header": {
             "fill": {
              "color": "#C8D4E3"
             },
             "line": {
              "color": "white"
             }
            },
            "type": "table"
           }
          ]
         },
         "layout": {
          "annotationdefaults": {
           "arrowcolor": "#2a3f5f",
           "arrowhead": 0,
           "arrowwidth": 1
          },
          "autotypenumbers": "strict",
          "coloraxis": {
           "colorbar": {
            "outlinewidth": 0,
            "ticks": ""
           }
          },
          "colorscale": {
           "diverging": [
            [
             0,
             "#8e0152"
            ],
            [
             0.1,
             "#c51b7d"
            ],
            [
             0.2,
             "#de77ae"
            ],
            [
             0.3,
             "#f1b6da"
            ],
            [
             0.4,
             "#fde0ef"
            ],
            [
             0.5,
             "#f7f7f7"
            ],
            [
             0.6,
             "#e6f5d0"
            ],
            [
             0.7,
             "#b8e186"
            ],
            [
             0.8,
             "#7fbc41"
            ],
            [
             0.9,
             "#4d9221"
            ],
            [
             1,
             "#276419"
            ]
           ],
           "sequential": [
            [
             0,
             "#0d0887"
            ],
            [
             0.1111111111111111,
             "#46039f"
            ],
            [
             0.2222222222222222,
             "#7201a8"
            ],
            [
             0.3333333333333333,
             "#9c179e"
            ],
            [
             0.4444444444444444,
             "#bd3786"
            ],
            [
             0.5555555555555556,
             "#d8576b"
            ],
            [
             0.6666666666666666,
             "#ed7953"
            ],
            [
             0.7777777777777778,
             "#fb9f3a"
            ],
            [
             0.8888888888888888,
             "#fdca26"
            ],
            [
             1,
             "#f0f921"
            ]
           ],
           "sequentialminus": [
            [
             0,
             "#0d0887"
            ],
            [
             0.1111111111111111,
             "#46039f"
            ],
            [
             0.2222222222222222,
             "#7201a8"
            ],
            [
             0.3333333333333333,
             "#9c179e"
            ],
            [
             0.4444444444444444,
             "#bd3786"
            ],
            [
             0.5555555555555556,
             "#d8576b"
            ],
            [
             0.6666666666666666,
             "#ed7953"
            ],
            [
             0.7777777777777778,
             "#fb9f3a"
            ],
            [
             0.8888888888888888,
             "#fdca26"
            ],
            [
             1,
             "#f0f921"
            ]
           ]
          },
          "colorway": [
           "#636efa",
           "#EF553B",
           "#00cc96",
           "#ab63fa",
           "#FFA15A",
           "#19d3f3",
           "#FF6692",
           "#B6E880",
           "#FF97FF",
           "#FECB52"
          ],
          "font": {
           "color": "#2a3f5f"
          },
          "geo": {
           "bgcolor": "white",
           "lakecolor": "white",
           "landcolor": "#E5ECF6",
           "showlakes": true,
           "showland": true,
           "subunitcolor": "white"
          },
          "hoverlabel": {
           "align": "left"
          },
          "hovermode": "closest",
          "mapbox": {
           "style": "light"
          },
          "paper_bgcolor": "white",
          "plot_bgcolor": "#E5ECF6",
          "polar": {
           "angularaxis": {
            "gridcolor": "white",
            "linecolor": "white",
            "ticks": ""
           },
           "bgcolor": "#E5ECF6",
           "radialaxis": {
            "gridcolor": "white",
            "linecolor": "white",
            "ticks": ""
           }
          },
          "scene": {
           "xaxis": {
            "backgroundcolor": "#E5ECF6",
            "gridcolor": "white",
            "gridwidth": 2,
            "linecolor": "white",
            "showbackground": true,
            "ticks": "",
            "zerolinecolor": "white"
           },
           "yaxis": {
            "backgroundcolor": "#E5ECF6",
            "gridcolor": "white",
            "gridwidth": 2,
            "linecolor": "white",
            "showbackground": true,
            "ticks": "",
            "zerolinecolor": "white"
           },
           "zaxis": {
            "backgroundcolor": "#E5ECF6",
            "gridcolor": "white",
            "gridwidth": 2,
            "linecolor": "white",
            "showbackground": true,
            "ticks": "",
            "zerolinecolor": "white"
           }
          },
          "shapedefaults": {
           "line": {
            "color": "#2a3f5f"
           }
          },
          "ternary": {
           "aaxis": {
            "gridcolor": "white",
            "linecolor": "white",
            "ticks": ""
           },
           "baxis": {
            "gridcolor": "white",
            "linecolor": "white",
            "ticks": ""
           },
           "bgcolor": "#E5ECF6",
           "caxis": {
            "gridcolor": "white",
            "linecolor": "white",
            "ticks": ""
           }
          },
          "title": {
           "x": 0.05
          },
          "xaxis": {
           "automargin": true,
           "gridcolor": "white",
           "linecolor": "white",
           "ticks": "",
           "title": {
            "standoff": 15
           },
           "zerolinecolor": "white",
           "zerolinewidth": 2
          },
          "yaxis": {
           "automargin": true,
           "gridcolor": "white",
           "linecolor": "white",
           "ticks": "",
           "title": {
            "standoff": 15
           },
           "zerolinecolor": "white",
           "zerolinewidth": 2
          }
         }
        },
        "title": {
         "text": "Machine Schedule"
        },
        "xaxis": {
         "anchor": "y",
         "domain": [
          0,
          1
         ],
         "tickformat": "%H:%M:%S",
         "type": "date"
        },
        "yaxis": {
         "anchor": "x",
         "categoryarray": [
          "sugar mill_63",
          "field_46",
          "field_42",
          "field_41",
          "field_36",
          "field_35",
          "field_34",
          "field_33",
          "field_31",
          "field_30",
          "field_29",
          "field_28",
          "field_27",
          "feed mill_21",
          "dairy_72",
          "cow_70",
          "cow_68",
          "cow_66",
          "cake oven_94"
         ],
         "categoryorder": "array",
         "domain": [
          0,
          1
         ],
         "title": {
          "text": "machine"
         }
        }
       }
      }
     },
     "metadata": {},
     "output_type": "display_data"
    },
    {
     "data": {
      "application/vnd.plotly.v1+json": {
       "config": {
        "plotlyServerURL": "https://plot.ly"
       },
       "data": [
        {
         "alignmentgroup": "True",
         "base": [
          "1970-01-01T05:00:00",
          "1970-01-01T02:00:00",
          "1970-01-01T03:30:00"
         ],
         "hovertemplate": "machine=cake oven_94<br>start=%{base}<br>end=%{x}<br>job_id=%{y}<br>task_name=%{text}<extra></extra>",
         "legendgroup": "cake oven_94",
         "marker": {
          "color": "#636efa",
          "pattern": {
           "shape": ""
          }
         },
         "name": "cake oven_94",
         "offsetgroup": "cake oven_94",
         "orientation": "h",
         "showlegend": true,
         "text": [
          "carrot cake",
          "carrot cake",
          "carrot cake"
         ],
         "textposition": "auto",
         "type": "bar",
         "x": [
          5400000,
          5400000,
          5400000
         ],
         "xaxis": "x",
         "y": [
          "0",
          "0",
          "0"
         ],
         "yaxis": "y"
        },
        {
         "alignmentgroup": "True",
         "base": [
          "1970-01-01T00:50:00",
          "1970-01-01T01:10:00",
          "1970-01-01T00:30:00"
         ],
         "hovertemplate": "machine=sugar mill_63<br>start=%{base}<br>end=%{x}<br>job_id=%{y}<br>task_name=%{text}<extra></extra>",
         "legendgroup": "sugar mill_63",
         "marker": {
          "color": "#EF553B",
          "pattern": {
           "shape": ""
          }
         },
         "name": "sugar mill_63",
         "offsetgroup": "sugar mill_63",
         "orientation": "h",
         "showlegend": true,
         "text": [
          "brown sugar",
          "brown sugar",
          "brown sugar"
         ],
         "textposition": "auto",
         "type": "bar",
         "x": [
          1200000,
          1200000,
          1200000
         ],
         "xaxis": "x",
         "y": [
          "0",
          "0",
          "0"
         ],
         "yaxis": "y"
        },
        {
         "alignmentgroup": "True",
         "base": [
          "1970-01-01T00:00:00"
         ],
         "hovertemplate": "machine=field_41<br>start=%{base}<br>end=%{x}<br>job_id=%{y}<br>task_name=%{text}<extra></extra>",
         "legendgroup": "field_41",
         "marker": {
          "color": "#00cc96",
          "pattern": {
           "shape": ""
          }
         },
         "name": "field_41",
         "offsetgroup": "field_41",
         "orientation": "h",
         "showlegend": true,
         "text": [
          "sugarcane"
         ],
         "textposition": "auto",
         "type": "bar",
         "x": [
          1800000
         ],
         "xaxis": "x",
         "y": [
          "0"
         ],
         "yaxis": "y"
        },
        {
         "alignmentgroup": "True",
         "base": [
          "1970-01-01T02:00:00",
          "1970-01-01T01:30:00",
          "1970-01-01T02:30:00"
         ],
         "hovertemplate": "machine=dairy_72<br>start=%{base}<br>end=%{x}<br>job_id=%{y}<br>task_name=%{text}<extra></extra>",
         "legendgroup": "dairy_72",
         "marker": {
          "color": "#ab63fa",
          "pattern": {
           "shape": ""
          }
         },
         "name": "dairy_72",
         "offsetgroup": "dairy_72",
         "orientation": "h",
         "showlegend": true,
         "text": [
          "butter",
          "butter",
          "butter"
         ],
         "textposition": "auto",
         "type": "bar",
         "x": [
          1800000,
          1800000,
          1800000
         ],
         "xaxis": "x",
         "y": [
          "0",
          "0",
          "0"
         ],
         "yaxis": "y"
        },
        {
         "alignmentgroup": "True",
         "base": [
          "1970-01-01T00:50:00"
         ],
         "hovertemplate": "machine=cow_70<br>start=%{base}<br>end=%{x}<br>job_id=%{y}<br>task_name=%{text}<extra></extra>",
         "legendgroup": "cow_70",
         "marker": {
          "color": "#FFA15A",
          "pattern": {
           "shape": ""
          }
         },
         "name": "cow_70",
         "offsetgroup": "cow_70",
         "orientation": "h",
         "showlegend": true,
         "text": [
          "milk"
         ],
         "textposition": "auto",
         "type": "bar",
         "x": [
          3600000
         ],
         "xaxis": "x",
         "y": [
          "0"
         ],
         "yaxis": "y"
        },
        {
         "alignmentgroup": "True",
         "base": [
          "1970-01-01T00:40:00",
          "1970-01-01T00:20:00",
          "1970-01-01T00:30:00"
         ],
         "hovertemplate": "machine=feed mill_21<br>start=%{base}<br>end=%{x}<br>job_id=%{y}<br>task_name=%{text}<extra></extra>",
         "legendgroup": "feed mill_21",
         "marker": {
          "color": "#19d3f3",
          "pattern": {
           "shape": ""
          }
         },
         "name": "feed mill_21",
         "offsetgroup": "feed mill_21",
         "orientation": "h",
         "showlegend": true,
         "text": [
          "cow feed",
          "cow feed",
          "cow feed"
         ],
         "textposition": "auto",
         "type": "bar",
         "x": [
          600000,
          600000,
          600000
         ],
         "xaxis": "x",
         "y": [
          "0",
          "0",
          "0"
         ],
         "yaxis": "y"
        },
        {
         "alignmentgroup": "True",
         "base": [
          "1970-01-01T00:00:00"
         ],
         "hovertemplate": "machine=field_35<br>start=%{base}<br>end=%{x}<br>job_id=%{y}<br>task_name=%{text}<extra></extra>",
         "legendgroup": "field_35",
         "marker": {
          "color": "#FF6692",
          "pattern": {
           "shape": ""
          }
         },
         "name": "field_35",
         "offsetgroup": "field_35",
         "orientation": "h",
         "showlegend": true,
         "text": [
          "corn"
         ],
         "textposition": "auto",
         "type": "bar",
         "x": [
          300000
         ],
         "xaxis": "x",
         "y": [
          "0"
         ],
         "yaxis": "y"
        },
        {
         "alignmentgroup": "True",
         "base": [
          "1970-01-01T00:00:00"
         ],
         "hovertemplate": "machine=field_42<br>start=%{base}<br>end=%{x}<br>job_id=%{y}<br>task_name=%{text}<extra></extra>",
         "legendgroup": "field_42",
         "marker": {
          "color": "#B6E880",
          "pattern": {
           "shape": ""
          }
         },
         "name": "field_42",
         "offsetgroup": "field_42",
         "orientation": "h",
         "showlegend": true,
         "text": [
          "soybean"
         ],
         "textposition": "auto",
         "type": "bar",
         "x": [
          1200000
         ],
         "xaxis": "x",
         "y": [
          "0"
         ],
         "yaxis": "y"
        },
        {
         "alignmentgroup": "True",
         "base": [
          "1970-01-01T00:00:00"
         ],
         "hovertemplate": "machine=field_27<br>start=%{base}<br>end=%{x}<br>job_id=%{y}<br>task_name=%{text}<extra></extra>",
         "legendgroup": "field_27",
         "marker": {
          "color": "#FF97FF",
          "pattern": {
           "shape": ""
          }
         },
         "name": "field_27",
         "offsetgroup": "field_27",
         "orientation": "h",
         "showlegend": true,
         "text": [
          "carrot"
         ],
         "textposition": "auto",
         "type": "bar",
         "x": [
          600000
         ],
         "xaxis": "x",
         "y": [
          "0"
         ],
         "yaxis": "y"
        },
        {
         "alignmentgroup": "True",
         "base": [
          "1970-01-01T00:00:00"
         ],
         "hovertemplate": "machine=field_29<br>start=%{base}<br>end=%{x}<br>job_id=%{y}<br>task_name=%{text}<extra></extra>",
         "legendgroup": "field_29",
         "marker": {
          "color": "#FECB52",
          "pattern": {
           "shape": ""
          }
         },
         "name": "field_29",
         "offsetgroup": "field_29",
         "orientation": "h",
         "showlegend": true,
         "text": [
          "sugarcane"
         ],
         "textposition": "auto",
         "type": "bar",
         "x": [
          1800000
         ],
         "xaxis": "x",
         "y": [
          "0"
         ],
         "yaxis": "y"
        },
        {
         "alignmentgroup": "True",
         "base": [
          "1970-01-01T00:30:00"
         ],
         "hovertemplate": "machine=cow_68<br>start=%{base}<br>end=%{x}<br>job_id=%{y}<br>task_name=%{text}<extra></extra>",
         "legendgroup": "cow_68",
         "marker": {
          "color": "#636efa",
          "pattern": {
           "shape": ""
          }
         },
         "name": "cow_68",
         "offsetgroup": "cow_68",
         "orientation": "h",
         "showlegend": true,
         "text": [
          "milk"
         ],
         "textposition": "auto",
         "type": "bar",
         "x": [
          3600000
         ],
         "xaxis": "x",
         "y": [
          "0"
         ],
         "yaxis": "y"
        },
        {
         "alignmentgroup": "True",
         "base": [
          "1970-01-01T00:00:00"
         ],
         "hovertemplate": "machine=field_30<br>start=%{base}<br>end=%{x}<br>job_id=%{y}<br>task_name=%{text}<extra></extra>",
         "legendgroup": "field_30",
         "marker": {
          "color": "#EF553B",
          "pattern": {
           "shape": ""
          }
         },
         "name": "field_30",
         "offsetgroup": "field_30",
         "orientation": "h",
         "showlegend": true,
         "text": [
          "corn"
         ],
         "textposition": "auto",
         "type": "bar",
         "x": [
          300000
         ],
         "xaxis": "x",
         "y": [
          "0"
         ],
         "yaxis": "y"
        },
        {
         "alignmentgroup": "True",
         "base": [
          "1970-01-01T00:00:00"
         ],
         "hovertemplate": "machine=field_36<br>start=%{base}<br>end=%{x}<br>job_id=%{y}<br>task_name=%{text}<extra></extra>",
         "legendgroup": "field_36",
         "marker": {
          "color": "#00cc96",
          "pattern": {
           "shape": ""
          }
         },
         "name": "field_36",
         "offsetgroup": "field_36",
         "orientation": "h",
         "showlegend": true,
         "text": [
          "soybean"
         ],
         "textposition": "auto",
         "type": "bar",
         "x": [
          1200000
         ],
         "xaxis": "x",
         "y": [
          "0"
         ],
         "yaxis": "y"
        },
        {
         "alignmentgroup": "True",
         "base": [
          "1970-01-01T00:00:00"
         ],
         "hovertemplate": "machine=field_34<br>start=%{base}<br>end=%{x}<br>job_id=%{y}<br>task_name=%{text}<extra></extra>",
         "legendgroup": "field_34",
         "marker": {
          "color": "#ab63fa",
          "pattern": {
           "shape": ""
          }
         },
         "name": "field_34",
         "offsetgroup": "field_34",
         "orientation": "h",
         "showlegend": true,
         "text": [
          "carrot"
         ],
         "textposition": "auto",
         "type": "bar",
         "x": [
          600000
         ],
         "xaxis": "x",
         "y": [
          "0"
         ],
         "yaxis": "y"
        },
        {
         "alignmentgroup": "True",
         "base": [
          "1970-01-01T00:00:00"
         ],
         "hovertemplate": "machine=field_46<br>start=%{base}<br>end=%{x}<br>job_id=%{y}<br>task_name=%{text}<extra></extra>",
         "legendgroup": "field_46",
         "marker": {
          "color": "#FFA15A",
          "pattern": {
           "shape": ""
          }
         },
         "name": "field_46",
         "offsetgroup": "field_46",
         "orientation": "h",
         "showlegend": true,
         "text": [
          "sugarcane"
         ],
         "textposition": "auto",
         "type": "bar",
         "x": [
          1800000
         ],
         "xaxis": "x",
         "y": [
          "0"
         ],
         "yaxis": "y"
        },
        {
         "alignmentgroup": "True",
         "base": [
          "1970-01-01T00:40:00"
         ],
         "hovertemplate": "machine=cow_66<br>start=%{base}<br>end=%{x}<br>job_id=%{y}<br>task_name=%{text}<extra></extra>",
         "legendgroup": "cow_66",
         "marker": {
          "color": "#19d3f3",
          "pattern": {
           "shape": ""
          }
         },
         "name": "cow_66",
         "offsetgroup": "cow_66",
         "orientation": "h",
         "showlegend": true,
         "text": [
          "milk"
         ],
         "textposition": "auto",
         "type": "bar",
         "x": [
          3600000
         ],
         "xaxis": "x",
         "y": [
          "0"
         ],
         "yaxis": "y"
        },
        {
         "alignmentgroup": "True",
         "base": [
          "1970-01-01T00:00:00"
         ],
         "hovertemplate": "machine=field_28<br>start=%{base}<br>end=%{x}<br>job_id=%{y}<br>task_name=%{text}<extra></extra>",
         "legendgroup": "field_28",
         "marker": {
          "color": "#FF6692",
          "pattern": {
           "shape": ""
          }
         },
         "name": "field_28",
         "offsetgroup": "field_28",
         "orientation": "h",
         "showlegend": true,
         "text": [
          "corn"
         ],
         "textposition": "auto",
         "type": "bar",
         "x": [
          300000
         ],
         "xaxis": "x",
         "y": [
          "0"
         ],
         "yaxis": "y"
        },
        {
         "alignmentgroup": "True",
         "base": [
          "1970-01-01T00:00:00"
         ],
         "hovertemplate": "machine=field_33<br>start=%{base}<br>end=%{x}<br>job_id=%{y}<br>task_name=%{text}<extra></extra>",
         "legendgroup": "field_33",
         "marker": {
          "color": "#B6E880",
          "pattern": {
           "shape": ""
          }
         },
         "name": "field_33",
         "offsetgroup": "field_33",
         "orientation": "h",
         "showlegend": true,
         "text": [
          "soybean"
         ],
         "textposition": "auto",
         "type": "bar",
         "x": [
          1200000
         ],
         "xaxis": "x",
         "y": [
          "0"
         ],
         "yaxis": "y"
        },
        {
         "alignmentgroup": "True",
         "base": [
          "1970-01-01T00:00:00"
         ],
         "hovertemplate": "machine=field_31<br>start=%{base}<br>end=%{x}<br>job_id=%{y}<br>task_name=%{text}<extra></extra>",
         "legendgroup": "field_31",
         "marker": {
          "color": "#FF97FF",
          "pattern": {
           "shape": ""
          }
         },
         "name": "field_31",
         "offsetgroup": "field_31",
         "orientation": "h",
         "showlegend": true,
         "text": [
          "carrot"
         ],
         "textposition": "auto",
         "type": "bar",
         "x": [
          600000
         ],
         "xaxis": "x",
         "y": [
          "0"
         ],
         "yaxis": "y"
        }
       ],
       "layout": {
        "barmode": "overlay",
        "legend": {
         "title": {
          "text": "machine"
         },
         "tracegroupgap": 0
        },
        "template": {
         "data": {
          "bar": [
           {
            "error_x": {
             "color": "#2a3f5f"
            },
            "error_y": {
             "color": "#2a3f5f"
            },
            "marker": {
             "line": {
              "color": "#E5ECF6",
              "width": 0.5
             },
             "pattern": {
              "fillmode": "overlay",
              "size": 10,
              "solidity": 0.2
             }
            },
            "type": "bar"
           }
          ],
          "barpolar": [
           {
            "marker": {
             "line": {
              "color": "#E5ECF6",
              "width": 0.5
             },
             "pattern": {
              "fillmode": "overlay",
              "size": 10,
              "solidity": 0.2
             }
            },
            "type": "barpolar"
           }
          ],
          "carpet": [
           {
            "aaxis": {
             "endlinecolor": "#2a3f5f",
             "gridcolor": "white",
             "linecolor": "white",
             "minorgridcolor": "white",
             "startlinecolor": "#2a3f5f"
            },
            "baxis": {
             "endlinecolor": "#2a3f5f",
             "gridcolor": "white",
             "linecolor": "white",
             "minorgridcolor": "white",
             "startlinecolor": "#2a3f5f"
            },
            "type": "carpet"
           }
          ],
          "choropleth": [
           {
            "colorbar": {
             "outlinewidth": 0,
             "ticks": ""
            },
            "type": "choropleth"
           }
          ],
          "contour": [
           {
            "colorbar": {
             "outlinewidth": 0,
             "ticks": ""
            },
            "colorscale": [
             [
              0,
              "#0d0887"
             ],
             [
              0.1111111111111111,
              "#46039f"
             ],
             [
              0.2222222222222222,
              "#7201a8"
             ],
             [
              0.3333333333333333,
              "#9c179e"
             ],
             [
              0.4444444444444444,
              "#bd3786"
             ],
             [
              0.5555555555555556,
              "#d8576b"
             ],
             [
              0.6666666666666666,
              "#ed7953"
             ],
             [
              0.7777777777777778,
              "#fb9f3a"
             ],
             [
              0.8888888888888888,
              "#fdca26"
             ],
             [
              1,
              "#f0f921"
             ]
            ],
            "type": "contour"
           }
          ],
          "contourcarpet": [
           {
            "colorbar": {
             "outlinewidth": 0,
             "ticks": ""
            },
            "type": "contourcarpet"
           }
          ],
          "heatmap": [
           {
            "colorbar": {
             "outlinewidth": 0,
             "ticks": ""
            },
            "colorscale": [
             [
              0,
              "#0d0887"
             ],
             [
              0.1111111111111111,
              "#46039f"
             ],
             [
              0.2222222222222222,
              "#7201a8"
             ],
             [
              0.3333333333333333,
              "#9c179e"
             ],
             [
              0.4444444444444444,
              "#bd3786"
             ],
             [
              0.5555555555555556,
              "#d8576b"
             ],
             [
              0.6666666666666666,
              "#ed7953"
             ],
             [
              0.7777777777777778,
              "#fb9f3a"
             ],
             [
              0.8888888888888888,
              "#fdca26"
             ],
             [
              1,
              "#f0f921"
             ]
            ],
            "type": "heatmap"
           }
          ],
          "heatmapgl": [
           {
            "colorbar": {
             "outlinewidth": 0,
             "ticks": ""
            },
            "colorscale": [
             [
              0,
              "#0d0887"
             ],
             [
              0.1111111111111111,
              "#46039f"
             ],
             [
              0.2222222222222222,
              "#7201a8"
             ],
             [
              0.3333333333333333,
              "#9c179e"
             ],
             [
              0.4444444444444444,
              "#bd3786"
             ],
             [
              0.5555555555555556,
              "#d8576b"
             ],
             [
              0.6666666666666666,
              "#ed7953"
             ],
             [
              0.7777777777777778,
              "#fb9f3a"
             ],
             [
              0.8888888888888888,
              "#fdca26"
             ],
             [
              1,
              "#f0f921"
             ]
            ],
            "type": "heatmapgl"
           }
          ],
          "histogram": [
           {
            "marker": {
             "pattern": {
              "fillmode": "overlay",
              "size": 10,
              "solidity": 0.2
             }
            },
            "type": "histogram"
           }
          ],
          "histogram2d": [
           {
            "colorbar": {
             "outlinewidth": 0,
             "ticks": ""
            },
            "colorscale": [
             [
              0,
              "#0d0887"
             ],
             [
              0.1111111111111111,
              "#46039f"
             ],
             [
              0.2222222222222222,
              "#7201a8"
             ],
             [
              0.3333333333333333,
              "#9c179e"
             ],
             [
              0.4444444444444444,
              "#bd3786"
             ],
             [
              0.5555555555555556,
              "#d8576b"
             ],
             [
              0.6666666666666666,
              "#ed7953"
             ],
             [
              0.7777777777777778,
              "#fb9f3a"
             ],
             [
              0.8888888888888888,
              "#fdca26"
             ],
             [
              1,
              "#f0f921"
             ]
            ],
            "type": "histogram2d"
           }
          ],
          "histogram2dcontour": [
           {
            "colorbar": {
             "outlinewidth": 0,
             "ticks": ""
            },
            "colorscale": [
             [
              0,
              "#0d0887"
             ],
             [
              0.1111111111111111,
              "#46039f"
             ],
             [
              0.2222222222222222,
              "#7201a8"
             ],
             [
              0.3333333333333333,
              "#9c179e"
             ],
             [
              0.4444444444444444,
              "#bd3786"
             ],
             [
              0.5555555555555556,
              "#d8576b"
             ],
             [
              0.6666666666666666,
              "#ed7953"
             ],
             [
              0.7777777777777778,
              "#fb9f3a"
             ],
             [
              0.8888888888888888,
              "#fdca26"
             ],
             [
              1,
              "#f0f921"
             ]
            ],
            "type": "histogram2dcontour"
           }
          ],
          "mesh3d": [
           {
            "colorbar": {
             "outlinewidth": 0,
             "ticks": ""
            },
            "type": "mesh3d"
           }
          ],
          "parcoords": [
           {
            "line": {
             "colorbar": {
              "outlinewidth": 0,
              "ticks": ""
             }
            },
            "type": "parcoords"
           }
          ],
          "pie": [
           {
            "automargin": true,
            "type": "pie"
           }
          ],
          "scatter": [
           {
            "fillpattern": {
             "fillmode": "overlay",
             "size": 10,
             "solidity": 0.2
            },
            "type": "scatter"
           }
          ],
          "scatter3d": [
           {
            "line": {
             "colorbar": {
              "outlinewidth": 0,
              "ticks": ""
             }
            },
            "marker": {
             "colorbar": {
              "outlinewidth": 0,
              "ticks": ""
             }
            },
            "type": "scatter3d"
           }
          ],
          "scattercarpet": [
           {
            "marker": {
             "colorbar": {
              "outlinewidth": 0,
              "ticks": ""
             }
            },
            "type": "scattercarpet"
           }
          ],
          "scattergeo": [
           {
            "marker": {
             "colorbar": {
              "outlinewidth": 0,
              "ticks": ""
             }
            },
            "type": "scattergeo"
           }
          ],
          "scattergl": [
           {
            "marker": {
             "colorbar": {
              "outlinewidth": 0,
              "ticks": ""
             }
            },
            "type": "scattergl"
           }
          ],
          "scattermapbox": [
           {
            "marker": {
             "colorbar": {
              "outlinewidth": 0,
              "ticks": ""
             }
            },
            "type": "scattermapbox"
           }
          ],
          "scatterpolar": [
           {
            "marker": {
             "colorbar": {
              "outlinewidth": 0,
              "ticks": ""
             }
            },
            "type": "scatterpolar"
           }
          ],
          "scatterpolargl": [
           {
            "marker": {
             "colorbar": {
              "outlinewidth": 0,
              "ticks": ""
             }
            },
            "type": "scatterpolargl"
           }
          ],
          "scatterternary": [
           {
            "marker": {
             "colorbar": {
              "outlinewidth": 0,
              "ticks": ""
             }
            },
            "type": "scatterternary"
           }
          ],
          "surface": [
           {
            "colorbar": {
             "outlinewidth": 0,
             "ticks": ""
            },
            "colorscale": [
             [
              0,
              "#0d0887"
             ],
             [
              0.1111111111111111,
              "#46039f"
             ],
             [
              0.2222222222222222,
              "#7201a8"
             ],
             [
              0.3333333333333333,
              "#9c179e"
             ],
             [
              0.4444444444444444,
              "#bd3786"
             ],
             [
              0.5555555555555556,
              "#d8576b"
             ],
             [
              0.6666666666666666,
              "#ed7953"
             ],
             [
              0.7777777777777778,
              "#fb9f3a"
             ],
             [
              0.8888888888888888,
              "#fdca26"
             ],
             [
              1,
              "#f0f921"
             ]
            ],
            "type": "surface"
           }
          ],
          "table": [
           {
            "cells": {
             "fill": {
              "color": "#EBF0F8"
             },
             "line": {
              "color": "white"
             }
            },
            "header": {
             "fill": {
              "color": "#C8D4E3"
             },
             "line": {
              "color": "white"
             }
            },
            "type": "table"
           }
          ]
         },
         "layout": {
          "annotationdefaults": {
           "arrowcolor": "#2a3f5f",
           "arrowhead": 0,
           "arrowwidth": 1
          },
          "autotypenumbers": "strict",
          "coloraxis": {
           "colorbar": {
            "outlinewidth": 0,
            "ticks": ""
           }
          },
          "colorscale": {
           "diverging": [
            [
             0,
             "#8e0152"
            ],
            [
             0.1,
             "#c51b7d"
            ],
            [
             0.2,
             "#de77ae"
            ],
            [
             0.3,
             "#f1b6da"
            ],
            [
             0.4,
             "#fde0ef"
            ],
            [
             0.5,
             "#f7f7f7"
            ],
            [
             0.6,
             "#e6f5d0"
            ],
            [
             0.7,
             "#b8e186"
            ],
            [
             0.8,
             "#7fbc41"
            ],
            [
             0.9,
             "#4d9221"
            ],
            [
             1,
             "#276419"
            ]
           ],
           "sequential": [
            [
             0,
             "#0d0887"
            ],
            [
             0.1111111111111111,
             "#46039f"
            ],
            [
             0.2222222222222222,
             "#7201a8"
            ],
            [
             0.3333333333333333,
             "#9c179e"
            ],
            [
             0.4444444444444444,
             "#bd3786"
            ],
            [
             0.5555555555555556,
             "#d8576b"
            ],
            [
             0.6666666666666666,
             "#ed7953"
            ],
            [
             0.7777777777777778,
             "#fb9f3a"
            ],
            [
             0.8888888888888888,
             "#fdca26"
            ],
            [
             1,
             "#f0f921"
            ]
           ],
           "sequentialminus": [
            [
             0,
             "#0d0887"
            ],
            [
             0.1111111111111111,
             "#46039f"
            ],
            [
             0.2222222222222222,
             "#7201a8"
            ],
            [
             0.3333333333333333,
             "#9c179e"
            ],
            [
             0.4444444444444444,
             "#bd3786"
            ],
            [
             0.5555555555555556,
             "#d8576b"
            ],
            [
             0.6666666666666666,
             "#ed7953"
            ],
            [
             0.7777777777777778,
             "#fb9f3a"
            ],
            [
             0.8888888888888888,
             "#fdca26"
            ],
            [
             1,
             "#f0f921"
            ]
           ]
          },
          "colorway": [
           "#636efa",
           "#EF553B",
           "#00cc96",
           "#ab63fa",
           "#FFA15A",
           "#19d3f3",
           "#FF6692",
           "#B6E880",
           "#FF97FF",
           "#FECB52"
          ],
          "font": {
           "color": "#2a3f5f"
          },
          "geo": {
           "bgcolor": "white",
           "lakecolor": "white",
           "landcolor": "#E5ECF6",
           "showlakes": true,
           "showland": true,
           "subunitcolor": "white"
          },
          "hoverlabel": {
           "align": "left"
          },
          "hovermode": "closest",
          "mapbox": {
           "style": "light"
          },
          "paper_bgcolor": "white",
          "plot_bgcolor": "#E5ECF6",
          "polar": {
           "angularaxis": {
            "gridcolor": "white",
            "linecolor": "white",
            "ticks": ""
           },
           "bgcolor": "#E5ECF6",
           "radialaxis": {
            "gridcolor": "white",
            "linecolor": "white",
            "ticks": ""
           }
          },
          "scene": {
           "xaxis": {
            "backgroundcolor": "#E5ECF6",
            "gridcolor": "white",
            "gridwidth": 2,
            "linecolor": "white",
            "showbackground": true,
            "ticks": "",
            "zerolinecolor": "white"
           },
           "yaxis": {
            "backgroundcolor": "#E5ECF6",
            "gridcolor": "white",
            "gridwidth": 2,
            "linecolor": "white",
            "showbackground": true,
            "ticks": "",
            "zerolinecolor": "white"
           },
           "zaxis": {
            "backgroundcolor": "#E5ECF6",
            "gridcolor": "white",
            "gridwidth": 2,
            "linecolor": "white",
            "showbackground": true,
            "ticks": "",
            "zerolinecolor": "white"
           }
          },
          "shapedefaults": {
           "line": {
            "color": "#2a3f5f"
           }
          },
          "ternary": {
           "aaxis": {
            "gridcolor": "white",
            "linecolor": "white",
            "ticks": ""
           },
           "baxis": {
            "gridcolor": "white",
            "linecolor": "white",
            "ticks": ""
           },
           "bgcolor": "#E5ECF6",
           "caxis": {
            "gridcolor": "white",
            "linecolor": "white",
            "ticks": ""
           }
          },
          "title": {
           "x": 0.05
          },
          "xaxis": {
           "automargin": true,
           "gridcolor": "white",
           "linecolor": "white",
           "ticks": "",
           "title": {
            "standoff": 15
           },
           "zerolinecolor": "white",
           "zerolinewidth": 2
          },
          "yaxis": {
           "automargin": true,
           "gridcolor": "white",
           "linecolor": "white",
           "ticks": "",
           "title": {
            "standoff": 15
           },
           "zerolinecolor": "white",
           "zerolinewidth": 2
          }
         }
        },
        "title": {
         "text": "Job Schedule"
        },
        "xaxis": {
         "anchor": "y",
         "domain": [
          0,
          1
         ],
         "tickformat": "%H:%M:%S",
         "type": "date"
        },
        "yaxis": {
         "anchor": "x",
         "domain": [
          0,
          1
         ],
         "title": {
          "text": "job_id"
         }
        }
       }
      }
     },
     "metadata": {},
     "output_type": "display_data"
    }
   ],
   "source": [
    "import plotly.express as px\n",
    "import plotly\n",
    "\n",
    "chart1 = px.timeline(df, x_start=\"start\", x_end=\"end\", y=\"machine\", color=\"job_id\", title=\"Machine Schedule\",\n",
    "                     text=\"task_name\",\n",
    "                        category_orders={\"machine\": sorted(list(df[\"machine\"].unique()))}\n",
    "                     )\n",
    "# hide date only show time\n",
    "chart1.update_xaxes(type='date', tickformat='%H:%M:%S')\n",
    "chart1.show()\n",
    "\n",
    "chart2 = px.timeline(df, x_start=\"start\", x_end=\"end\", y=\"job_id\", color=\"machine\", title=\"Job Schedule\",\n",
    "                     text=\"task_name\",\n",
    "                      \n",
    "                     )\n",
    "chart2.update_xaxes(type='date', tickformat='%H:%M:%S')\n",
    "chart2.show()"
   ]
  }
 ],
 "metadata": {
  "kernelspec": {
   "display_name": "me",
   "language": "python",
   "name": "python3"
  },
  "language_info": {
   "codemirror_mode": {
    "name": "ipython",
    "version": 3
   },
   "file_extension": ".py",
   "mimetype": "text/x-python",
   "name": "python",
   "nbconvert_exporter": "python",
   "pygments_lexer": "ipython3",
   "version": "3.8.19"
  }
 },
 "nbformat": 4,
 "nbformat_minor": 2
}
