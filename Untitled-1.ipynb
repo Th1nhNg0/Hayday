{
 "cells": [
  {
   "cell_type": "code",
   "execution_count": 107,
   "metadata": {},
   "outputs": [
    {
     "name": "stdout",
     "output_type": "stream",
     "text": [
      "Solution 0, time = 0.345874 s, objective = 943812\n",
      "Solution 1, time = 0.349795 s, objective = 205488\n",
      "Solution 2, time = 0.599078 s, objective = 146544\n",
      "Solution 3, time = 0.634666 s, objective = 146244\n",
      "Solution 4, time = 0.994214 s, objective = 139878\n",
      "Solution 5, time = 1.190217 s, objective = 136752\n",
      "Solution 6, time = 1.476004 s, objective = 135912\n",
      "Solution 7, time = 1.809553 s, objective = 135894\n",
      "Solution 8, time = 2.174770 s, objective = 135745\n",
      "Solution 9, time = 2.429562 s, objective = 132724\n",
      "Solution 10, time = 2.477322 s, objective = 132721\n",
      "Solution 11, time = 2.838212 s, objective = 132708\n",
      "Solution 12, time = 3.267273 s, objective = 132642\n",
      "Solution 13, time = 3.329014 s, objective = 132600\n",
      "Solution 14, time = 3.547007 s, objective = 132588\n",
      "Solution 15, time = 3.802282 s, objective = 132414\n",
      "Solution 16, time = 3.899742 s, objective = 131994\n",
      "Solution 17, time = 4.443697 s, objective = 131850\n",
      "Solution 18, time = 5.027874 s, objective = 131610\n",
      "Solution 19, time = 5.199755 s, objective = 131562\n",
      "Solution 20, time = 5.583470 s, objective = 131544\n",
      "Solution 21, time = 8.116451 s, objective = 131490\n",
      "Solution 22, time = 8.439156 s, objective = 131328\n",
      "Solution 23, time = 9.024798 s, objective = 131232\n",
      "Solution 24, time = 9.477915 s, objective = 131171\n",
      "Solution 25, time = 9.506194 s, objective = 131142\n",
      "Solution 26, time = 9.919291 s, objective = 130962\n",
      "Solution 27, time = 13.221084 s, objective = 130512\n",
      "Solution 28, time = 15.170165 s, objective = 130332\n",
      "Solution 29, time = 15.341086 s, objective = 130284\n",
      "Solution 30, time = 16.037705 s, objective = 130272\n",
      "Solution 31, time = 16.731629 s, objective = 130182\n",
      "Solution 32, time = 17.015814 s, objective = 130164\n",
      "Solution 33, time = 18.665595 s, objective = 130158\n",
      "Solution 34, time = 19.044695 s, objective = 130134\n",
      "Solution 35, time = 19.626111 s, objective = 130122\n",
      "Solution 36, time = 21.015626 s, objective = 130062\n",
      "Solution 37, time = 21.473745 s, objective = 130038\n",
      "Solution 38, time = 30.556011 s, objective = 129918\n",
      "Solution 39, time = 34.629403 s, objective = 129876\n",
      "Solution 40, time = 50.709075 s, objective = 129864\n",
      "\n",
      "solve status: FEASIBLE\n",
      "Optimal objective value: 129864\n",
      "Statistics\n",
      "  - conflicts : 0\n",
      "  - branches  : 6385\n",
      "  - wall time : 60.599340 s\n"
     ]
    }
   ],
   "source": [
    "from ortools.sat.python import cp_model\n",
    "import collections\n",
    "import json \n",
    "\n",
    "class SolutionPrinter(cp_model.CpSolverSolutionCallback):\n",
    "    \"\"\"Print intermediate solutions.\"\"\"\n",
    "\n",
    "    def __init__(self):\n",
    "        cp_model.CpSolverSolutionCallback.__init__(self)\n",
    "        self.__solution_count = 0\n",
    "\n",
    "    def on_solution_callback(self):\n",
    "        \"\"\"Called at each new solution.\"\"\"\n",
    "        print(\n",
    "            \"Solution %i, time = %f s, objective = %i\"\n",
    "            % (self.__solution_count, self.wall_time, self.objective_value)\n",
    "        )\n",
    "        self.__solution_count += 1\n",
    "\n",
    "\n",
    "task_type = collections.namedtuple(\"task_type\", \"start end interval machine\")\n",
    "\n",
    "\n",
    "data = json.load(open(\"hayday_tasks.json\"))\n",
    "source_id = data[\"machine\"]\n",
    "machine_len = sum(len(source_id[machine_id]) for machine_id in source_id)\n",
    "tasks = data[\"tasks\"]\n",
    "\n",
    "duration = {task['id']: task['duration'] for task in tasks}\n",
    "horizon = sum(task['duration'] for task in tasks)\n",
    "times = range(horizon)\n",
    "\n",
    "model = cp_model.CpModel()\n",
    "\n",
    "all_tasks = {}\n",
    "intervals_per_resources = collections.defaultdict(list)\n",
    "\n",
    "for task in tasks:\n",
    "    start_var = model.new_int_var(0, horizon, 'start_%i' % task['id'])\n",
    "    end_var = model.new_int_var(0, horizon, 'end_%i' % task['id'])\n",
    "    interval_var = model.new_interval_var(start_var, duration[task['id']], end_var, 'interval_%i' % task['id'])\n",
    "    machine_var = model.new_int_var_from_domain(cp_model.Domain.FromValues(task['machine']), 'machine_%i' % task['id'])\n",
    "    all_tasks[task['id']] = task_type(\n",
    "        start=start_var, end=end_var, interval=interval_var, machine=machine_var,\n",
    "    )\n",
    "\n",
    "    if len(task['machine']) == 1:\n",
    "        intervals_per_resources[task['machine'][0]].append(interval_var)\n",
    "    else:\n",
    "        l_presences = []\n",
    "        for machine_id in task['machine']:\n",
    "            l_presence = model.new_bool_var('presence_%i_%i' % (task['id'], machine_id))\n",
    "            l_start = model.new_int_var(0, horizon, 'start_%i_%i' % (task['id'], machine_id))\n",
    "            l_end = model.new_int_var(0, horizon, 'end_%i_%i' % (task['id'], machine_id))   \n",
    "            l_interval = model.new_optional_interval_var(l_start, duration[task['id']], l_end, l_presence, 'interval_%i_%i' % (task['id'], machine_id))\n",
    "            l_presences.append(l_presence)\n",
    "\n",
    "            model.add(start_var == l_start).only_enforce_if(l_presence)\n",
    "            model.add(end_var == l_end).only_enforce_if(l_presence)\n",
    "            model.add(machine_var == machine_id).only_enforce_if(l_presence)\n",
    "            \n",
    "            intervals_per_resources[machine_id].append(l_interval)\n",
    "        model.add_exactly_one(l_presences)\n",
    "\n",
    "for machine_id in range(1,machine_len+1):\n",
    "    intervals = intervals_per_resources[machine_id]\n",
    "    if len(intervals) > 1:\n",
    "        model.add_no_overlap(intervals)\n",
    "\n",
    "for task in tasks:\n",
    "    for dependency in task['dependent']:\n",
    "        model.Add(all_tasks[task['id']].start >= all_tasks[dependency].end)\n",
    "\n",
    "\n",
    "\n",
    "obj_var = model.new_int_var(0, horizon, 'makespan')\n",
    "model.add_max_equality(obj_var, [all_tasks[task['id']].end for task in tasks])\n",
    "model.minimize(obj_var+sum(all_tasks[task['id']].end for task in tasks)*0.01)\n",
    "\n",
    "solver = cp_model.CpSolver()\n",
    "solver.parameters.max_time_in_seconds = 30\n",
    "solution_printer = SolutionPrinter()\n",
    "status = solver.solve(model,solution_printer)\n",
    "print()\n",
    "print(\"solve status: %s\" % solver.status_name(status))\n",
    "print(\"Optimal objective value: %i\" % solver.objective_value)\n",
    "print(\"Statistics\")\n",
    "print(\"  - conflicts : %i\" % solver.num_conflicts)\n",
    "print(\"  - branches  : %i\" % solver.num_branches)\n",
    "print(\"  - wall time : %f s\" % solver.wall_time)"
   ]
  },
  {
   "cell_type": "code",
   "execution_count": 103,
   "metadata": {},
   "outputs": [],
   "source": [
    "import pandas as pd\n",
    "data = []\n",
    "for task in tasks:\n",
    "    task_id = task['id']\n",
    "    task_name = task['name']\n",
    "    start = solver.Value(all_tasks[task_id].start)\n",
    "    end = solver.Value(all_tasks[task_id].end)\n",
    "    machine = solver.Value(all_tasks[task_id].machine)\n",
    "    job_id = task['job_id']\n",
    "    # machine name = source_id + machine \n",
    "    # source name\n",
    "    for source in source_id:\n",
    "        if machine in source_id[source]:\n",
    "            machine = source +'_'+ str(machine)\n",
    "            break\n",
    "    data.append([ task_name, start, end, machine, job_id])\n",
    "\n",
    "df = pd.DataFrame(data, columns=[ \"task_name\", \"start\", \"end\", \"machine\", \"job_id\"])\n",
    "df['job_id'] = df['job_id'].astype(str)"
   ]
  },
  {
   "cell_type": "code",
   "execution_count": 104,
   "metadata": {},
   "outputs": [],
   "source": [
    "df[\"start\"] = pd.to_datetime(df[\"start\"], unit=\"s\")\n",
    "df[\"end\"] = pd.to_datetime(df[\"end\"], unit=\"s\")"
   ]
  },
  {
   "cell_type": "code",
   "execution_count": 106,
   "metadata": {},
   "outputs": [
    {
     "data": {
      "application/vnd.plotly.v1+json": {
       "config": {
        "plotlyServerURL": "https://plot.ly"
       },
       "data": [
        {
         "alignmentgroup": "True",
         "base": [
          "1970-01-01T10:20:00",
          "1970-01-01T02:30:00",
          "1970-01-01T00:00:00",
          "1970-01-01T04:20:00",
          "1970-01-01T03:50:00",
          "1970-01-01T00:00:00",
          "1970-01-01T00:20:00",
          "1970-01-01T06:00:00",
          "1970-01-01T05:40:00",
          "1970-01-01T04:40:00",
          "1970-01-01T03:40:00",
          "1970-01-01T00:25:00",
          "1970-01-01T00:00:00",
          "1970-01-01T03:40:00",
          "1970-01-01T03:30:00",
          "1970-01-01T00:20:00",
          "1970-01-01T00:00:00",
          "1970-01-01T04:10:00",
          "1970-01-01T00:30:00"
         ],
         "hovertemplate": "job_id=0<br>start=%{base}<br>end=%{x}<br>machine=%{y}<br>task_name=%{text}<extra></extra>",
         "legendgroup": "0",
         "marker": {
          "color": "#636efa",
          "pattern": {
           "shape": ""
          }
         },
         "name": "0",
         "offsetgroup": "0",
         "orientation": "h",
         "showlegend": true,
         "text": [
          "wooly chaps",
          "cotton fabric",
          "cotton",
          "wool",
          "sheep feed",
          "soybean",
          "wheat",
          "vanilla ice cream",
          "cream",
          "milk",
          "cow feed",
          "corn",
          "soybean",
          "milk",
          "cow feed",
          "corn",
          "soybean",
          "white sugar",
          "sugarcane"
         ],
         "textposition": "auto",
         "type": "bar",
         "x": [
          5400000,
          1800000,
          9000000,
          21600000,
          1800000,
          1200000,
          120000,
          7200000,
          1200000,
          3600000,
          600000,
          300000,
          1200000,
          3600000,
          600000,
          300000,
          1200000,
          2400000,
          1800000
         ],
         "xaxis": "x",
         "y": [
          "sewing machine_77",
          "loom_47",
          "field_32",
          "sheep_55",
          "feed mill_21",
          "field_28",
          "field_30",
          "ice cream maker_88",
          "dairy_72",
          "cow_71",
          "feed mill_21",
          "field_39",
          "field_30",
          "cow_71",
          "feed mill_21",
          "field_39",
          "field_34",
          "sugar mill_63",
          "field_44"
         ],
         "yaxis": "y"
        },
        {
         "alignmentgroup": "True",
         "base": [
          "1970-01-01T04:40:00",
          "1970-01-01T04:35:00",
          "1970-01-01T05:07:00",
          "1970-01-01T00:24:00",
          "1970-01-01T05:17:00",
          "1970-01-01T04:30:00",
          "1970-01-01T05:02:00",
          "1970-01-01T00:42:00",
          "1970-01-01T01:00:00",
          "1970-01-01T06:22:00",
          "1970-01-01T02:30:00",
          "1970-01-01T02:52:00",
          "1970-01-01T00:44:00",
          "1970-01-01T02:30:00",
          "1970-01-01T00:25:00",
          "1970-01-01T00:12:00",
          "1970-01-01T00:34:00",
          "1970-01-01T02:35:00",
          "1970-01-01T00:29:00",
          "1970-01-01T00:39:00",
          "1970-01-01T05:12:00",
          "1970-01-01T02:35:00"
         ],
         "hovertemplate": "job_id=1<br>start=%{base}<br>end=%{x}<br>machine=%{y}<br>task_name=%{text}<extra></extra>",
         "legendgroup": "1",
         "marker": {
          "color": "#EF553B",
          "pattern": {
           "shape": ""
          }
         },
         "name": "1",
         "offsetgroup": "1",
         "orientation": "h",
         "showlegend": true,
         "text": [
          "corn",
          "corn",
          "corn",
          "corn",
          "corn",
          "corn",
          "corn",
          "corn",
          "corn",
          "corn",
          "corn",
          "corn",
          "corn",
          "corn",
          "corn",
          "corn",
          "corn",
          "corn",
          "corn",
          "corn",
          "corn",
          "corn"
         ],
         "textposition": "auto",
         "type": "bar",
         "x": [
          300000,
          300000,
          300000,
          300000,
          300000,
          300000,
          300000,
          300000,
          300000,
          300000,
          300000,
          300000,
          300000,
          300000,
          300000,
          300000,
          300000,
          300000,
          300000,
          300000,
          300000,
          300000
         ],
         "xaxis": "x",
         "y": [
          "field_39",
          "field_39",
          "field_37",
          "field_29",
          "field_37",
          "field_39",
          "field_37",
          "field_42",
          "field_44",
          "field_30",
          "field_32",
          "field_28",
          "field_29",
          "field_33",
          "field_40",
          "field_35",
          "field_29",
          "field_33",
          "field_29",
          "field_29",
          "field_37",
          "field_32"
         ],
         "yaxis": "y"
        },
        {
         "alignmentgroup": "True",
         "base": [
          "1970-01-01T02:30:00",
          "1970-01-01T00:00:00",
          "1970-01-01T09:50:00",
          "1970-01-01T03:30:00",
          "1970-01-01T03:00:00",
          "1970-01-01T00:00:00",
          "1970-01-01T00:10:00",
          "1970-01-01T07:52:00",
          "1970-01-01T03:00:00",
          "1970-01-01T02:40:00",
          "1970-01-01T00:17:00",
          "1970-01-01T00:00:00",
          "1970-01-01T04:35:00",
          "1970-01-01T02:50:00"
         ],
         "hovertemplate": "job_id=2<br>start=%{base}<br>end=%{x}<br>machine=%{y}<br>task_name=%{text}<extra></extra>",
         "legendgroup": "2",
         "marker": {
          "color": "#00cc96",
          "pattern": {
           "shape": ""
          }
         },
         "name": "2",
         "offsetgroup": "2",
         "orientation": "h",
         "showlegend": true,
         "text": [
          "apple juice",
          "apple",
          "sweater",
          "wool",
          "sheep feed",
          "soybean",
          "wheat",
          "hamburger",
          "bacon",
          "pig feed",
          "carrot",
          "soybean",
          "bread",
          "wheat"
         ],
         "textposition": "auto",
         "type": "bar",
         "x": [
          7200000,
          0,
          7200000,
          21600000,
          1800000,
          1200000,
          120000,
          7200000,
          14400000,
          1200000,
          600000,
          1200000,
          300000,
          120000
         ],
         "xaxis": "x",
         "y": [
          "juice press_25",
          "apple tree_24",
          "loom_47",
          "sheep_57",
          "feed mill_21",
          "field_43",
          "field_35",
          "bbq grill_114",
          "pig_113",
          "feed mill_21",
          "field_37",
          "field_39",
          "bakery_17",
          "field_28"
         ],
         "yaxis": "y"
        },
        {
         "alignmentgroup": "True",
         "base": [
          "1970-01-01T00:00:00",
          "1970-01-01T06:22:00",
          "1970-01-01T00:22:00",
          "1970-01-01T04:00:00",
          "1970-01-01T00:20:00",
          "1970-01-01T00:20:00"
         ],
         "hovertemplate": "job_id=3<br>start=%{base}<br>end=%{x}<br>machine=%{y}<br>task_name=%{text}<extra></extra>",
         "legendgroup": "3",
         "marker": {
          "color": "#ab63fa",
          "pattern": {
           "shape": ""
          }
         },
         "name": "3",
         "offsetgroup": "3",
         "orientation": "h",
         "showlegend": true,
         "text": [
          "coffee bean",
          "roasted tomatoes",
          "tomato",
          "fish and chips",
          "potato",
          "cotton"
         ],
         "textposition": "auto",
         "type": "bar",
         "x": [
          0,
          5400000,
          21600000,
          5400000,
          13200000,
          9000000
         ],
         "xaxis": "x",
         "y": [
          "coffee bush_62",
          "bbq grill_114",
          "field_30",
          "bbq grill_114",
          "field_43",
          "field_28"
         ],
         "yaxis": "y"
        },
        {
         "alignmentgroup": "True",
         "base": [
          "1970-01-01T00:57:00",
          "1970-01-01T10:20:00",
          "1970-01-01T02:20:00",
          "1970-01-01T01:40:00",
          "1970-01-01T00:00:00",
          "1970-01-01T00:12:00",
          "1970-01-01T00:00:00",
          "1970-01-01T09:50:00",
          "1970-01-01T00:30:00",
          "1970-01-01T04:57:00",
          "1970-01-01T06:50:00",
          "1970-01-01T00:30:00",
          "1970-01-01T00:50:00",
          "1970-01-01T00:20:00",
          "1970-01-01T00:00:00",
          "1970-01-01T00:00:00",
          "1970-01-01T04:10:00",
          "1970-01-01T00:00:00",
          "1970-01-01T01:25:00",
          "1970-01-01T01:15:00",
          "1970-01-01T00:05:00",
          "1970-01-01T00:10:00",
          "1970-01-01T02:40:00",
          "1970-01-01T00:00:00",
          "1970-01-01T00:00:00"
         ],
         "hovertemplate": "job_id=4<br>start=%{base}<br>end=%{x}<br>machine=%{y}<br>task_name=%{text}<extra></extra>",
         "legendgroup": "4",
         "marker": {
          "color": "#FFA15A",
          "pattern": {
           "shape": ""
          }
         },
         "name": "4",
         "offsetgroup": "4",
         "orientation": "h",
         "showlegend": true,
         "text": [
          "chili pepper",
          "goat cheese",
          "goat milk",
          "goat feed",
          "carrot",
          "corn",
          "wheat",
          "chili popcorn",
          "chili pepper",
          "corn",
          "blue sweater",
          "indigo",
          "wool",
          "sheep feed",
          "soybean",
          "wheat",
          "apple pie",
          "apple",
          "egg",
          "chicken feed",
          "corn",
          "wheat",
          "syrup",
          "sugarcane",
          "wheat"
         ],
         "textposition": "auto",
         "type": "bar",
         "x": [
          14400000,
          5400000,
          28800000,
          2400000,
          600000,
          300000,
          120000,
          7200000,
          14400000,
          300000,
          10800000,
          7200000,
          21600000,
          1800000,
          1200000,
          120000,
          9000000,
          0,
          1200000,
          300000,
          300000,
          120000,
          5400000,
          1800000,
          120000
         ],
         "xaxis": "x",
         "y": [
          "field_37",
          "dairy_72",
          "goat_7",
          "feed mill_21",
          "field_35",
          "field_37",
          "field_38",
          "popcorn pot_18",
          "field_39",
          "field_37",
          "loom_47",
          "field_33",
          "sheep_58",
          "feed mill_21",
          "field_46",
          "field_29",
          "pie oven_3",
          "apple tree_24",
          "chicken_90",
          "feed mill_21",
          "field_37",
          "field_37",
          "sugar mill_63",
          "field_42",
          "field_31"
         ],
         "yaxis": "y"
        },
        {
         "alignmentgroup": "True",
         "base": [
          "1970-01-01T04:00:00",
          "1970-01-01T02:20:00",
          "1970-01-01T00:27:00",
          "1970-01-01T03:00:00",
          "1970-01-01T02:00:00",
          "1970-01-01T01:05:00",
          "1970-01-01T00:20:00",
          "1970-01-01T00:02:00",
          "1970-01-01T00:32:00",
          "1970-01-01T01:25:00",
          "1970-01-01T01:05:00",
          "1970-01-01T01:00:00",
          "1970-01-01T00:00:00",
          "1970-01-01T00:22:00",
          "1970-01-01T00:30:00"
         ],
         "hovertemplate": "job_id=5<br>start=%{base}<br>end=%{x}<br>machine=%{y}<br>task_name=%{text}<extra></extra>",
         "legendgroup": "5",
         "marker": {
          "color": "#19d3f3",
          "pattern": {
           "shape": ""
          }
         },
         "name": "5",
         "offsetgroup": "5",
         "orientation": "h",
         "showlegend": true,
         "text": [
          "carrot cake",
          "brown sugar",
          "sugarcane",
          "butter",
          "milk",
          "cow feed",
          "corn",
          "soybean",
          "carrot",
          "fish pie",
          "egg",
          "chicken feed",
          "corn",
          "wheat",
          "wheat"
         ],
         "textposition": "auto",
         "type": "bar",
         "x": [
          5400000,
          1200000,
          1800000,
          1800000,
          3600000,
          600000,
          300000,
          1200000,
          600000,
          7200000,
          1200000,
          300000,
          300000,
          120000,
          120000
         ],
         "xaxis": "x",
         "y": [
          "cake oven_94",
          "sugar mill_63",
          "field_37",
          "dairy_72",
          "cow_71",
          "feed mill_21",
          "field_40",
          "field_29",
          "field_42",
          "pie oven_3",
          "chicken_90",
          "feed mill_21",
          "field_36",
          "field_29",
          "field_42"
         ],
         "yaxis": "y"
        },
        {
         "alignmentgroup": "True",
         "base": [
          "1970-01-01T00:00:00",
          "1970-01-01T02:30:00",
          "1970-01-01T02:00:00",
          "1970-01-01T00:00:00",
          "1970-01-01T02:00:00",
          "1970-01-01T01:00:00",
          "1970-01-01T00:50:00",
          "1970-01-01T00:00:00",
          "1970-01-01T00:00:00",
          "1970-01-01T00:00:00"
         ],
         "hovertemplate": "job_id=6<br>start=%{base}<br>end=%{x}<br>machine=%{y}<br>task_name=%{text}<extra></extra>",
         "legendgroup": "6",
         "marker": {
          "color": "#FF6692",
          "pattern": {
           "shape": ""
          }
         },
         "name": "6",
         "offsetgroup": "6",
         "orientation": "h",
         "showlegend": true,
         "text": [
          "cherry",
          "carrot cake",
          "brown sugar",
          "sugarcane",
          "butter",
          "milk",
          "cow feed",
          "corn",
          "soybean",
          "carrot"
         ],
         "textposition": "auto",
         "type": "bar",
         "x": [
          0,
          5400000,
          1200000,
          1800000,
          1800000,
          3600000,
          600000,
          300000,
          1200000,
          600000
         ],
         "xaxis": "x",
         "y": [
          "cherry tree_87",
          "cake oven_94",
          "sugar mill_63",
          "field_44",
          "dairy_72",
          "cow_71",
          "feed mill_21",
          "field_37",
          "field_40",
          "field_27"
         ],
         "yaxis": "y"
        },
        {
         "alignmentgroup": "True",
         "base": [
          "1970-01-01T02:30:00",
          "1970-01-01T00:00:00",
          "1970-01-01T00:00:00",
          "1970-01-01T00:30:00",
          "1970-01-01T00:00:00"
         ],
         "hovertemplate": "job_id=7<br>start=%{base}<br>end=%{x}<br>machine=%{y}<br>task_name=%{text}<extra></extra>",
         "legendgroup": "7",
         "marker": {
          "color": "#B6E880",
          "pattern": {
           "shape": ""
          }
         },
         "name": "7",
         "offsetgroup": "7",
         "orientation": "h",
         "showlegend": true,
         "text": [
          "cherry popsicle",
          "cherry juice",
          "cherry",
          "syrup",
          "sugarcane"
         ],
         "textposition": "auto",
         "type": "bar",
         "x": [
          10800000,
          9000000,
          0,
          5400000,
          1800000
         ],
         "xaxis": "x",
         "y": [
          "ice cream maker_88",
          "juice press_25",
          "cherry tree_87",
          "sugar mill_63",
          "field_33"
         ],
         "yaxis": "y"
        }
       ],
       "layout": {
        "barmode": "overlay",
        "legend": {
         "title": {
          "text": "job_id"
         },
         "tracegroupgap": 0
        },
        "template": {
         "data": {
          "bar": [
           {
            "error_x": {
             "color": "#2a3f5f"
            },
            "error_y": {
             "color": "#2a3f5f"
            },
            "marker": {
             "line": {
              "color": "#E5ECF6",
              "width": 0.5
             },
             "pattern": {
              "fillmode": "overlay",
              "size": 10,
              "solidity": 0.2
             }
            },
            "type": "bar"
           }
          ],
          "barpolar": [
           {
            "marker": {
             "line": {
              "color": "#E5ECF6",
              "width": 0.5
             },
             "pattern": {
              "fillmode": "overlay",
              "size": 10,
              "solidity": 0.2
             }
            },
            "type": "barpolar"
           }
          ],
          "carpet": [
           {
            "aaxis": {
             "endlinecolor": "#2a3f5f",
             "gridcolor": "white",
             "linecolor": "white",
             "minorgridcolor": "white",
             "startlinecolor": "#2a3f5f"
            },
            "baxis": {
             "endlinecolor": "#2a3f5f",
             "gridcolor": "white",
             "linecolor": "white",
             "minorgridcolor": "white",
             "startlinecolor": "#2a3f5f"
            },
            "type": "carpet"
           }
          ],
          "choropleth": [
           {
            "colorbar": {
             "outlinewidth": 0,
             "ticks": ""
            },
            "type": "choropleth"
           }
          ],
          "contour": [
           {
            "colorbar": {
             "outlinewidth": 0,
             "ticks": ""
            },
            "colorscale": [
             [
              0,
              "#0d0887"
             ],
             [
              0.1111111111111111,
              "#46039f"
             ],
             [
              0.2222222222222222,
              "#7201a8"
             ],
             [
              0.3333333333333333,
              "#9c179e"
             ],
             [
              0.4444444444444444,
              "#bd3786"
             ],
             [
              0.5555555555555556,
              "#d8576b"
             ],
             [
              0.6666666666666666,
              "#ed7953"
             ],
             [
              0.7777777777777778,
              "#fb9f3a"
             ],
             [
              0.8888888888888888,
              "#fdca26"
             ],
             [
              1,
              "#f0f921"
             ]
            ],
            "type": "contour"
           }
          ],
          "contourcarpet": [
           {
            "colorbar": {
             "outlinewidth": 0,
             "ticks": ""
            },
            "type": "contourcarpet"
           }
          ],
          "heatmap": [
           {
            "colorbar": {
             "outlinewidth": 0,
             "ticks": ""
            },
            "colorscale": [
             [
              0,
              "#0d0887"
             ],
             [
              0.1111111111111111,
              "#46039f"
             ],
             [
              0.2222222222222222,
              "#7201a8"
             ],
             [
              0.3333333333333333,
              "#9c179e"
             ],
             [
              0.4444444444444444,
              "#bd3786"
             ],
             [
              0.5555555555555556,
              "#d8576b"
             ],
             [
              0.6666666666666666,
              "#ed7953"
             ],
             [
              0.7777777777777778,
              "#fb9f3a"
             ],
             [
              0.8888888888888888,
              "#fdca26"
             ],
             [
              1,
              "#f0f921"
             ]
            ],
            "type": "heatmap"
           }
          ],
          "heatmapgl": [
           {
            "colorbar": {
             "outlinewidth": 0,
             "ticks": ""
            },
            "colorscale": [
             [
              0,
              "#0d0887"
             ],
             [
              0.1111111111111111,
              "#46039f"
             ],
             [
              0.2222222222222222,
              "#7201a8"
             ],
             [
              0.3333333333333333,
              "#9c179e"
             ],
             [
              0.4444444444444444,
              "#bd3786"
             ],
             [
              0.5555555555555556,
              "#d8576b"
             ],
             [
              0.6666666666666666,
              "#ed7953"
             ],
             [
              0.7777777777777778,
              "#fb9f3a"
             ],
             [
              0.8888888888888888,
              "#fdca26"
             ],
             [
              1,
              "#f0f921"
             ]
            ],
            "type": "heatmapgl"
           }
          ],
          "histogram": [
           {
            "marker": {
             "pattern": {
              "fillmode": "overlay",
              "size": 10,
              "solidity": 0.2
             }
            },
            "type": "histogram"
           }
          ],
          "histogram2d": [
           {
            "colorbar": {
             "outlinewidth": 0,
             "ticks": ""
            },
            "colorscale": [
             [
              0,
              "#0d0887"
             ],
             [
              0.1111111111111111,
              "#46039f"
             ],
             [
              0.2222222222222222,
              "#7201a8"
             ],
             [
              0.3333333333333333,
              "#9c179e"
             ],
             [
              0.4444444444444444,
              "#bd3786"
             ],
             [
              0.5555555555555556,
              "#d8576b"
             ],
             [
              0.6666666666666666,
              "#ed7953"
             ],
             [
              0.7777777777777778,
              "#fb9f3a"
             ],
             [
              0.8888888888888888,
              "#fdca26"
             ],
             [
              1,
              "#f0f921"
             ]
            ],
            "type": "histogram2d"
           }
          ],
          "histogram2dcontour": [
           {
            "colorbar": {
             "outlinewidth": 0,
             "ticks": ""
            },
            "colorscale": [
             [
              0,
              "#0d0887"
             ],
             [
              0.1111111111111111,
              "#46039f"
             ],
             [
              0.2222222222222222,
              "#7201a8"
             ],
             [
              0.3333333333333333,
              "#9c179e"
             ],
             [
              0.4444444444444444,
              "#bd3786"
             ],
             [
              0.5555555555555556,
              "#d8576b"
             ],
             [
              0.6666666666666666,
              "#ed7953"
             ],
             [
              0.7777777777777778,
              "#fb9f3a"
             ],
             [
              0.8888888888888888,
              "#fdca26"
             ],
             [
              1,
              "#f0f921"
             ]
            ],
            "type": "histogram2dcontour"
           }
          ],
          "mesh3d": [
           {
            "colorbar": {
             "outlinewidth": 0,
             "ticks": ""
            },
            "type": "mesh3d"
           }
          ],
          "parcoords": [
           {
            "line": {
             "colorbar": {
              "outlinewidth": 0,
              "ticks": ""
             }
            },
            "type": "parcoords"
           }
          ],
          "pie": [
           {
            "automargin": true,
            "type": "pie"
           }
          ],
          "scatter": [
           {
            "fillpattern": {
             "fillmode": "overlay",
             "size": 10,
             "solidity": 0.2
            },
            "type": "scatter"
           }
          ],
          "scatter3d": [
           {
            "line": {
             "colorbar": {
              "outlinewidth": 0,
              "ticks": ""
             }
            },
            "marker": {
             "colorbar": {
              "outlinewidth": 0,
              "ticks": ""
             }
            },
            "type": "scatter3d"
           }
          ],
          "scattercarpet": [
           {
            "marker": {
             "colorbar": {
              "outlinewidth": 0,
              "ticks": ""
             }
            },
            "type": "scattercarpet"
           }
          ],
          "scattergeo": [
           {
            "marker": {
             "colorbar": {
              "outlinewidth": 0,
              "ticks": ""
             }
            },
            "type": "scattergeo"
           }
          ],
          "scattergl": [
           {
            "marker": {
             "colorbar": {
              "outlinewidth": 0,
              "ticks": ""
             }
            },
            "type": "scattergl"
           }
          ],
          "scattermapbox": [
           {
            "marker": {
             "colorbar": {
              "outlinewidth": 0,
              "ticks": ""
             }
            },
            "type": "scattermapbox"
           }
          ],
          "scatterpolar": [
           {
            "marker": {
             "colorbar": {
              "outlinewidth": 0,
              "ticks": ""
             }
            },
            "type": "scatterpolar"
           }
          ],
          "scatterpolargl": [
           {
            "marker": {
             "colorbar": {
              "outlinewidth": 0,
              "ticks": ""
             }
            },
            "type": "scatterpolargl"
           }
          ],
          "scatterternary": [
           {
            "marker": {
             "colorbar": {
              "outlinewidth": 0,
              "ticks": ""
             }
            },
            "type": "scatterternary"
           }
          ],
          "surface": [
           {
            "colorbar": {
             "outlinewidth": 0,
             "ticks": ""
            },
            "colorscale": [
             [
              0,
              "#0d0887"
             ],
             [
              0.1111111111111111,
              "#46039f"
             ],
             [
              0.2222222222222222,
              "#7201a8"
             ],
             [
              0.3333333333333333,
              "#9c179e"
             ],
             [
              0.4444444444444444,
              "#bd3786"
             ],
             [
              0.5555555555555556,
              "#d8576b"
             ],
             [
              0.6666666666666666,
              "#ed7953"
             ],
             [
              0.7777777777777778,
              "#fb9f3a"
             ],
             [
              0.8888888888888888,
              "#fdca26"
             ],
             [
              1,
              "#f0f921"
             ]
            ],
            "type": "surface"
           }
          ],
          "table": [
           {
            "cells": {
             "fill": {
              "color": "#EBF0F8"
             },
             "line": {
              "color": "white"
             }
            },
            "header": {
             "fill": {
              "color": "#C8D4E3"
             },
             "line": {
              "color": "white"
             }
            },
            "type": "table"
           }
          ]
         },
         "layout": {
          "annotationdefaults": {
           "arrowcolor": "#2a3f5f",
           "arrowhead": 0,
           "arrowwidth": 1
          },
          "autotypenumbers": "strict",
          "coloraxis": {
           "colorbar": {
            "outlinewidth": 0,
            "ticks": ""
           }
          },
          "colorscale": {
           "diverging": [
            [
             0,
             "#8e0152"
            ],
            [
             0.1,
             "#c51b7d"
            ],
            [
             0.2,
             "#de77ae"
            ],
            [
             0.3,
             "#f1b6da"
            ],
            [
             0.4,
             "#fde0ef"
            ],
            [
             0.5,
             "#f7f7f7"
            ],
            [
             0.6,
             "#e6f5d0"
            ],
            [
             0.7,
             "#b8e186"
            ],
            [
             0.8,
             "#7fbc41"
            ],
            [
             0.9,
             "#4d9221"
            ],
            [
             1,
             "#276419"
            ]
           ],
           "sequential": [
            [
             0,
             "#0d0887"
            ],
            [
             0.1111111111111111,
             "#46039f"
            ],
            [
             0.2222222222222222,
             "#7201a8"
            ],
            [
             0.3333333333333333,
             "#9c179e"
            ],
            [
             0.4444444444444444,
             "#bd3786"
            ],
            [
             0.5555555555555556,
             "#d8576b"
            ],
            [
             0.6666666666666666,
             "#ed7953"
            ],
            [
             0.7777777777777778,
             "#fb9f3a"
            ],
            [
             0.8888888888888888,
             "#fdca26"
            ],
            [
             1,
             "#f0f921"
            ]
           ],
           "sequentialminus": [
            [
             0,
             "#0d0887"
            ],
            [
             0.1111111111111111,
             "#46039f"
            ],
            [
             0.2222222222222222,
             "#7201a8"
            ],
            [
             0.3333333333333333,
             "#9c179e"
            ],
            [
             0.4444444444444444,
             "#bd3786"
            ],
            [
             0.5555555555555556,
             "#d8576b"
            ],
            [
             0.6666666666666666,
             "#ed7953"
            ],
            [
             0.7777777777777778,
             "#fb9f3a"
            ],
            [
             0.8888888888888888,
             "#fdca26"
            ],
            [
             1,
             "#f0f921"
            ]
           ]
          },
          "colorway": [
           "#636efa",
           "#EF553B",
           "#00cc96",
           "#ab63fa",
           "#FFA15A",
           "#19d3f3",
           "#FF6692",
           "#B6E880",
           "#FF97FF",
           "#FECB52"
          ],
          "font": {
           "color": "#2a3f5f"
          },
          "geo": {
           "bgcolor": "white",
           "lakecolor": "white",
           "landcolor": "#E5ECF6",
           "showlakes": true,
           "showland": true,
           "subunitcolor": "white"
          },
          "hoverlabel": {
           "align": "left"
          },
          "hovermode": "closest",
          "mapbox": {
           "style": "light"
          },
          "paper_bgcolor": "white",
          "plot_bgcolor": "#E5ECF6",
          "polar": {
           "angularaxis": {
            "gridcolor": "white",
            "linecolor": "white",
            "ticks": ""
           },
           "bgcolor": "#E5ECF6",
           "radialaxis": {
            "gridcolor": "white",
            "linecolor": "white",
            "ticks": ""
           }
          },
          "scene": {
           "xaxis": {
            "backgroundcolor": "#E5ECF6",
            "gridcolor": "white",
            "gridwidth": 2,
            "linecolor": "white",
            "showbackground": true,
            "ticks": "",
            "zerolinecolor": "white"
           },
           "yaxis": {
            "backgroundcolor": "#E5ECF6",
            "gridcolor": "white",
            "gridwidth": 2,
            "linecolor": "white",
            "showbackground": true,
            "ticks": "",
            "zerolinecolor": "white"
           },
           "zaxis": {
            "backgroundcolor": "#E5ECF6",
            "gridcolor": "white",
            "gridwidth": 2,
            "linecolor": "white",
            "showbackground": true,
            "ticks": "",
            "zerolinecolor": "white"
           }
          },
          "shapedefaults": {
           "line": {
            "color": "#2a3f5f"
           }
          },
          "ternary": {
           "aaxis": {
            "gridcolor": "white",
            "linecolor": "white",
            "ticks": ""
           },
           "baxis": {
            "gridcolor": "white",
            "linecolor": "white",
            "ticks": ""
           },
           "bgcolor": "#E5ECF6",
           "caxis": {
            "gridcolor": "white",
            "linecolor": "white",
            "ticks": ""
           }
          },
          "title": {
           "x": 0.05
          },
          "xaxis": {
           "automargin": true,
           "gridcolor": "white",
           "linecolor": "white",
           "ticks": "",
           "title": {
            "standoff": 15
           },
           "zerolinecolor": "white",
           "zerolinewidth": 2
          },
          "yaxis": {
           "automargin": true,
           "gridcolor": "white",
           "linecolor": "white",
           "ticks": "",
           "title": {
            "standoff": 15
           },
           "zerolinecolor": "white",
           "zerolinewidth": 2
          }
         }
        },
        "title": {
         "text": "Machine Schedule"
        },
        "xaxis": {
         "anchor": "y",
         "domain": [
          0,
          1
         ],
         "tickformat": "%H:%M:%S",
         "type": "date"
        },
        "yaxis": {
         "anchor": "x",
         "categoryarray": [
          "sugar mill_63",
          "sheep_58",
          "sheep_57",
          "sheep_55",
          "sewing machine_77",
          "popcorn pot_18",
          "pig_113",
          "pie oven_3",
          "loom_47",
          "juice press_25",
          "ice cream maker_88",
          "goat_7",
          "field_46",
          "field_44",
          "field_43",
          "field_42",
          "field_40",
          "field_39",
          "field_38",
          "field_37",
          "field_36",
          "field_35",
          "field_34",
          "field_33",
          "field_32",
          "field_31",
          "field_30",
          "field_29",
          "field_28",
          "field_27",
          "feed mill_21",
          "dairy_72",
          "cow_71",
          "coffee bush_62",
          "chicken_90",
          "cherry tree_87",
          "cake oven_94",
          "bbq grill_114",
          "bakery_17",
          "apple tree_24"
         ],
         "categoryorder": "array",
         "domain": [
          0,
          1
         ],
         "title": {
          "text": "machine"
         }
        }
       }
      }
     },
     "metadata": {},
     "output_type": "display_data"
    },
    {
     "data": {
      "application/vnd.plotly.v1+json": {
       "config": {
        "plotlyServerURL": "https://plot.ly"
       },
       "data": [
        {
         "alignmentgroup": "True",
         "base": [
          "1970-01-01T10:20:00"
         ],
         "hovertemplate": "machine=sewing machine_77<br>start=%{base}<br>end=%{x}<br>job_id=%{y}<br>task_name=%{text}<extra></extra>",
         "legendgroup": "sewing machine_77",
         "marker": {
          "color": "#636efa",
          "pattern": {
           "shape": ""
          }
         },
         "name": "sewing machine_77",
         "offsetgroup": "sewing machine_77",
         "orientation": "h",
         "showlegend": true,
         "text": [
          "wooly chaps"
         ],
         "textposition": "auto",
         "type": "bar",
         "x": [
          5400000
         ],
         "xaxis": "x",
         "y": [
          "0"
         ],
         "yaxis": "y"
        },
        {
         "alignmentgroup": "True",
         "base": [
          "1970-01-01T02:30:00",
          "1970-01-01T09:50:00",
          "1970-01-01T06:50:00"
         ],
         "hovertemplate": "machine=loom_47<br>start=%{base}<br>end=%{x}<br>job_id=%{y}<br>task_name=%{text}<extra></extra>",
         "legendgroup": "loom_47",
         "marker": {
          "color": "#EF553B",
          "pattern": {
           "shape": ""
          }
         },
         "name": "loom_47",
         "offsetgroup": "loom_47",
         "orientation": "h",
         "showlegend": true,
         "text": [
          "cotton fabric",
          "sweater",
          "blue sweater"
         ],
         "textposition": "auto",
         "type": "bar",
         "x": [
          1800000,
          7200000,
          10800000
         ],
         "xaxis": "x",
         "y": [
          "0",
          "2",
          "4"
         ],
         "yaxis": "y"
        },
        {
         "alignmentgroup": "True",
         "base": [
          "1970-01-01T00:00:00",
          "1970-01-01T02:30:00",
          "1970-01-01T02:35:00"
         ],
         "hovertemplate": "machine=field_32<br>start=%{base}<br>end=%{x}<br>job_id=%{y}<br>task_name=%{text}<extra></extra>",
         "legendgroup": "field_32",
         "marker": {
          "color": "#00cc96",
          "pattern": {
           "shape": ""
          }
         },
         "name": "field_32",
         "offsetgroup": "field_32",
         "orientation": "h",
         "showlegend": true,
         "text": [
          "cotton",
          "corn",
          "corn"
         ],
         "textposition": "auto",
         "type": "bar",
         "x": [
          9000000,
          300000,
          300000
         ],
         "xaxis": "x",
         "y": [
          "0",
          "1",
          "1"
         ],
         "yaxis": "y"
        },
        {
         "alignmentgroup": "True",
         "base": [
          "1970-01-01T04:20:00"
         ],
         "hovertemplate": "machine=sheep_55<br>start=%{base}<br>end=%{x}<br>job_id=%{y}<br>task_name=%{text}<extra></extra>",
         "legendgroup": "sheep_55",
         "marker": {
          "color": "#ab63fa",
          "pattern": {
           "shape": ""
          }
         },
         "name": "sheep_55",
         "offsetgroup": "sheep_55",
         "orientation": "h",
         "showlegend": true,
         "text": [
          "wool"
         ],
         "textposition": "auto",
         "type": "bar",
         "x": [
          21600000
         ],
         "xaxis": "x",
         "y": [
          "0"
         ],
         "yaxis": "y"
        },
        {
         "alignmentgroup": "True",
         "base": [
          "1970-01-01T03:50:00",
          "1970-01-01T03:40:00",
          "1970-01-01T03:30:00",
          "1970-01-01T03:00:00",
          "1970-01-01T02:40:00",
          "1970-01-01T01:40:00",
          "1970-01-01T00:20:00",
          "1970-01-01T01:15:00",
          "1970-01-01T01:05:00",
          "1970-01-01T01:00:00",
          "1970-01-01T00:50:00"
         ],
         "hovertemplate": "machine=feed mill_21<br>start=%{base}<br>end=%{x}<br>job_id=%{y}<br>task_name=%{text}<extra></extra>",
         "legendgroup": "feed mill_21",
         "marker": {
          "color": "#FFA15A",
          "pattern": {
           "shape": ""
          }
         },
         "name": "feed mill_21",
         "offsetgroup": "feed mill_21",
         "orientation": "h",
         "showlegend": true,
         "text": [
          "sheep feed",
          "cow feed",
          "cow feed",
          "sheep feed",
          "pig feed",
          "goat feed",
          "sheep feed",
          "chicken feed",
          "cow feed",
          "chicken feed",
          "cow feed"
         ],
         "textposition": "auto",
         "type": "bar",
         "x": [
          1800000,
          600000,
          600000,
          1800000,
          1200000,
          2400000,
          1800000,
          300000,
          600000,
          300000,
          600000
         ],
         "xaxis": "x",
         "y": [
          "0",
          "0",
          "0",
          "2",
          "2",
          "4",
          "4",
          "4",
          "5",
          "5",
          "6"
         ],
         "yaxis": "y"
        },
        {
         "alignmentgroup": "True",
         "base": [
          "1970-01-01T00:00:00",
          "1970-01-01T02:52:00",
          "1970-01-01T02:50:00",
          "1970-01-01T00:20:00"
         ],
         "hovertemplate": "machine=field_28<br>start=%{base}<br>end=%{x}<br>job_id=%{y}<br>task_name=%{text}<extra></extra>",
         "legendgroup": "field_28",
         "marker": {
          "color": "#19d3f3",
          "pattern": {
           "shape": ""
          }
         },
         "name": "field_28",
         "offsetgroup": "field_28",
         "orientation": "h",
         "showlegend": true,
         "text": [
          "soybean",
          "corn",
          "wheat",
          "cotton"
         ],
         "textposition": "auto",
         "type": "bar",
         "x": [
          1200000,
          300000,
          120000,
          9000000
         ],
         "xaxis": "x",
         "y": [
          "0",
          "1",
          "2",
          "3"
         ],
         "yaxis": "y"
        },
        {
         "alignmentgroup": "True",
         "base": [
          "1970-01-01T00:20:00",
          "1970-01-01T00:00:00",
          "1970-01-01T06:22:00",
          "1970-01-01T00:22:00"
         ],
         "hovertemplate": "machine=field_30<br>start=%{base}<br>end=%{x}<br>job_id=%{y}<br>task_name=%{text}<extra></extra>",
         "legendgroup": "field_30",
         "marker": {
          "color": "#FF6692",
          "pattern": {
           "shape": ""
          }
         },
         "name": "field_30",
         "offsetgroup": "field_30",
         "orientation": "h",
         "showlegend": true,
         "text": [
          "wheat",
          "soybean",
          "corn",
          "tomato"
         ],
         "textposition": "auto",
         "type": "bar",
         "x": [
          120000,
          1200000,
          300000,
          21600000
         ],
         "xaxis": "x",
         "y": [
          "0",
          "0",
          "1",
          "3"
         ],
         "yaxis": "y"
        },
        {
         "alignmentgroup": "True",
         "base": [
          "1970-01-01T06:00:00",
          "1970-01-01T02:30:00"
         ],
         "hovertemplate": "machine=ice cream maker_88<br>start=%{base}<br>end=%{x}<br>job_id=%{y}<br>task_name=%{text}<extra></extra>",
         "legendgroup": "ice cream maker_88",
         "marker": {
          "color": "#B6E880",
          "pattern": {
           "shape": ""
          }
         },
         "name": "ice cream maker_88",
         "offsetgroup": "ice cream maker_88",
         "orientation": "h",
         "showlegend": true,
         "text": [
          "vanilla ice cream",
          "cherry popsicle"
         ],
         "textposition": "auto",
         "type": "bar",
         "x": [
          7200000,
          10800000
         ],
         "xaxis": "x",
         "y": [
          "0",
          "7"
         ],
         "yaxis": "y"
        },
        {
         "alignmentgroup": "True",
         "base": [
          "1970-01-01T05:40:00",
          "1970-01-01T10:20:00",
          "1970-01-01T03:00:00",
          "1970-01-01T02:00:00"
         ],
         "hovertemplate": "machine=dairy_72<br>start=%{base}<br>end=%{x}<br>job_id=%{y}<br>task_name=%{text}<extra></extra>",
         "legendgroup": "dairy_72",
         "marker": {
          "color": "#FF97FF",
          "pattern": {
           "shape": ""
          }
         },
         "name": "dairy_72",
         "offsetgroup": "dairy_72",
         "orientation": "h",
         "showlegend": true,
         "text": [
          "cream",
          "goat cheese",
          "butter",
          "butter"
         ],
         "textposition": "auto",
         "type": "bar",
         "x": [
          1200000,
          5400000,
          1800000,
          1800000
         ],
         "xaxis": "x",
         "y": [
          "0",
          "4",
          "5",
          "6"
         ],
         "yaxis": "y"
        },
        {
         "alignmentgroup": "True",
         "base": [
          "1970-01-01T04:40:00",
          "1970-01-01T03:40:00",
          "1970-01-01T02:00:00",
          "1970-01-01T01:00:00"
         ],
         "hovertemplate": "machine=cow_71<br>start=%{base}<br>end=%{x}<br>job_id=%{y}<br>task_name=%{text}<extra></extra>",
         "legendgroup": "cow_71",
         "marker": {
          "color": "#FECB52",
          "pattern": {
           "shape": ""
          }
         },
         "name": "cow_71",
         "offsetgroup": "cow_71",
         "orientation": "h",
         "showlegend": true,
         "text": [
          "milk",
          "milk",
          "milk",
          "milk"
         ],
         "textposition": "auto",
         "type": "bar",
         "x": [
          3600000,
          3600000,
          3600000,
          3600000
         ],
         "xaxis": "x",
         "y": [
          "0",
          "0",
          "5",
          "6"
         ],
         "yaxis": "y"
        },
        {
         "alignmentgroup": "True",
         "base": [
          "1970-01-01T00:25:00",
          "1970-01-01T00:20:00",
          "1970-01-01T04:40:00",
          "1970-01-01T04:35:00",
          "1970-01-01T04:30:00",
          "1970-01-01T00:00:00",
          "1970-01-01T00:30:00"
         ],
         "hovertemplate": "machine=field_39<br>start=%{base}<br>end=%{x}<br>job_id=%{y}<br>task_name=%{text}<extra></extra>",
         "legendgroup": "field_39",
         "marker": {
          "color": "#636efa",
          "pattern": {
           "shape": ""
          }
         },
         "name": "field_39",
         "offsetgroup": "field_39",
         "orientation": "h",
         "showlegend": true,
         "text": [
          "corn",
          "corn",
          "corn",
          "corn",
          "corn",
          "soybean",
          "chili pepper"
         ],
         "textposition": "auto",
         "type": "bar",
         "x": [
          300000,
          300000,
          300000,
          300000,
          300000,
          1200000,
          14400000
         ],
         "xaxis": "x",
         "y": [
          "0",
          "0",
          "1",
          "1",
          "1",
          "2",
          "4"
         ],
         "yaxis": "y"
        },
        {
         "alignmentgroup": "True",
         "base": [
          "1970-01-01T00:00:00"
         ],
         "hovertemplate": "machine=field_34<br>start=%{base}<br>end=%{x}<br>job_id=%{y}<br>task_name=%{text}<extra></extra>",
         "legendgroup": "field_34",
         "marker": {
          "color": "#EF553B",
          "pattern": {
           "shape": ""
          }
         },
         "name": "field_34",
         "offsetgroup": "field_34",
         "orientation": "h",
         "showlegend": true,
         "text": [
          "soybean"
         ],
         "textposition": "auto",
         "type": "bar",
         "x": [
          1200000
         ],
         "xaxis": "x",
         "y": [
          "0"
         ],
         "yaxis": "y"
        },
        {
         "alignmentgroup": "True",
         "base": [
          "1970-01-01T04:10:00",
          "1970-01-01T02:40:00",
          "1970-01-01T02:20:00",
          "1970-01-01T02:00:00",
          "1970-01-01T00:30:00"
         ],
         "hovertemplate": "machine=sugar mill_63<br>start=%{base}<br>end=%{x}<br>job_id=%{y}<br>task_name=%{text}<extra></extra>",
         "legendgroup": "sugar mill_63",
         "marker": {
          "color": "#00cc96",
          "pattern": {
           "shape": ""
          }
         },
         "name": "sugar mill_63",
         "offsetgroup": "sugar mill_63",
         "orientation": "h",
         "showlegend": true,
         "text": [
          "white sugar",
          "syrup",
          "brown sugar",
          "brown sugar",
          "syrup"
         ],
         "textposition": "auto",
         "type": "bar",
         "x": [
          2400000,
          5400000,
          1200000,
          1200000,
          5400000
         ],
         "xaxis": "x",
         "y": [
          "0",
          "4",
          "5",
          "6",
          "7"
         ],
         "yaxis": "y"
        },
        {
         "alignmentgroup": "True",
         "base": [
          "1970-01-01T00:30:00",
          "1970-01-01T01:00:00",
          "1970-01-01T00:00:00"
         ],
         "hovertemplate": "machine=field_44<br>start=%{base}<br>end=%{x}<br>job_id=%{y}<br>task_name=%{text}<extra></extra>",
         "legendgroup": "field_44",
         "marker": {
          "color": "#ab63fa",
          "pattern": {
           "shape": ""
          }
         },
         "name": "field_44",
         "offsetgroup": "field_44",
         "orientation": "h",
         "showlegend": true,
         "text": [
          "sugarcane",
          "corn",
          "sugarcane"
         ],
         "textposition": "auto",
         "type": "bar",
         "x": [
          1800000,
          300000,
          1800000
         ],
         "xaxis": "x",
         "y": [
          "0",
          "1",
          "6"
         ],
         "yaxis": "y"
        },
        {
         "alignmentgroup": "True",
         "base": [
          "1970-01-01T05:07:00",
          "1970-01-01T05:17:00",
          "1970-01-01T05:02:00",
          "1970-01-01T05:12:00",
          "1970-01-01T00:17:00",
          "1970-01-01T00:57:00",
          "1970-01-01T00:12:00",
          "1970-01-01T04:57:00",
          "1970-01-01T00:05:00",
          "1970-01-01T00:10:00",
          "1970-01-01T00:27:00",
          "1970-01-01T00:00:00"
         ],
         "hovertemplate": "machine=field_37<br>start=%{base}<br>end=%{x}<br>job_id=%{y}<br>task_name=%{text}<extra></extra>",
         "legendgroup": "field_37",
         "marker": {
          "color": "#FFA15A",
          "pattern": {
           "shape": ""
          }
         },
         "name": "field_37",
         "offsetgroup": "field_37",
         "orientation": "h",
         "showlegend": true,
         "text": [
          "corn",
          "corn",
          "corn",
          "corn",
          "carrot",
          "chili pepper",
          "corn",
          "corn",
          "corn",
          "wheat",
          "sugarcane",
          "corn"
         ],
         "textposition": "auto",
         "type": "bar",
         "x": [
          300000,
          300000,
          300000,
          300000,
          600000,
          14400000,
          300000,
          300000,
          300000,
          120000,
          1800000,
          300000
         ],
         "xaxis": "x",
         "y": [
          "1",
          "1",
          "1",
          "1",
          "2",
          "4",
          "4",
          "4",
          "4",
          "4",
          "5",
          "6"
         ],
         "yaxis": "y"
        },
        {
         "alignmentgroup": "True",
         "base": [
          "1970-01-01T00:24:00",
          "1970-01-01T00:44:00",
          "1970-01-01T00:34:00",
          "1970-01-01T00:29:00",
          "1970-01-01T00:39:00",
          "1970-01-01T00:00:00",
          "1970-01-01T00:02:00",
          "1970-01-01T00:22:00"
         ],
         "hovertemplate": "machine=field_29<br>start=%{base}<br>end=%{x}<br>job_id=%{y}<br>task_name=%{text}<extra></extra>",
         "legendgroup": "field_29",
         "marker": {
          "color": "#19d3f3",
          "pattern": {
           "shape": ""
          }
         },
         "name": "field_29",
         "offsetgroup": "field_29",
         "orientation": "h",
         "showlegend": true,
         "text": [
          "corn",
          "corn",
          "corn",
          "corn",
          "corn",
          "wheat",
          "soybean",
          "wheat"
         ],
         "textposition": "auto",
         "type": "bar",
         "x": [
          300000,
          300000,
          300000,
          300000,
          300000,
          120000,
          1200000,
          120000
         ],
         "xaxis": "x",
         "y": [
          "1",
          "1",
          "1",
          "1",
          "1",
          "4",
          "5",
          "5"
         ],
         "yaxis": "y"
        },
        {
         "alignmentgroup": "True",
         "base": [
          "1970-01-01T00:42:00",
          "1970-01-01T00:00:00",
          "1970-01-01T00:32:00",
          "1970-01-01T00:30:00"
         ],
         "hovertemplate": "machine=field_42<br>start=%{base}<br>end=%{x}<br>job_id=%{y}<br>task_name=%{text}<extra></extra>",
         "legendgroup": "field_42",
         "marker": {
          "color": "#FF6692",
          "pattern": {
           "shape": ""
          }
         },
         "name": "field_42",
         "offsetgroup": "field_42",
         "orientation": "h",
         "showlegend": true,
         "text": [
          "corn",
          "sugarcane",
          "carrot",
          "wheat"
         ],
         "textposition": "auto",
         "type": "bar",
         "x": [
          300000,
          1800000,
          600000,
          120000
         ],
         "xaxis": "x",
         "y": [
          "1",
          "4",
          "5",
          "5"
         ],
         "yaxis": "y"
        },
        {
         "alignmentgroup": "True",
         "base": [
          "1970-01-01T02:30:00",
          "1970-01-01T02:35:00",
          "1970-01-01T00:30:00",
          "1970-01-01T00:00:00"
         ],
         "hovertemplate": "machine=field_33<br>start=%{base}<br>end=%{x}<br>job_id=%{y}<br>task_name=%{text}<extra></extra>",
         "legendgroup": "field_33",
         "marker": {
          "color": "#B6E880",
          "pattern": {
           "shape": ""
          }
         },
         "name": "field_33",
         "offsetgroup": "field_33",
         "orientation": "h",
         "showlegend": true,
         "text": [
          "corn",
          "corn",
          "indigo",
          "sugarcane"
         ],
         "textposition": "auto",
         "type": "bar",
         "x": [
          300000,
          300000,
          7200000,
          1800000
         ],
         "xaxis": "x",
         "y": [
          "1",
          "1",
          "4",
          "7"
         ],
         "yaxis": "y"
        },
        {
         "alignmentgroup": "True",
         "base": [
          "1970-01-01T00:25:00",
          "1970-01-01T00:20:00",
          "1970-01-01T00:00:00"
         ],
         "hovertemplate": "machine=field_40<br>start=%{base}<br>end=%{x}<br>job_id=%{y}<br>task_name=%{text}<extra></extra>",
         "legendgroup": "field_40",
         "marker": {
          "color": "#FF97FF",
          "pattern": {
           "shape": ""
          }
         },
         "name": "field_40",
         "offsetgroup": "field_40",
         "orientation": "h",
         "showlegend": true,
         "text": [
          "corn",
          "corn",
          "soybean"
         ],
         "textposition": "auto",
         "type": "bar",
         "x": [
          300000,
          300000,
          1200000
         ],
         "xaxis": "x",
         "y": [
          "1",
          "5",
          "6"
         ],
         "yaxis": "y"
        },
        {
         "alignmentgroup": "True",
         "base": [
          "1970-01-01T00:12:00",
          "1970-01-01T00:10:00",
          "1970-01-01T00:00:00"
         ],
         "hovertemplate": "machine=field_35<br>start=%{base}<br>end=%{x}<br>job_id=%{y}<br>task_name=%{text}<extra></extra>",
         "legendgroup": "field_35",
         "marker": {
          "color": "#FECB52",
          "pattern": {
           "shape": ""
          }
         },
         "name": "field_35",
         "offsetgroup": "field_35",
         "orientation": "h",
         "showlegend": true,
         "text": [
          "corn",
          "wheat",
          "carrot"
         ],
         "textposition": "auto",
         "type": "bar",
         "x": [
          300000,
          120000,
          600000
         ],
         "xaxis": "x",
         "y": [
          "1",
          "2",
          "4"
         ],
         "yaxis": "y"
        },
        {
         "alignmentgroup": "True",
         "base": [
          "1970-01-01T02:30:00",
          "1970-01-01T00:00:00"
         ],
         "hovertemplate": "machine=juice press_25<br>start=%{base}<br>end=%{x}<br>job_id=%{y}<br>task_name=%{text}<extra></extra>",
         "legendgroup": "juice press_25",
         "marker": {
          "color": "#636efa",
          "pattern": {
           "shape": ""
          }
         },
         "name": "juice press_25",
         "offsetgroup": "juice press_25",
         "orientation": "h",
         "showlegend": true,
         "text": [
          "apple juice",
          "cherry juice"
         ],
         "textposition": "auto",
         "type": "bar",
         "x": [
          7200000,
          9000000
         ],
         "xaxis": "x",
         "y": [
          "2",
          "7"
         ],
         "yaxis": "y"
        },
        {
         "alignmentgroup": "True",
         "base": [
          "1970-01-01T00:00:00",
          "1970-01-01T00:00:00"
         ],
         "hovertemplate": "machine=apple tree_24<br>start=%{base}<br>end=%{x}<br>job_id=%{y}<br>task_name=%{text}<extra></extra>",
         "legendgroup": "apple tree_24",
         "marker": {
          "color": "#EF553B",
          "pattern": {
           "shape": ""
          }
         },
         "name": "apple tree_24",
         "offsetgroup": "apple tree_24",
         "orientation": "h",
         "showlegend": true,
         "text": [
          "apple",
          "apple"
         ],
         "textposition": "auto",
         "type": "bar",
         "x": [
          0,
          0
         ],
         "xaxis": "x",
         "y": [
          "2",
          "4"
         ],
         "yaxis": "y"
        },
        {
         "alignmentgroup": "True",
         "base": [
          "1970-01-01T03:30:00"
         ],
         "hovertemplate": "machine=sheep_57<br>start=%{base}<br>end=%{x}<br>job_id=%{y}<br>task_name=%{text}<extra></extra>",
         "legendgroup": "sheep_57",
         "marker": {
          "color": "#00cc96",
          "pattern": {
           "shape": ""
          }
         },
         "name": "sheep_57",
         "offsetgroup": "sheep_57",
         "orientation": "h",
         "showlegend": true,
         "text": [
          "wool"
         ],
         "textposition": "auto",
         "type": "bar",
         "x": [
          21600000
         ],
         "xaxis": "x",
         "y": [
          "2"
         ],
         "yaxis": "y"
        },
        {
         "alignmentgroup": "True",
         "base": [
          "1970-01-01T00:00:00",
          "1970-01-01T00:20:00"
         ],
         "hovertemplate": "machine=field_43<br>start=%{base}<br>end=%{x}<br>job_id=%{y}<br>task_name=%{text}<extra></extra>",
         "legendgroup": "field_43",
         "marker": {
          "color": "#ab63fa",
          "pattern": {
           "shape": ""
          }
         },
         "name": "field_43",
         "offsetgroup": "field_43",
         "orientation": "h",
         "showlegend": true,
         "text": [
          "soybean",
          "potato"
         ],
         "textposition": "auto",
         "type": "bar",
         "x": [
          1200000,
          13200000
         ],
         "xaxis": "x",
         "y": [
          "2",
          "3"
         ],
         "yaxis": "y"
        },
        {
         "alignmentgroup": "True",
         "base": [
          "1970-01-01T07:52:00",
          "1970-01-01T06:22:00",
          "1970-01-01T04:00:00"
         ],
         "hovertemplate": "machine=bbq grill_114<br>start=%{base}<br>end=%{x}<br>job_id=%{y}<br>task_name=%{text}<extra></extra>",
         "legendgroup": "bbq grill_114",
         "marker": {
          "color": "#FFA15A",
          "pattern": {
           "shape": ""
          }
         },
         "name": "bbq grill_114",
         "offsetgroup": "bbq grill_114",
         "orientation": "h",
         "showlegend": true,
         "text": [
          "hamburger",
          "roasted tomatoes",
          "fish and chips"
         ],
         "textposition": "auto",
         "type": "bar",
         "x": [
          7200000,
          5400000,
          5400000
         ],
         "xaxis": "x",
         "y": [
          "2",
          "3",
          "3"
         ],
         "yaxis": "y"
        },
        {
         "alignmentgroup": "True",
         "base": [
          "1970-01-01T03:00:00"
         ],
         "hovertemplate": "machine=pig_113<br>start=%{base}<br>end=%{x}<br>job_id=%{y}<br>task_name=%{text}<extra></extra>",
         "legendgroup": "pig_113",
         "marker": {
          "color": "#19d3f3",
          "pattern": {
           "shape": ""
          }
         },
         "name": "pig_113",
         "offsetgroup": "pig_113",
         "orientation": "h",
         "showlegend": true,
         "text": [
          "bacon"
         ],
         "textposition": "auto",
         "type": "bar",
         "x": [
          14400000
         ],
         "xaxis": "x",
         "y": [
          "2"
         ],
         "yaxis": "y"
        },
        {
         "alignmentgroup": "True",
         "base": [
          "1970-01-01T04:35:00"
         ],
         "hovertemplate": "machine=bakery_17<br>start=%{base}<br>end=%{x}<br>job_id=%{y}<br>task_name=%{text}<extra></extra>",
         "legendgroup": "bakery_17",
         "marker": {
          "color": "#FF6692",
          "pattern": {
           "shape": ""
          }
         },
         "name": "bakery_17",
         "offsetgroup": "bakery_17",
         "orientation": "h",
         "showlegend": true,
         "text": [
          "bread"
         ],
         "textposition": "auto",
         "type": "bar",
         "x": [
          300000
         ],
         "xaxis": "x",
         "y": [
          "2"
         ],
         "yaxis": "y"
        },
        {
         "alignmentgroup": "True",
         "base": [
          "1970-01-01T00:00:00"
         ],
         "hovertemplate": "machine=coffee bush_62<br>start=%{base}<br>end=%{x}<br>job_id=%{y}<br>task_name=%{text}<extra></extra>",
         "legendgroup": "coffee bush_62",
         "marker": {
          "color": "#B6E880",
          "pattern": {
           "shape": ""
          }
         },
         "name": "coffee bush_62",
         "offsetgroup": "coffee bush_62",
         "orientation": "h",
         "showlegend": true,
         "text": [
          "coffee bean"
         ],
         "textposition": "auto",
         "type": "bar",
         "x": [
          0
         ],
         "xaxis": "x",
         "y": [
          "3"
         ],
         "yaxis": "y"
        },
        {
         "alignmentgroup": "True",
         "base": [
          "1970-01-01T02:20:00"
         ],
         "hovertemplate": "machine=goat_7<br>start=%{base}<br>end=%{x}<br>job_id=%{y}<br>task_name=%{text}<extra></extra>",
         "legendgroup": "goat_7",
         "marker": {
          "color": "#FF97FF",
          "pattern": {
           "shape": ""
          }
         },
         "name": "goat_7",
         "offsetgroup": "goat_7",
         "orientation": "h",
         "showlegend": true,
         "text": [
          "goat milk"
         ],
         "textposition": "auto",
         "type": "bar",
         "x": [
          28800000
         ],
         "xaxis": "x",
         "y": [
          "4"
         ],
         "yaxis": "y"
        },
        {
         "alignmentgroup": "True",
         "base": [
          "1970-01-01T00:00:00"
         ],
         "hovertemplate": "machine=field_38<br>start=%{base}<br>end=%{x}<br>job_id=%{y}<br>task_name=%{text}<extra></extra>",
         "legendgroup": "field_38",
         "marker": {
          "color": "#FECB52",
          "pattern": {
           "shape": ""
          }
         },
         "name": "field_38",
         "offsetgroup": "field_38",
         "orientation": "h",
         "showlegend": true,
         "text": [
          "wheat"
         ],
         "textposition": "auto",
         "type": "bar",
         "x": [
          120000
         ],
         "xaxis": "x",
         "y": [
          "4"
         ],
         "yaxis": "y"
        },
        {
         "alignmentgroup": "True",
         "base": [
          "1970-01-01T09:50:00"
         ],
         "hovertemplate": "machine=popcorn pot_18<br>start=%{base}<br>end=%{x}<br>job_id=%{y}<br>task_name=%{text}<extra></extra>",
         "legendgroup": "popcorn pot_18",
         "marker": {
          "color": "#636efa",
          "pattern": {
           "shape": ""
          }
         },
         "name": "popcorn pot_18",
         "offsetgroup": "popcorn pot_18",
         "orientation": "h",
         "showlegend": true,
         "text": [
          "chili popcorn"
         ],
         "textposition": "auto",
         "type": "bar",
         "x": [
          7200000
         ],
         "xaxis": "x",
         "y": [
          "4"
         ],
         "yaxis": "y"
        },
        {
         "alignmentgroup": "True",
         "base": [
          "1970-01-01T00:50:00"
         ],
         "hovertemplate": "machine=sheep_58<br>start=%{base}<br>end=%{x}<br>job_id=%{y}<br>task_name=%{text}<extra></extra>",
         "legendgroup": "sheep_58",
         "marker": {
          "color": "#EF553B",
          "pattern": {
           "shape": ""
          }
         },
         "name": "sheep_58",
         "offsetgroup": "sheep_58",
         "orientation": "h",
         "showlegend": true,
         "text": [
          "wool"
         ],
         "textposition": "auto",
         "type": "bar",
         "x": [
          21600000
         ],
         "xaxis": "x",
         "y": [
          "4"
         ],
         "yaxis": "y"
        },
        {
         "alignmentgroup": "True",
         "base": [
          "1970-01-01T00:00:00"
         ],
         "hovertemplate": "machine=field_46<br>start=%{base}<br>end=%{x}<br>job_id=%{y}<br>task_name=%{text}<extra></extra>",
         "legendgroup": "field_46",
         "marker": {
          "color": "#00cc96",
          "pattern": {
           "shape": ""
          }
         },
         "name": "field_46",
         "offsetgroup": "field_46",
         "orientation": "h",
         "showlegend": true,
         "text": [
          "soybean"
         ],
         "textposition": "auto",
         "type": "bar",
         "x": [
          1200000
         ],
         "xaxis": "x",
         "y": [
          "4"
         ],
         "yaxis": "y"
        },
        {
         "alignmentgroup": "True",
         "base": [
          "1970-01-01T04:10:00",
          "1970-01-01T01:25:00"
         ],
         "hovertemplate": "machine=pie oven_3<br>start=%{base}<br>end=%{x}<br>job_id=%{y}<br>task_name=%{text}<extra></extra>",
         "legendgroup": "pie oven_3",
         "marker": {
          "color": "#ab63fa",
          "pattern": {
           "shape": ""
          }
         },
         "name": "pie oven_3",
         "offsetgroup": "pie oven_3",
         "orientation": "h",
         "showlegend": true,
         "text": [
          "apple pie",
          "fish pie"
         ],
         "textposition": "auto",
         "type": "bar",
         "x": [
          9000000,
          7200000
         ],
         "xaxis": "x",
         "y": [
          "4",
          "5"
         ],
         "yaxis": "y"
        },
        {
         "alignmentgroup": "True",
         "base": [
          "1970-01-01T01:25:00",
          "1970-01-01T01:05:00"
         ],
         "hovertemplate": "machine=chicken_90<br>start=%{base}<br>end=%{x}<br>job_id=%{y}<br>task_name=%{text}<extra></extra>",
         "legendgroup": "chicken_90",
         "marker": {
          "color": "#FFA15A",
          "pattern": {
           "shape": ""
          }
         },
         "name": "chicken_90",
         "offsetgroup": "chicken_90",
         "orientation": "h",
         "showlegend": true,
         "text": [
          "egg",
          "egg"
         ],
         "textposition": "auto",
         "type": "bar",
         "x": [
          1200000,
          1200000
         ],
         "xaxis": "x",
         "y": [
          "4",
          "5"
         ],
         "yaxis": "y"
        },
        {
         "alignmentgroup": "True",
         "base": [
          "1970-01-01T00:00:00"
         ],
         "hovertemplate": "machine=field_31<br>start=%{base}<br>end=%{x}<br>job_id=%{y}<br>task_name=%{text}<extra></extra>",
         "legendgroup": "field_31",
         "marker": {
          "color": "#19d3f3",
          "pattern": {
           "shape": ""
          }
         },
         "name": "field_31",
         "offsetgroup": "field_31",
         "orientation": "h",
         "showlegend": true,
         "text": [
          "wheat"
         ],
         "textposition": "auto",
         "type": "bar",
         "x": [
          120000
         ],
         "xaxis": "x",
         "y": [
          "4"
         ],
         "yaxis": "y"
        },
        {
         "alignmentgroup": "True",
         "base": [
          "1970-01-01T04:00:00",
          "1970-01-01T02:30:00"
         ],
         "hovertemplate": "machine=cake oven_94<br>start=%{base}<br>end=%{x}<br>job_id=%{y}<br>task_name=%{text}<extra></extra>",
         "legendgroup": "cake oven_94",
         "marker": {
          "color": "#FF6692",
          "pattern": {
           "shape": ""
          }
         },
         "name": "cake oven_94",
         "offsetgroup": "cake oven_94",
         "orientation": "h",
         "showlegend": true,
         "text": [
          "carrot cake",
          "carrot cake"
         ],
         "textposition": "auto",
         "type": "bar",
         "x": [
          5400000,
          5400000
         ],
         "xaxis": "x",
         "y": [
          "5",
          "6"
         ],
         "yaxis": "y"
        },
        {
         "alignmentgroup": "True",
         "base": [
          "1970-01-01T00:00:00"
         ],
         "hovertemplate": "machine=field_36<br>start=%{base}<br>end=%{x}<br>job_id=%{y}<br>task_name=%{text}<extra></extra>",
         "legendgroup": "field_36",
         "marker": {
          "color": "#B6E880",
          "pattern": {
           "shape": ""
          }
         },
         "name": "field_36",
         "offsetgroup": "field_36",
         "orientation": "h",
         "showlegend": true,
         "text": [
          "corn"
         ],
         "textposition": "auto",
         "type": "bar",
         "x": [
          300000
         ],
         "xaxis": "x",
         "y": [
          "5"
         ],
         "yaxis": "y"
        },
        {
         "alignmentgroup": "True",
         "base": [
          "1970-01-01T00:00:00",
          "1970-01-01T00:00:00"
         ],
         "hovertemplate": "machine=cherry tree_87<br>start=%{base}<br>end=%{x}<br>job_id=%{y}<br>task_name=%{text}<extra></extra>",
         "legendgroup": "cherry tree_87",
         "marker": {
          "color": "#FF97FF",
          "pattern": {
           "shape": ""
          }
         },
         "name": "cherry tree_87",
         "offsetgroup": "cherry tree_87",
         "orientation": "h",
         "showlegend": true,
         "text": [
          "cherry",
          "cherry"
         ],
         "textposition": "auto",
         "type": "bar",
         "x": [
          0,
          0
         ],
         "xaxis": "x",
         "y": [
          "6",
          "7"
         ],
         "yaxis": "y"
        },
        {
         "alignmentgroup": "True",
         "base": [
          "1970-01-01T00:00:00"
         ],
         "hovertemplate": "machine=field_27<br>start=%{base}<br>end=%{x}<br>job_id=%{y}<br>task_name=%{text}<extra></extra>",
         "legendgroup": "field_27",
         "marker": {
          "color": "#FECB52",
          "pattern": {
           "shape": ""
          }
         },
         "name": "field_27",
         "offsetgroup": "field_27",
         "orientation": "h",
         "showlegend": true,
         "text": [
          "carrot"
         ],
         "textposition": "auto",
         "type": "bar",
         "x": [
          600000
         ],
         "xaxis": "x",
         "y": [
          "6"
         ],
         "yaxis": "y"
        }
       ],
       "layout": {
        "barmode": "overlay",
        "legend": {
         "title": {
          "text": "machine"
         },
         "tracegroupgap": 0
        },
        "template": {
         "data": {
          "bar": [
           {
            "error_x": {
             "color": "#2a3f5f"
            },
            "error_y": {
             "color": "#2a3f5f"
            },
            "marker": {
             "line": {
              "color": "#E5ECF6",
              "width": 0.5
             },
             "pattern": {
              "fillmode": "overlay",
              "size": 10,
              "solidity": 0.2
             }
            },
            "type": "bar"
           }
          ],
          "barpolar": [
           {
            "marker": {
             "line": {
              "color": "#E5ECF6",
              "width": 0.5
             },
             "pattern": {
              "fillmode": "overlay",
              "size": 10,
              "solidity": 0.2
             }
            },
            "type": "barpolar"
           }
          ],
          "carpet": [
           {
            "aaxis": {
             "endlinecolor": "#2a3f5f",
             "gridcolor": "white",
             "linecolor": "white",
             "minorgridcolor": "white",
             "startlinecolor": "#2a3f5f"
            },
            "baxis": {
             "endlinecolor": "#2a3f5f",
             "gridcolor": "white",
             "linecolor": "white",
             "minorgridcolor": "white",
             "startlinecolor": "#2a3f5f"
            },
            "type": "carpet"
           }
          ],
          "choropleth": [
           {
            "colorbar": {
             "outlinewidth": 0,
             "ticks": ""
            },
            "type": "choropleth"
           }
          ],
          "contour": [
           {
            "colorbar": {
             "outlinewidth": 0,
             "ticks": ""
            },
            "colorscale": [
             [
              0,
              "#0d0887"
             ],
             [
              0.1111111111111111,
              "#46039f"
             ],
             [
              0.2222222222222222,
              "#7201a8"
             ],
             [
              0.3333333333333333,
              "#9c179e"
             ],
             [
              0.4444444444444444,
              "#bd3786"
             ],
             [
              0.5555555555555556,
              "#d8576b"
             ],
             [
              0.6666666666666666,
              "#ed7953"
             ],
             [
              0.7777777777777778,
              "#fb9f3a"
             ],
             [
              0.8888888888888888,
              "#fdca26"
             ],
             [
              1,
              "#f0f921"
             ]
            ],
            "type": "contour"
           }
          ],
          "contourcarpet": [
           {
            "colorbar": {
             "outlinewidth": 0,
             "ticks": ""
            },
            "type": "contourcarpet"
           }
          ],
          "heatmap": [
           {
            "colorbar": {
             "outlinewidth": 0,
             "ticks": ""
            },
            "colorscale": [
             [
              0,
              "#0d0887"
             ],
             [
              0.1111111111111111,
              "#46039f"
             ],
             [
              0.2222222222222222,
              "#7201a8"
             ],
             [
              0.3333333333333333,
              "#9c179e"
             ],
             [
              0.4444444444444444,
              "#bd3786"
             ],
             [
              0.5555555555555556,
              "#d8576b"
             ],
             [
              0.6666666666666666,
              "#ed7953"
             ],
             [
              0.7777777777777778,
              "#fb9f3a"
             ],
             [
              0.8888888888888888,
              "#fdca26"
             ],
             [
              1,
              "#f0f921"
             ]
            ],
            "type": "heatmap"
           }
          ],
          "heatmapgl": [
           {
            "colorbar": {
             "outlinewidth": 0,
             "ticks": ""
            },
            "colorscale": [
             [
              0,
              "#0d0887"
             ],
             [
              0.1111111111111111,
              "#46039f"
             ],
             [
              0.2222222222222222,
              "#7201a8"
             ],
             [
              0.3333333333333333,
              "#9c179e"
             ],
             [
              0.4444444444444444,
              "#bd3786"
             ],
             [
              0.5555555555555556,
              "#d8576b"
             ],
             [
              0.6666666666666666,
              "#ed7953"
             ],
             [
              0.7777777777777778,
              "#fb9f3a"
             ],
             [
              0.8888888888888888,
              "#fdca26"
             ],
             [
              1,
              "#f0f921"
             ]
            ],
            "type": "heatmapgl"
           }
          ],
          "histogram": [
           {
            "marker": {
             "pattern": {
              "fillmode": "overlay",
              "size": 10,
              "solidity": 0.2
             }
            },
            "type": "histogram"
           }
          ],
          "histogram2d": [
           {
            "colorbar": {
             "outlinewidth": 0,
             "ticks": ""
            },
            "colorscale": [
             [
              0,
              "#0d0887"
             ],
             [
              0.1111111111111111,
              "#46039f"
             ],
             [
              0.2222222222222222,
              "#7201a8"
             ],
             [
              0.3333333333333333,
              "#9c179e"
             ],
             [
              0.4444444444444444,
              "#bd3786"
             ],
             [
              0.5555555555555556,
              "#d8576b"
             ],
             [
              0.6666666666666666,
              "#ed7953"
             ],
             [
              0.7777777777777778,
              "#fb9f3a"
             ],
             [
              0.8888888888888888,
              "#fdca26"
             ],
             [
              1,
              "#f0f921"
             ]
            ],
            "type": "histogram2d"
           }
          ],
          "histogram2dcontour": [
           {
            "colorbar": {
             "outlinewidth": 0,
             "ticks": ""
            },
            "colorscale": [
             [
              0,
              "#0d0887"
             ],
             [
              0.1111111111111111,
              "#46039f"
             ],
             [
              0.2222222222222222,
              "#7201a8"
             ],
             [
              0.3333333333333333,
              "#9c179e"
             ],
             [
              0.4444444444444444,
              "#bd3786"
             ],
             [
              0.5555555555555556,
              "#d8576b"
             ],
             [
              0.6666666666666666,
              "#ed7953"
             ],
             [
              0.7777777777777778,
              "#fb9f3a"
             ],
             [
              0.8888888888888888,
              "#fdca26"
             ],
             [
              1,
              "#f0f921"
             ]
            ],
            "type": "histogram2dcontour"
           }
          ],
          "mesh3d": [
           {
            "colorbar": {
             "outlinewidth": 0,
             "ticks": ""
            },
            "type": "mesh3d"
           }
          ],
          "parcoords": [
           {
            "line": {
             "colorbar": {
              "outlinewidth": 0,
              "ticks": ""
             }
            },
            "type": "parcoords"
           }
          ],
          "pie": [
           {
            "automargin": true,
            "type": "pie"
           }
          ],
          "scatter": [
           {
            "fillpattern": {
             "fillmode": "overlay",
             "size": 10,
             "solidity": 0.2
            },
            "type": "scatter"
           }
          ],
          "scatter3d": [
           {
            "line": {
             "colorbar": {
              "outlinewidth": 0,
              "ticks": ""
             }
            },
            "marker": {
             "colorbar": {
              "outlinewidth": 0,
              "ticks": ""
             }
            },
            "type": "scatter3d"
           }
          ],
          "scattercarpet": [
           {
            "marker": {
             "colorbar": {
              "outlinewidth": 0,
              "ticks": ""
             }
            },
            "type": "scattercarpet"
           }
          ],
          "scattergeo": [
           {
            "marker": {
             "colorbar": {
              "outlinewidth": 0,
              "ticks": ""
             }
            },
            "type": "scattergeo"
           }
          ],
          "scattergl": [
           {
            "marker": {
             "colorbar": {
              "outlinewidth": 0,
              "ticks": ""
             }
            },
            "type": "scattergl"
           }
          ],
          "scattermapbox": [
           {
            "marker": {
             "colorbar": {
              "outlinewidth": 0,
              "ticks": ""
             }
            },
            "type": "scattermapbox"
           }
          ],
          "scatterpolar": [
           {
            "marker": {
             "colorbar": {
              "outlinewidth": 0,
              "ticks": ""
             }
            },
            "type": "scatterpolar"
           }
          ],
          "scatterpolargl": [
           {
            "marker": {
             "colorbar": {
              "outlinewidth": 0,
              "ticks": ""
             }
            },
            "type": "scatterpolargl"
           }
          ],
          "scatterternary": [
           {
            "marker": {
             "colorbar": {
              "outlinewidth": 0,
              "ticks": ""
             }
            },
            "type": "scatterternary"
           }
          ],
          "surface": [
           {
            "colorbar": {
             "outlinewidth": 0,
             "ticks": ""
            },
            "colorscale": [
             [
              0,
              "#0d0887"
             ],
             [
              0.1111111111111111,
              "#46039f"
             ],
             [
              0.2222222222222222,
              "#7201a8"
             ],
             [
              0.3333333333333333,
              "#9c179e"
             ],
             [
              0.4444444444444444,
              "#bd3786"
             ],
             [
              0.5555555555555556,
              "#d8576b"
             ],
             [
              0.6666666666666666,
              "#ed7953"
             ],
             [
              0.7777777777777778,
              "#fb9f3a"
             ],
             [
              0.8888888888888888,
              "#fdca26"
             ],
             [
              1,
              "#f0f921"
             ]
            ],
            "type": "surface"
           }
          ],
          "table": [
           {
            "cells": {
             "fill": {
              "color": "#EBF0F8"
             },
             "line": {
              "color": "white"
             }
            },
            "header": {
             "fill": {
              "color": "#C8D4E3"
             },
             "line": {
              "color": "white"
             }
            },
            "type": "table"
           }
          ]
         },
         "layout": {
          "annotationdefaults": {
           "arrowcolor": "#2a3f5f",
           "arrowhead": 0,
           "arrowwidth": 1
          },
          "autotypenumbers": "strict",
          "coloraxis": {
           "colorbar": {
            "outlinewidth": 0,
            "ticks": ""
           }
          },
          "colorscale": {
           "diverging": [
            [
             0,
             "#8e0152"
            ],
            [
             0.1,
             "#c51b7d"
            ],
            [
             0.2,
             "#de77ae"
            ],
            [
             0.3,
             "#f1b6da"
            ],
            [
             0.4,
             "#fde0ef"
            ],
            [
             0.5,
             "#f7f7f7"
            ],
            [
             0.6,
             "#e6f5d0"
            ],
            [
             0.7,
             "#b8e186"
            ],
            [
             0.8,
             "#7fbc41"
            ],
            [
             0.9,
             "#4d9221"
            ],
            [
             1,
             "#276419"
            ]
           ],
           "sequential": [
            [
             0,
             "#0d0887"
            ],
            [
             0.1111111111111111,
             "#46039f"
            ],
            [
             0.2222222222222222,
             "#7201a8"
            ],
            [
             0.3333333333333333,
             "#9c179e"
            ],
            [
             0.4444444444444444,
             "#bd3786"
            ],
            [
             0.5555555555555556,
             "#d8576b"
            ],
            [
             0.6666666666666666,
             "#ed7953"
            ],
            [
             0.7777777777777778,
             "#fb9f3a"
            ],
            [
             0.8888888888888888,
             "#fdca26"
            ],
            [
             1,
             "#f0f921"
            ]
           ],
           "sequentialminus": [
            [
             0,
             "#0d0887"
            ],
            [
             0.1111111111111111,
             "#46039f"
            ],
            [
             0.2222222222222222,
             "#7201a8"
            ],
            [
             0.3333333333333333,
             "#9c179e"
            ],
            [
             0.4444444444444444,
             "#bd3786"
            ],
            [
             0.5555555555555556,
             "#d8576b"
            ],
            [
             0.6666666666666666,
             "#ed7953"
            ],
            [
             0.7777777777777778,
             "#fb9f3a"
            ],
            [
             0.8888888888888888,
             "#fdca26"
            ],
            [
             1,
             "#f0f921"
            ]
           ]
          },
          "colorway": [
           "#636efa",
           "#EF553B",
           "#00cc96",
           "#ab63fa",
           "#FFA15A",
           "#19d3f3",
           "#FF6692",
           "#B6E880",
           "#FF97FF",
           "#FECB52"
          ],
          "font": {
           "color": "#2a3f5f"
          },
          "geo": {
           "bgcolor": "white",
           "lakecolor": "white",
           "landcolor": "#E5ECF6",
           "showlakes": true,
           "showland": true,
           "subunitcolor": "white"
          },
          "hoverlabel": {
           "align": "left"
          },
          "hovermode": "closest",
          "mapbox": {
           "style": "light"
          },
          "paper_bgcolor": "white",
          "plot_bgcolor": "#E5ECF6",
          "polar": {
           "angularaxis": {
            "gridcolor": "white",
            "linecolor": "white",
            "ticks": ""
           },
           "bgcolor": "#E5ECF6",
           "radialaxis": {
            "gridcolor": "white",
            "linecolor": "white",
            "ticks": ""
           }
          },
          "scene": {
           "xaxis": {
            "backgroundcolor": "#E5ECF6",
            "gridcolor": "white",
            "gridwidth": 2,
            "linecolor": "white",
            "showbackground": true,
            "ticks": "",
            "zerolinecolor": "white"
           },
           "yaxis": {
            "backgroundcolor": "#E5ECF6",
            "gridcolor": "white",
            "gridwidth": 2,
            "linecolor": "white",
            "showbackground": true,
            "ticks": "",
            "zerolinecolor": "white"
           },
           "zaxis": {
            "backgroundcolor": "#E5ECF6",
            "gridcolor": "white",
            "gridwidth": 2,
            "linecolor": "white",
            "showbackground": true,
            "ticks": "",
            "zerolinecolor": "white"
           }
          },
          "shapedefaults": {
           "line": {
            "color": "#2a3f5f"
           }
          },
          "ternary": {
           "aaxis": {
            "gridcolor": "white",
            "linecolor": "white",
            "ticks": ""
           },
           "baxis": {
            "gridcolor": "white",
            "linecolor": "white",
            "ticks": ""
           },
           "bgcolor": "#E5ECF6",
           "caxis": {
            "gridcolor": "white",
            "linecolor": "white",
            "ticks": ""
           }
          },
          "title": {
           "x": 0.05
          },
          "xaxis": {
           "automargin": true,
           "gridcolor": "white",
           "linecolor": "white",
           "ticks": "",
           "title": {
            "standoff": 15
           },
           "zerolinecolor": "white",
           "zerolinewidth": 2
          },
          "yaxis": {
           "automargin": true,
           "gridcolor": "white",
           "linecolor": "white",
           "ticks": "",
           "title": {
            "standoff": 15
           },
           "zerolinecolor": "white",
           "zerolinewidth": 2
          }
         }
        },
        "title": {
         "text": "Job Schedule"
        },
        "xaxis": {
         "anchor": "y",
         "domain": [
          0,
          1
         ],
         "tickformat": "%H:%M:%S",
         "type": "date"
        },
        "yaxis": {
         "anchor": "x",
         "categoryarray": [
          "7",
          "6",
          "5",
          "4",
          "3",
          "2",
          "1",
          "0"
         ],
         "categoryorder": "array",
         "domain": [
          0,
          1
         ],
         "title": {
          "text": "job_id"
         }
        }
       }
      }
     },
     "metadata": {},
     "output_type": "display_data"
    }
   ],
   "source": [
    "import plotly.express as px\n",
    "import plotly\n",
    "\n",
    "chart1 = px.timeline(df, x_start=\"start\", x_end=\"end\", y=\"machine\", color=\"job_id\", title=\"Machine Schedule\",\n",
    "                     text=\"task_name\",\n",
    "                        category_orders={\"machine\": sorted(list(df[\"machine\"].unique()))}\n",
    "                     )\n",
    "# hide date only show time\n",
    "chart1.update_xaxes(type='date', tickformat='%H:%M:%S')\n",
    "chart1.show()\n",
    "\n",
    "chart2 = px.timeline(df, x_start=\"start\", x_end=\"end\", y=\"job_id\", color=\"machine\", title=\"Job Schedule\",\n",
    "                     text=\"task_name\",\n",
    "                        category_orders={\"job_id\": sorted(list(df[\"job_id\"].unique()))}\n",
    "                     )\n",
    "chart2.update_xaxes(type='date', tickformat='%H:%M:%S')\n",
    "chart2.show()"
   ]
  }
 ],
 "metadata": {
  "kernelspec": {
   "display_name": "me",
   "language": "python",
   "name": "python3"
  },
  "language_info": {
   "codemirror_mode": {
    "name": "ipython",
    "version": 3
   },
   "file_extension": ".py",
   "mimetype": "text/x-python",
   "name": "python",
   "nbconvert_exporter": "python",
   "pygments_lexer": "ipython3",
   "version": "3.8.19"
  }
 },
 "nbformat": 4,
 "nbformat_minor": 2
}
