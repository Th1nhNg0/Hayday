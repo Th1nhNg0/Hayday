{
 "cells": [
  {
   "cell_type": "code",
   "execution_count": 21,
   "metadata": {},
   "outputs": [
    {
     "name": "stdout",
     "output_type": "stream",
     "text": [
      "Solution 0, time = 0.466296 s, objective = 61200\n",
      "Solution 1, time = 0.644576 s, objective = 60300\n",
      "Solution 2, time = 0.744643 s, objective = 60240\n",
      "Solution 3, time = 0.789866 s, objective = 57900\n",
      "Solution 4, time = 0.961861 s, objective = 51420\n",
      "Solution 5, time = 1.058679 s, objective = 51240\n",
      "Solution 6, time = 1.119683 s, objective = 50940\n",
      "Solution 7, time = 1.201929 s, objective = 39900\n",
      "\n",
      "solve status: OPTIMAL\n",
      "Optimal objective value: 39900\n",
      "Statistics\n",
      "  - conflicts : 0\n",
      "  - branches  : 4481\n",
      "  - wall time : 1.261057 s\n"
     ]
    }
   ],
   "source": [
    "from ortools.sat.python import cp_model\n",
    "import collections\n",
    "import json \n",
    "\n",
    "class SolutionPrinter(cp_model.CpSolverSolutionCallback):\n",
    "    \"\"\"Print intermediate solutions.\"\"\"\n",
    "\n",
    "    def __init__(self):\n",
    "        cp_model.CpSolverSolutionCallback.__init__(self)\n",
    "        self.__solution_count = 0\n",
    "\n",
    "    def on_solution_callback(self):\n",
    "        \"\"\"Called at each new solution.\"\"\"\n",
    "        print(\n",
    "            \"Solution %i, time = %f s, objective = %i\"\n",
    "            % (self.__solution_count, self.wall_time, self.objective_value)\n",
    "        )\n",
    "        self.__solution_count += 1\n",
    "\n",
    "\n",
    "task_type = collections.namedtuple(\"task_type\", \"start end interval machine\")\n",
    "\n",
    "\n",
    "data = json.load(open(\"hayday_tasks.json\"))\n",
    "source_id = data[\"machine\"]\n",
    "machine = len(source_id)\n",
    "tasks = data[\"tasks\"]\n",
    "\n",
    "duration = {task['id']: task['duration'] for task in tasks}\n",
    "horizon = sum(task['duration'] for task in tasks)\n",
    "times = range(horizon)\n",
    "\n",
    "model = cp_model.CpModel()\n",
    "\n",
    "all_tasks = {}\n",
    "intervals_per_resources = collections.defaultdict(list)\n",
    "\n",
    "for task in tasks:\n",
    "    start_var = model.new_int_var(0, horizon, 'start_%i' % task['id'])\n",
    "    end_var = model.new_int_var(0, horizon, 'end_%i' % task['id'])\n",
    "    interval_var = model.new_interval_var(start_var, duration[task['id']], end_var, 'interval_%i' % task['id'])\n",
    "    machine_var = model.new_int_var_from_domain(cp_model.Domain.FromValues(task['machine']), 'machine_%i' % task['id'])\n",
    "    all_tasks[task['id']] = task_type(\n",
    "        start=start_var, end=end_var, interval=interval_var, machine=machine_var\n",
    "    )\n",
    "\n",
    "    if len(task['machine']) == 1:\n",
    "        intervals_per_resources[task['machine'][0]].append(interval_var)\n",
    "    else:\n",
    "        l_presences = []\n",
    "        for machine_id in task['machine']:\n",
    "            l_presence = model.new_bool_var('presence_%i_%i' % (task['id'], machine_id))\n",
    "            l_start = model.new_int_var(0, horizon, 'start_%i_%i' % (task['id'], machine_id))\n",
    "            l_end = model.new_int_var(0, horizon, 'end_%i_%i' % (task['id'], machine_id))   \n",
    "            l_interval = model.new_optional_interval_var(l_start, duration[task['id']], l_end, l_presence, 'interval_%i_%i' % (task['id'], machine_id))\n",
    "            l_presences.append(l_presence)\n",
    "\n",
    "            model.add(start_var == l_start).only_enforce_if(l_presence)\n",
    "            model.add(end_var == l_end).only_enforce_if(l_presence)\n",
    "            model.add(machine_var == machine_id).only_enforce_if(l_presence)\n",
    "            \n",
    "            intervals_per_resources[machine_id].append(l_interval)\n",
    "        model.add_exactly_one(l_presences)\n",
    "\n",
    "for machine_id in range(1,machine+1):\n",
    "    intervals = intervals_per_resources[machine_id]\n",
    "    if len(intervals) > 1:\n",
    "        model.add_no_overlap(intervals)\n",
    "\n",
    "for task in tasks:\n",
    "    for dependency in task['dependent']:\n",
    "        model.Add(all_tasks[task['id']].start >= all_tasks[dependency].end)\n",
    "\n",
    "\n",
    "\n",
    "obj_var = model.new_int_var(0, horizon, 'makespan')\n",
    "model.add_max_equality(obj_var, [all_tasks[task['id']].end for task in tasks])\n",
    "model.minimize(obj_var)\n",
    "\n",
    "solver = cp_model.CpSolver()\n",
    "solution_printer = SolutionPrinter()\n",
    "status = solver.solve(model,solution_printer)\n",
    "print()\n",
    "print(\"solve status: %s\" % solver.status_name(status))\n",
    "print(\"Optimal objective value: %i\" % solver.objective_value)\n",
    "print(\"Statistics\")\n",
    "print(\"  - conflicts : %i\" % solver.num_conflicts)\n",
    "print(\"  - branches  : %i\" % solver.num_branches)\n",
    "print(\"  - wall time : %f s\" % solver.wall_time)"
   ]
  },
  {
   "cell_type": "code",
   "execution_count": 22,
   "metadata": {},
   "outputs": [],
   "source": [
    "import pandas as pd\n",
    "data = []\n",
    "for task in tasks:\n",
    "    task_id = task['id']\n",
    "    task_name = task['name']\n",
    "    start = solver.Value(all_tasks[task_id].start)\n",
    "    end = solver.Value(all_tasks[task_id].end)\n",
    "    machine = solver.Value(all_tasks[task_id].machine)\n",
    "    job_id = task['job_id']\n",
    "    # machine name = source_id + machine \n",
    "    # source name\n",
    "    for source in source_id:\n",
    "        if machine in source_id[source]:\n",
    "            machine = source +'_'+ str(machine)\n",
    "            break\n",
    "    data.append([ task_name, start, end, machine, job_id])\n",
    "\n",
    "df = pd.DataFrame(data, columns=[ \"task_name\", \"start\", \"end\", \"machine\", \"job_id\"])\n",
    "df['job_id'] = df['job_id'].astype(str)"
   ]
  },
  {
   "cell_type": "code",
   "execution_count": 23,
   "metadata": {},
   "outputs": [],
   "source": [
    "df[\"start\"] = pd.to_datetime(df[\"start\"], unit=\"s\")\n",
    "df[\"end\"] = pd.to_datetime(df[\"end\"], unit=\"s\")"
   ]
  },
  {
   "cell_type": "code",
   "execution_count": 25,
   "metadata": {},
   "outputs": [
    {
     "data": {
      "application/vnd.plotly.v1+json": {
       "config": {
        "plotlyServerURL": "https://plot.ly"
       },
       "data": [
        {
         "alignmentgroup": "True",
         "base": [
          "1970-01-01T04:05:00",
          "1970-01-01T03:00:00",
          "1970-01-01T01:30:00",
          "1970-01-01T01:20:00",
          "1970-01-01T00:20:00",
          "1970-01-01T00:00:00",
          "1970-01-01T03:05:00",
          "1970-01-01T02:45:00",
          "1970-01-01T00:22:00",
          "1970-01-01T02:45:00",
          "1970-01-01T02:40:00",
          "1970-01-01T00:25:00",
          "1970-01-01T00:25:00",
          "1970-01-01T00:17:00",
          "1970-01-01T10:30:00",
          "1970-01-01T07:50:00",
          "1970-01-01T02:40:00",
          "1970-01-01T02:30:00",
          "1970-01-01T00:52:00",
          "1970-01-01T01:00:00",
          "1970-01-01T00:57:00",
          "1970-01-01T07:30:00",
          "1970-01-01T06:30:00",
          "1970-01-01T02:20:00",
          "1970-01-01T00:02:00",
          "1970-01-01T00:05:00",
          "1970-01-01T00:30:00",
          "1970-01-01T08:05:00",
          "1970-01-01T07:00:00",
          "1970-01-01T05:30:00",
          "1970-01-01T02:10:00",
          "1970-01-01T00:55:00",
          "1970-01-01T00:50:00",
          "1970-01-01T00:05:00",
          "1970-01-01T05:00:00",
          "1970-01-01T00:50:00",
          "1970-01-01T00:20:00",
          "1970-01-01T09:05:00",
          "1970-01-01T05:05:00",
          "1970-01-01T01:50:00",
          "1970-01-01T00:45:00",
          "1970-01-01T00:25:00",
          "1970-01-01T06:00:00",
          "1970-01-01T04:30:00",
          "1970-01-01T01:40:00",
          "1970-01-01T00:20:00",
          "1970-01-01T00:00:00",
          "1970-01-01T01:25:00",
          "1970-01-01T01:15:00",
          "1970-01-01T00:00:00",
          "1970-01-01T00:20:00",
          "1970-01-01T01:20:00"
         ],
         "hovertemplate": "job_id=0<br>start=%{base}<br>end=%{x}<br>machine=%{y}<extra></extra>",
         "legendgroup": "0",
         "marker": {
          "color": "#636efa",
          "pattern": {
           "shape": ""
          }
         },
         "name": "0",
         "offsetgroup": "0",
         "orientation": "h",
         "showlegend": true,
         "textposition": "auto",
         "type": "bar",
         "x": [
          14400000,
          3600000,
          3600000,
          600000,
          300000,
          1200000,
          3600000,
          1200000,
          1800000,
          1200000,
          300000,
          300000,
          120000,
          120000,
          2100000,
          3600000,
          3600000,
          600000,
          300000,
          1200000,
          14400000,
          1200000,
          3600000,
          600000,
          300000,
          1200000,
          13200000,
          10800000,
          1200000,
          3600000,
          600000,
          300000,
          1200000,
          28800000,
          120000,
          2400000,
          1800000,
          7200000,
          14400000,
          1200000,
          600000,
          1200000,
          3600000,
          3600000,
          600000,
          300000,
          1200000,
          1200000,
          300000,
          300000,
          120000,
          13200000
         ],
         "xaxis": "x",
         "y": [
          "cake oven_49",
          "dairy_53",
          "cow_4",
          "feed mill_70",
          "field_8",
          "field_8",
          "bakery_71",
          "sugar mill_45",
          "field_13",
          "chicken_68",
          "feed mill_70",
          "field_7",
          "field_14",
          "field_12",
          "bbq grill_84",
          "dairy_53",
          "cow_3",
          "feed mill_70",
          "field_13",
          "field_8",
          "field_13",
          "dairy_53",
          "cow_4",
          "feed mill_70",
          "field_16",
          "field_15",
          "field_7",
          "cake oven_49",
          "dairy_53",
          "cow_4",
          "feed mill_70",
          "field_8",
          "field_11",
          "field_10",
          "field_8",
          "sugar mill_45",
          "field_11",
          "pie oven_40",
          "pig_86",
          "feed mill_70",
          "field_8",
          "field_8",
          "dairy_53",
          "cow_4",
          "feed mill_70",
          "field_7",
          "field_7",
          "chicken_68",
          "feed mill_70",
          "field_15",
          "field_13",
          "field_8"
         ],
         "yaxis": "y"
        },
        {
         "alignmentgroup": "True",
         "base": [
          "1970-01-01T09:19:00",
          "1970-01-01T05:00:00",
          "1970-01-01T03:30:00",
          "1970-01-01T01:30:00",
          "1970-01-01T00:12:00",
          "1970-01-01T00:00:00",
          "1970-01-01T05:02:00",
          "1970-01-01T01:10:00",
          "1970-01-01T00:19:00",
          "1970-01-01T09:04:00",
          "1970-01-01T04:00:00",
          "1970-01-01T02:30:00",
          "1970-01-01T01:05:00",
          "1970-01-01T00:20:00",
          "1970-01-01T00:00:00",
          "1970-01-01T00:00:00",
          "1970-01-01T09:02:00",
          "1970-01-01T10:20:00",
          "1970-01-01T04:57:00",
          "1970-01-01T08:50:00",
          "1970-01-01T00:50:00",
          "1970-01-01T00:10:00",
          "1970-01-01T00:00:00",
          "1970-01-01T00:00:00",
          "1970-01-01T00:00:00",
          "1970-01-01T09:35:00",
          "1970-01-01T01:05:00",
          "1970-01-01T01:00:00",
          "1970-01-01T00:07:00",
          "1970-01-01T00:00:00",
          "1970-01-01T02:00:00",
          "1970-01-01T01:00:00",
          "1970-01-01T00:50:00",
          "1970-01-01T00:02:00",
          "1970-01-01T00:00:00",
          "1970-01-01T00:10:00",
          "1970-01-01T00:27:00"
         ],
         "hovertemplate": "job_id=1<br>start=%{base}<br>end=%{x}<br>machine=%{y}<extra></extra>",
         "legendgroup": "1",
         "marker": {
          "color": "#EF553B",
          "pattern": {
           "shape": ""
          }
         },
         "name": "1",
         "offsetgroup": "1",
         "orientation": "h",
         "showlegend": true,
         "textposition": "auto",
         "type": "bar",
         "x": [
          900000,
          3600000,
          3600000,
          600000,
          300000,
          1200000,
          14400000,
          21600000,
          120000,
          900000,
          3600000,
          3600000,
          600000,
          300000,
          1200000,
          21600000,
          120000,
          2700000,
          2400000,
          5400000,
          28800000,
          2400000,
          600000,
          300000,
          120000,
          5400000,
          1200000,
          300000,
          300000,
          120000,
          3600000,
          3600000,
          600000,
          300000,
          1200000,
          21600000,
          18000000
         ],
         "xaxis": "x",
         "y": [
          "bakery_71",
          "dairy_53",
          "cow_4",
          "feed mill_70",
          "field_12",
          "field_11",
          "field_8",
          "field_11",
          "field_12",
          "bakery_71",
          "dairy_53",
          "cow_4",
          "feed mill_70",
          "field_14",
          "field_13",
          "lobster pool_51",
          "field_8",
          "salad bar_22",
          "field_13",
          "dairy_53",
          "goat_80",
          "feed mill_70",
          "field_9",
          "field_10",
          "field_12",
          "omelet station_73",
          "chicken_68",
          "feed mill_70",
          "field_12",
          "field_16",
          "dairy_53",
          "cow_2",
          "feed mill_70",
          "field_12",
          "field_14",
          "field_9",
          "field_14"
         ],
         "yaxis": "y"
        },
        {
         "alignmentgroup": "True",
         "base": [
          "1970-01-01T04:37:00",
          "1970-01-01T09:59:00",
          "1970-01-01T05:52:00",
          "1970-01-01T10:01:00",
          "1970-01-01T04:35:00",
          "1970-01-01T06:22:00",
          "1970-01-01T00:26:00",
          "1970-01-01T05:47:00",
          "1970-01-01T00:46:00",
          "1970-01-01T09:04:00",
          "1970-01-01T09:00:00",
          "1970-01-01T00:55:00",
          "1970-01-01T09:29:00",
          "1970-01-01T08:35:00",
          "1970-01-01T06:40:00",
          "1970-01-01T01:31:00",
          "1970-01-01T04:30:00",
          "1970-01-01T01:11:00",
          "1970-01-01T09:49:00",
          "1970-01-01T06:10:00",
          "1970-01-01T00:31:00",
          "1970-01-01T00:32:00",
          "1970-01-01T05:32:00",
          "1970-01-01T07:25:00",
          "1970-01-01T05:42:00",
          "1970-01-01T09:39:00",
          "1970-01-01T06:35:00",
          "1970-01-01T00:27:00",
          "1970-01-01T00:30:00",
          "1970-01-01T09:30:00",
          "1970-01-01T06:15:00",
          "1970-01-01T09:45:00",
          "1970-01-01T07:10:00",
          "1970-01-01T09:54:00",
          "1970-01-01T09:55:00",
          "1970-01-01T09:09:00",
          "1970-01-01T07:45:00",
          "1970-01-01T00:51:00",
          "1970-01-01T08:30:00",
          "1970-01-01T06:12:00",
          "1970-01-01T00:36:00",
          "1970-01-01T00:40:00",
          "1970-01-01T01:01:00",
          "1970-01-01T05:42:00",
          "1970-01-01T05:37:00",
          "1970-01-01T00:35:00",
          "1970-01-01T06:25:00",
          "1970-01-01T08:40:00",
          "1970-01-01T00:56:00",
          "1970-01-01T08:25:00",
          "1970-01-01T07:30:00",
          "1970-01-01T05:47:00",
          "1970-01-01T07:35:00",
          "1970-01-01T00:41:00",
          "1970-01-01T01:06:00",
          "1970-01-01T07:40:00",
          "1970-01-01T05:57:00",
          "1970-01-01T00:50:00",
          "1970-01-01T00:07:00",
          "1970-01-01T09:15:00",
          "1970-01-01T09:20:00",
          "1970-01-01T07:15:00",
          "1970-01-01T08:50:00",
          "1970-01-01T01:16:00",
          "1970-01-01T06:20:00",
          "1970-01-01T04:25:00",
          "1970-01-01T09:34:00",
          "1970-01-01T00:21:00",
          "1970-01-01T06:30:00",
          "1970-01-01T06:50:00",
          "1970-01-01T09:24:00",
          "1970-01-01T01:26:00",
          "1970-01-01T01:21:00",
          "1970-01-01T04:15:00",
          "1970-01-01T05:37:00",
          "1970-01-01T06:17:00",
          "1970-01-01T00:12:00",
          "1970-01-01T09:25:00",
          "1970-01-01T08:45:00",
          "1970-01-01T09:14:00",
          "1970-01-01T06:45:00",
          "1970-01-01T00:45:00",
          "1970-01-01T09:10:00",
          "1970-01-01T09:19:00",
          "1970-01-01T08:05:00",
          "1970-01-01T06:02:00",
          "1970-01-01T00:37:00",
          "1970-01-01T10:00:00",
          "1970-01-01T05:27:00",
          "1970-01-01T08:10:00",
          "1970-01-01T09:40:00",
          "1970-01-01T09:05:00",
          "1970-01-01T00:17:00",
          "1970-01-01T08:20:00",
          "1970-01-01T09:35:00",
          "1970-01-01T08:15:00",
          "1970-01-01T08:55:00",
          "1970-01-01T04:20:00",
          "1970-01-01T06:07:00",
          "1970-01-01T00:22:00",
          "1970-01-01T09:50:00",
          "1970-01-01T04:10:00",
          "1970-01-01T05:52:00",
          "1970-01-01T09:44:00",
          "1970-01-01T07:20:00",
          "1970-01-01T00:25:00"
         ],
         "hovertemplate": "job_id=2<br>start=%{base}<br>end=%{x}<br>machine=%{y}<extra></extra>",
         "legendgroup": "2",
         "marker": {
          "color": "#00cc96",
          "pattern": {
           "shape": ""
          }
         },
         "name": "2",
         "offsetgroup": "2",
         "orientation": "h",
         "showlegend": true,
         "textposition": "auto",
         "type": "bar",
         "x": [
          120000,
          120000,
          120000,
          120000,
          120000,
          120000,
          300000,
          300000,
          300000,
          300000,
          300000,
          300000,
          300000,
          300000,
          300000,
          300000,
          300000,
          300000,
          300000,
          300000,
          300000,
          300000,
          300000,
          300000,
          300000,
          300000,
          300000,
          300000,
          300000,
          300000,
          300000,
          300000,
          300000,
          300000,
          300000,
          300000,
          300000,
          300000,
          300000,
          300000,
          300000,
          300000,
          300000,
          300000,
          300000,
          300000,
          300000,
          300000,
          300000,
          300000,
          300000,
          300000,
          300000,
          300000,
          300000,
          300000,
          300000,
          300000,
          300000,
          300000,
          300000,
          300000,
          300000,
          300000,
          300000,
          300000,
          300000,
          300000,
          300000,
          300000,
          300000,
          300000,
          300000,
          300000,
          300000,
          300000,
          300000,
          300000,
          300000,
          300000,
          300000,
          300000,
          300000,
          300000,
          300000,
          300000,
          300000,
          300000,
          300000,
          300000,
          300000,
          300000,
          300000,
          300000,
          300000,
          300000,
          300000,
          300000,
          300000,
          300000,
          300000,
          300000,
          300000,
          300000,
          300000,
          300000
         ],
         "xaxis": "x",
         "y": [
          "field_7",
          "field_8",
          "field_14",
          "field_8",
          "field_7",
          "field_13",
          "field_12",
          "field_13",
          "field_12",
          "field_8",
          "field_10",
          "field_15",
          "field_8",
          "field_10",
          "field_9",
          "field_12",
          "field_7",
          "field_12",
          "field_8",
          "field_9",
          "field_12",
          "field_16",
          "field_14",
          "field_11",
          "field_13",
          "field_8",
          "field_9",
          "field_16",
          "field_15",
          "field_10",
          "field_9",
          "field_10",
          "field_11",
          "field_8",
          "field_10",
          "field_8",
          "field_11",
          "field_12",
          "field_10",
          "field_13",
          "field_12",
          "field_15",
          "field_12",
          "field_14",
          "field_13",
          "field_15",
          "field_9",
          "field_10",
          "field_12",
          "field_10",
          "field_11",
          "field_14",
          "field_11",
          "field_12",
          "field_12",
          "field_11",
          "field_13",
          "field_15",
          "field_16",
          "field_10",
          "field_10",
          "field_11",
          "field_10",
          "field_12",
          "field_9",
          "field_7",
          "field_8",
          "field_12",
          "field_9",
          "field_9",
          "field_8",
          "field_12",
          "field_12",
          "field_7",
          "field_14",
          "field_13",
          "field_16",
          "field_10",
          "field_10",
          "field_8",
          "field_9",
          "field_15",
          "field_10",
          "field_8",
          "field_10",
          "field_13",
          "field_16",
          "field_10",
          "field_14",
          "field_10",
          "field_10",
          "field_10",
          "field_16",
          "field_10",
          "field_10",
          "field_10",
          "field_10",
          "field_7",
          "field_13",
          "field_16",
          "field_10",
          "field_7",
          "field_13",
          "field_8",
          "field_11",
          "field_15"
         ],
         "yaxis": "y"
        }
       ],
       "layout": {
        "barmode": "overlay",
        "legend": {
         "title": {
          "text": "job_id"
         },
         "tracegroupgap": 0
        },
        "template": {
         "data": {
          "bar": [
           {
            "error_x": {
             "color": "#2a3f5f"
            },
            "error_y": {
             "color": "#2a3f5f"
            },
            "marker": {
             "line": {
              "color": "#E5ECF6",
              "width": 0.5
             },
             "pattern": {
              "fillmode": "overlay",
              "size": 10,
              "solidity": 0.2
             }
            },
            "type": "bar"
           }
          ],
          "barpolar": [
           {
            "marker": {
             "line": {
              "color": "#E5ECF6",
              "width": 0.5
             },
             "pattern": {
              "fillmode": "overlay",
              "size": 10,
              "solidity": 0.2
             }
            },
            "type": "barpolar"
           }
          ],
          "carpet": [
           {
            "aaxis": {
             "endlinecolor": "#2a3f5f",
             "gridcolor": "white",
             "linecolor": "white",
             "minorgridcolor": "white",
             "startlinecolor": "#2a3f5f"
            },
            "baxis": {
             "endlinecolor": "#2a3f5f",
             "gridcolor": "white",
             "linecolor": "white",
             "minorgridcolor": "white",
             "startlinecolor": "#2a3f5f"
            },
            "type": "carpet"
           }
          ],
          "choropleth": [
           {
            "colorbar": {
             "outlinewidth": 0,
             "ticks": ""
            },
            "type": "choropleth"
           }
          ],
          "contour": [
           {
            "colorbar": {
             "outlinewidth": 0,
             "ticks": ""
            },
            "colorscale": [
             [
              0,
              "#0d0887"
             ],
             [
              0.1111111111111111,
              "#46039f"
             ],
             [
              0.2222222222222222,
              "#7201a8"
             ],
             [
              0.3333333333333333,
              "#9c179e"
             ],
             [
              0.4444444444444444,
              "#bd3786"
             ],
             [
              0.5555555555555556,
              "#d8576b"
             ],
             [
              0.6666666666666666,
              "#ed7953"
             ],
             [
              0.7777777777777778,
              "#fb9f3a"
             ],
             [
              0.8888888888888888,
              "#fdca26"
             ],
             [
              1,
              "#f0f921"
             ]
            ],
            "type": "contour"
           }
          ],
          "contourcarpet": [
           {
            "colorbar": {
             "outlinewidth": 0,
             "ticks": ""
            },
            "type": "contourcarpet"
           }
          ],
          "heatmap": [
           {
            "colorbar": {
             "outlinewidth": 0,
             "ticks": ""
            },
            "colorscale": [
             [
              0,
              "#0d0887"
             ],
             [
              0.1111111111111111,
              "#46039f"
             ],
             [
              0.2222222222222222,
              "#7201a8"
             ],
             [
              0.3333333333333333,
              "#9c179e"
             ],
             [
              0.4444444444444444,
              "#bd3786"
             ],
             [
              0.5555555555555556,
              "#d8576b"
             ],
             [
              0.6666666666666666,
              "#ed7953"
             ],
             [
              0.7777777777777778,
              "#fb9f3a"
             ],
             [
              0.8888888888888888,
              "#fdca26"
             ],
             [
              1,
              "#f0f921"
             ]
            ],
            "type": "heatmap"
           }
          ],
          "heatmapgl": [
           {
            "colorbar": {
             "outlinewidth": 0,
             "ticks": ""
            },
            "colorscale": [
             [
              0,
              "#0d0887"
             ],
             [
              0.1111111111111111,
              "#46039f"
             ],
             [
              0.2222222222222222,
              "#7201a8"
             ],
             [
              0.3333333333333333,
              "#9c179e"
             ],
             [
              0.4444444444444444,
              "#bd3786"
             ],
             [
              0.5555555555555556,
              "#d8576b"
             ],
             [
              0.6666666666666666,
              "#ed7953"
             ],
             [
              0.7777777777777778,
              "#fb9f3a"
             ],
             [
              0.8888888888888888,
              "#fdca26"
             ],
             [
              1,
              "#f0f921"
             ]
            ],
            "type": "heatmapgl"
           }
          ],
          "histogram": [
           {
            "marker": {
             "pattern": {
              "fillmode": "overlay",
              "size": 10,
              "solidity": 0.2
             }
            },
            "type": "histogram"
           }
          ],
          "histogram2d": [
           {
            "colorbar": {
             "outlinewidth": 0,
             "ticks": ""
            },
            "colorscale": [
             [
              0,
              "#0d0887"
             ],
             [
              0.1111111111111111,
              "#46039f"
             ],
             [
              0.2222222222222222,
              "#7201a8"
             ],
             [
              0.3333333333333333,
              "#9c179e"
             ],
             [
              0.4444444444444444,
              "#bd3786"
             ],
             [
              0.5555555555555556,
              "#d8576b"
             ],
             [
              0.6666666666666666,
              "#ed7953"
             ],
             [
              0.7777777777777778,
              "#fb9f3a"
             ],
             [
              0.8888888888888888,
              "#fdca26"
             ],
             [
              1,
              "#f0f921"
             ]
            ],
            "type": "histogram2d"
           }
          ],
          "histogram2dcontour": [
           {
            "colorbar": {
             "outlinewidth": 0,
             "ticks": ""
            },
            "colorscale": [
             [
              0,
              "#0d0887"
             ],
             [
              0.1111111111111111,
              "#46039f"
             ],
             [
              0.2222222222222222,
              "#7201a8"
             ],
             [
              0.3333333333333333,
              "#9c179e"
             ],
             [
              0.4444444444444444,
              "#bd3786"
             ],
             [
              0.5555555555555556,
              "#d8576b"
             ],
             [
              0.6666666666666666,
              "#ed7953"
             ],
             [
              0.7777777777777778,
              "#fb9f3a"
             ],
             [
              0.8888888888888888,
              "#fdca26"
             ],
             [
              1,
              "#f0f921"
             ]
            ],
            "type": "histogram2dcontour"
           }
          ],
          "mesh3d": [
           {
            "colorbar": {
             "outlinewidth": 0,
             "ticks": ""
            },
            "type": "mesh3d"
           }
          ],
          "parcoords": [
           {
            "line": {
             "colorbar": {
              "outlinewidth": 0,
              "ticks": ""
             }
            },
            "type": "parcoords"
           }
          ],
          "pie": [
           {
            "automargin": true,
            "type": "pie"
           }
          ],
          "scatter": [
           {
            "fillpattern": {
             "fillmode": "overlay",
             "size": 10,
             "solidity": 0.2
            },
            "type": "scatter"
           }
          ],
          "scatter3d": [
           {
            "line": {
             "colorbar": {
              "outlinewidth": 0,
              "ticks": ""
             }
            },
            "marker": {
             "colorbar": {
              "outlinewidth": 0,
              "ticks": ""
             }
            },
            "type": "scatter3d"
           }
          ],
          "scattercarpet": [
           {
            "marker": {
             "colorbar": {
              "outlinewidth": 0,
              "ticks": ""
             }
            },
            "type": "scattercarpet"
           }
          ],
          "scattergeo": [
           {
            "marker": {
             "colorbar": {
              "outlinewidth": 0,
              "ticks": ""
             }
            },
            "type": "scattergeo"
           }
          ],
          "scattergl": [
           {
            "marker": {
             "colorbar": {
              "outlinewidth": 0,
              "ticks": ""
             }
            },
            "type": "scattergl"
           }
          ],
          "scattermapbox": [
           {
            "marker": {
             "colorbar": {
              "outlinewidth": 0,
              "ticks": ""
             }
            },
            "type": "scattermapbox"
           }
          ],
          "scatterpolar": [
           {
            "marker": {
             "colorbar": {
              "outlinewidth": 0,
              "ticks": ""
             }
            },
            "type": "scatterpolar"
           }
          ],
          "scatterpolargl": [
           {
            "marker": {
             "colorbar": {
              "outlinewidth": 0,
              "ticks": ""
             }
            },
            "type": "scatterpolargl"
           }
          ],
          "scatterternary": [
           {
            "marker": {
             "colorbar": {
              "outlinewidth": 0,
              "ticks": ""
             }
            },
            "type": "scatterternary"
           }
          ],
          "surface": [
           {
            "colorbar": {
             "outlinewidth": 0,
             "ticks": ""
            },
            "colorscale": [
             [
              0,
              "#0d0887"
             ],
             [
              0.1111111111111111,
              "#46039f"
             ],
             [
              0.2222222222222222,
              "#7201a8"
             ],
             [
              0.3333333333333333,
              "#9c179e"
             ],
             [
              0.4444444444444444,
              "#bd3786"
             ],
             [
              0.5555555555555556,
              "#d8576b"
             ],
             [
              0.6666666666666666,
              "#ed7953"
             ],
             [
              0.7777777777777778,
              "#fb9f3a"
             ],
             [
              0.8888888888888888,
              "#fdca26"
             ],
             [
              1,
              "#f0f921"
             ]
            ],
            "type": "surface"
           }
          ],
          "table": [
           {
            "cells": {
             "fill": {
              "color": "#EBF0F8"
             },
             "line": {
              "color": "white"
             }
            },
            "header": {
             "fill": {
              "color": "#C8D4E3"
             },
             "line": {
              "color": "white"
             }
            },
            "type": "table"
           }
          ]
         },
         "layout": {
          "annotationdefaults": {
           "arrowcolor": "#2a3f5f",
           "arrowhead": 0,
           "arrowwidth": 1
          },
          "autotypenumbers": "strict",
          "coloraxis": {
           "colorbar": {
            "outlinewidth": 0,
            "ticks": ""
           }
          },
          "colorscale": {
           "diverging": [
            [
             0,
             "#8e0152"
            ],
            [
             0.1,
             "#c51b7d"
            ],
            [
             0.2,
             "#de77ae"
            ],
            [
             0.3,
             "#f1b6da"
            ],
            [
             0.4,
             "#fde0ef"
            ],
            [
             0.5,
             "#f7f7f7"
            ],
            [
             0.6,
             "#e6f5d0"
            ],
            [
             0.7,
             "#b8e186"
            ],
            [
             0.8,
             "#7fbc41"
            ],
            [
             0.9,
             "#4d9221"
            ],
            [
             1,
             "#276419"
            ]
           ],
           "sequential": [
            [
             0,
             "#0d0887"
            ],
            [
             0.1111111111111111,
             "#46039f"
            ],
            [
             0.2222222222222222,
             "#7201a8"
            ],
            [
             0.3333333333333333,
             "#9c179e"
            ],
            [
             0.4444444444444444,
             "#bd3786"
            ],
            [
             0.5555555555555556,
             "#d8576b"
            ],
            [
             0.6666666666666666,
             "#ed7953"
            ],
            [
             0.7777777777777778,
             "#fb9f3a"
            ],
            [
             0.8888888888888888,
             "#fdca26"
            ],
            [
             1,
             "#f0f921"
            ]
           ],
           "sequentialminus": [
            [
             0,
             "#0d0887"
            ],
            [
             0.1111111111111111,
             "#46039f"
            ],
            [
             0.2222222222222222,
             "#7201a8"
            ],
            [
             0.3333333333333333,
             "#9c179e"
            ],
            [
             0.4444444444444444,
             "#bd3786"
            ],
            [
             0.5555555555555556,
             "#d8576b"
            ],
            [
             0.6666666666666666,
             "#ed7953"
            ],
            [
             0.7777777777777778,
             "#fb9f3a"
            ],
            [
             0.8888888888888888,
             "#fdca26"
            ],
            [
             1,
             "#f0f921"
            ]
           ]
          },
          "colorway": [
           "#636efa",
           "#EF553B",
           "#00cc96",
           "#ab63fa",
           "#FFA15A",
           "#19d3f3",
           "#FF6692",
           "#B6E880",
           "#FF97FF",
           "#FECB52"
          ],
          "font": {
           "color": "#2a3f5f"
          },
          "geo": {
           "bgcolor": "white",
           "lakecolor": "white",
           "landcolor": "#E5ECF6",
           "showlakes": true,
           "showland": true,
           "subunitcolor": "white"
          },
          "hoverlabel": {
           "align": "left"
          },
          "hovermode": "closest",
          "mapbox": {
           "style": "light"
          },
          "paper_bgcolor": "white",
          "plot_bgcolor": "#E5ECF6",
          "polar": {
           "angularaxis": {
            "gridcolor": "white",
            "linecolor": "white",
            "ticks": ""
           },
           "bgcolor": "#E5ECF6",
           "radialaxis": {
            "gridcolor": "white",
            "linecolor": "white",
            "ticks": ""
           }
          },
          "scene": {
           "xaxis": {
            "backgroundcolor": "#E5ECF6",
            "gridcolor": "white",
            "gridwidth": 2,
            "linecolor": "white",
            "showbackground": true,
            "ticks": "",
            "zerolinecolor": "white"
           },
           "yaxis": {
            "backgroundcolor": "#E5ECF6",
            "gridcolor": "white",
            "gridwidth": 2,
            "linecolor": "white",
            "showbackground": true,
            "ticks": "",
            "zerolinecolor": "white"
           },
           "zaxis": {
            "backgroundcolor": "#E5ECF6",
            "gridcolor": "white",
            "gridwidth": 2,
            "linecolor": "white",
            "showbackground": true,
            "ticks": "",
            "zerolinecolor": "white"
           }
          },
          "shapedefaults": {
           "line": {
            "color": "#2a3f5f"
           }
          },
          "ternary": {
           "aaxis": {
            "gridcolor": "white",
            "linecolor": "white",
            "ticks": ""
           },
           "baxis": {
            "gridcolor": "white",
            "linecolor": "white",
            "ticks": ""
           },
           "bgcolor": "#E5ECF6",
           "caxis": {
            "gridcolor": "white",
            "linecolor": "white",
            "ticks": ""
           }
          },
          "title": {
           "x": 0.05
          },
          "xaxis": {
           "automargin": true,
           "gridcolor": "white",
           "linecolor": "white",
           "ticks": "",
           "title": {
            "standoff": 15
           },
           "zerolinecolor": "white",
           "zerolinewidth": 2
          },
          "yaxis": {
           "automargin": true,
           "gridcolor": "white",
           "linecolor": "white",
           "ticks": "",
           "title": {
            "standoff": 15
           },
           "zerolinecolor": "white",
           "zerolinewidth": 2
          }
         }
        },
        "title": {
         "text": "Machine Schedule"
        },
        "xaxis": {
         "anchor": "y",
         "domain": [
          0,
          1
         ],
         "tickformat": "%H:%M:%S",
         "type": "date"
        },
        "yaxis": {
         "anchor": "x",
         "categoryarray": [
          "sugar mill_45",
          "salad bar_22",
          "pig_86",
          "pie oven_40",
          "omelet station_73",
          "lobster pool_51",
          "goat_80",
          "field_9",
          "field_8",
          "field_7",
          "field_16",
          "field_15",
          "field_14",
          "field_13",
          "field_12",
          "field_11",
          "field_10",
          "feed mill_70",
          "dairy_53",
          "cow_4",
          "cow_3",
          "cow_2",
          "chicken_68",
          "cake oven_49",
          "bbq grill_84",
          "bakery_71"
         ],
         "categoryorder": "array",
         "domain": [
          0,
          1
         ],
         "title": {
          "text": "machine"
         }
        }
       }
      }
     },
     "metadata": {},
     "output_type": "display_data"
    },
    {
     "data": {
      "application/vnd.plotly.v1+json": {
       "config": {
        "plotlyServerURL": "https://plot.ly"
       },
       "data": [
        {
         "alignmentgroup": "True",
         "base": [
          "1970-01-01T04:05:00",
          "1970-01-01T08:05:00"
         ],
         "hovertemplate": "machine=cake oven_49<br>start=%{base}<br>end=%{x}<br>job_id=%{y}<extra></extra>",
         "legendgroup": "cake oven_49",
         "marker": {
          "color": "#636efa",
          "pattern": {
           "shape": ""
          }
         },
         "name": "cake oven_49",
         "offsetgroup": "cake oven_49",
         "orientation": "h",
         "showlegend": true,
         "textposition": "auto",
         "type": "bar",
         "x": [
          14400000,
          10800000
         ],
         "xaxis": "x",
         "y": [
          "0",
          "0"
         ],
         "yaxis": "y"
        },
        {
         "alignmentgroup": "True",
         "base": [
          "1970-01-01T03:00:00",
          "1970-01-01T07:50:00",
          "1970-01-01T07:30:00",
          "1970-01-01T07:00:00",
          "1970-01-01T06:00:00",
          "1970-01-01T05:00:00",
          "1970-01-01T04:00:00",
          "1970-01-01T08:50:00",
          "1970-01-01T02:00:00"
         ],
         "hovertemplate": "machine=dairy_53<br>start=%{base}<br>end=%{x}<br>job_id=%{y}<extra></extra>",
         "legendgroup": "dairy_53",
         "marker": {
          "color": "#EF553B",
          "pattern": {
           "shape": ""
          }
         },
         "name": "dairy_53",
         "offsetgroup": "dairy_53",
         "orientation": "h",
         "showlegend": true,
         "textposition": "auto",
         "type": "bar",
         "x": [
          3600000,
          3600000,
          1200000,
          1200000,
          3600000,
          3600000,
          3600000,
          5400000,
          3600000
         ],
         "xaxis": "x",
         "y": [
          "0",
          "0",
          "0",
          "0",
          "0",
          "1",
          "1",
          "1",
          "1"
         ],
         "yaxis": "y"
        },
        {
         "alignmentgroup": "True",
         "base": [
          "1970-01-01T01:30:00",
          "1970-01-01T06:30:00",
          "1970-01-01T05:30:00",
          "1970-01-01T04:30:00",
          "1970-01-01T03:30:00",
          "1970-01-01T02:30:00"
         ],
         "hovertemplate": "machine=cow_4<br>start=%{base}<br>end=%{x}<br>job_id=%{y}<extra></extra>",
         "legendgroup": "cow_4",
         "marker": {
          "color": "#00cc96",
          "pattern": {
           "shape": ""
          }
         },
         "name": "cow_4",
         "offsetgroup": "cow_4",
         "orientation": "h",
         "showlegend": true,
         "textposition": "auto",
         "type": "bar",
         "x": [
          3600000,
          3600000,
          3600000,
          3600000,
          3600000,
          3600000
         ],
         "xaxis": "x",
         "y": [
          "0",
          "0",
          "0",
          "0",
          "1",
          "1"
         ],
         "yaxis": "y"
        },
        {
         "alignmentgroup": "True",
         "base": [
          "1970-01-01T01:20:00",
          "1970-01-01T02:40:00",
          "1970-01-01T02:30:00",
          "1970-01-01T02:20:00",
          "1970-01-01T02:10:00",
          "1970-01-01T01:50:00",
          "1970-01-01T01:40:00",
          "1970-01-01T01:15:00",
          "1970-01-01T01:30:00",
          "1970-01-01T01:05:00",
          "1970-01-01T00:10:00",
          "1970-01-01T01:00:00",
          "1970-01-01T00:50:00"
         ],
         "hovertemplate": "machine=feed mill_70<br>start=%{base}<br>end=%{x}<br>job_id=%{y}<extra></extra>",
         "legendgroup": "feed mill_70",
         "marker": {
          "color": "#ab63fa",
          "pattern": {
           "shape": ""
          }
         },
         "name": "feed mill_70",
         "offsetgroup": "feed mill_70",
         "orientation": "h",
         "showlegend": true,
         "textposition": "auto",
         "type": "bar",
         "x": [
          600000,
          300000,
          600000,
          600000,
          600000,
          1200000,
          600000,
          300000,
          600000,
          600000,
          2400000,
          300000,
          600000
         ],
         "xaxis": "x",
         "y": [
          "0",
          "0",
          "0",
          "0",
          "0",
          "0",
          "0",
          "0",
          "1",
          "1",
          "1",
          "1",
          "1"
         ],
         "yaxis": "y"
        },
        {
         "alignmentgroup": "True",
         "base": [
          "1970-01-01T00:20:00",
          "1970-01-01T00:00:00",
          "1970-01-01T01:00:00",
          "1970-01-01T00:55:00",
          "1970-01-01T05:00:00",
          "1970-01-01T00:45:00",
          "1970-01-01T00:25:00",
          "1970-01-01T01:20:00",
          "1970-01-01T05:02:00",
          "1970-01-01T09:02:00",
          "1970-01-01T09:59:00",
          "1970-01-01T10:01:00",
          "1970-01-01T09:04:00",
          "1970-01-01T09:29:00",
          "1970-01-01T09:49:00",
          "1970-01-01T09:39:00",
          "1970-01-01T09:54:00",
          "1970-01-01T09:09:00",
          "1970-01-01T09:34:00",
          "1970-01-01T09:24:00",
          "1970-01-01T09:14:00",
          "1970-01-01T09:19:00",
          "1970-01-01T09:44:00"
         ],
         "hovertemplate": "machine=field_8<br>start=%{base}<br>end=%{x}<br>job_id=%{y}<extra></extra>",
         "legendgroup": "field_8",
         "marker": {
          "color": "#FFA15A",
          "pattern": {
           "shape": ""
          }
         },
         "name": "field_8",
         "offsetgroup": "field_8",
         "orientation": "h",
         "showlegend": true,
         "textposition": "auto",
         "type": "bar",
         "x": [
          300000,
          1200000,
          1200000,
          300000,
          120000,
          600000,
          1200000,
          13200000,
          14400000,
          120000,
          120000,
          120000,
          300000,
          300000,
          300000,
          300000,
          300000,
          300000,
          300000,
          300000,
          300000,
          300000,
          300000
         ],
         "xaxis": "x",
         "y": [
          "0",
          "0",
          "0",
          "0",
          "0",
          "0",
          "0",
          "0",
          "1",
          "1",
          "2",
          "2",
          "2",
          "2",
          "2",
          "2",
          "2",
          "2",
          "2",
          "2",
          "2",
          "2",
          "2"
         ],
         "yaxis": "y"
        },
        {
         "alignmentgroup": "True",
         "base": [
          "1970-01-01T03:05:00",
          "1970-01-01T09:19:00",
          "1970-01-01T09:04:00"
         ],
         "hovertemplate": "machine=bakery_71<br>start=%{base}<br>end=%{x}<br>job_id=%{y}<extra></extra>",
         "legendgroup": "bakery_71",
         "marker": {
          "color": "#19d3f3",
          "pattern": {
           "shape": ""
          }
         },
         "name": "bakery_71",
         "offsetgroup": "bakery_71",
         "orientation": "h",
         "showlegend": true,
         "textposition": "auto",
         "type": "bar",
         "x": [
          3600000,
          900000,
          900000
         ],
         "xaxis": "x",
         "y": [
          "0",
          "1",
          "1"
         ],
         "yaxis": "y"
        },
        {
         "alignmentgroup": "True",
         "base": [
          "1970-01-01T02:45:00",
          "1970-01-01T00:50:00"
         ],
         "hovertemplate": "machine=sugar mill_45<br>start=%{base}<br>end=%{x}<br>job_id=%{y}<extra></extra>",
         "legendgroup": "sugar mill_45",
         "marker": {
          "color": "#FF6692",
          "pattern": {
           "shape": ""
          }
         },
         "name": "sugar mill_45",
         "offsetgroup": "sugar mill_45",
         "orientation": "h",
         "showlegend": true,
         "textposition": "auto",
         "type": "bar",
         "x": [
          1200000,
          2400000
         ],
         "xaxis": "x",
         "y": [
          "0",
          "0"
         ],
         "yaxis": "y"
        },
        {
         "alignmentgroup": "True",
         "base": [
          "1970-01-01T00:22:00",
          "1970-01-01T00:52:00",
          "1970-01-01T00:57:00",
          "1970-01-01T00:20:00",
          "1970-01-01T00:00:00",
          "1970-01-01T04:57:00",
          "1970-01-01T06:22:00",
          "1970-01-01T05:47:00",
          "1970-01-01T05:42:00",
          "1970-01-01T06:12:00",
          "1970-01-01T05:37:00",
          "1970-01-01T05:57:00",
          "1970-01-01T06:17:00",
          "1970-01-01T06:02:00",
          "1970-01-01T06:07:00",
          "1970-01-01T05:52:00"
         ],
         "hovertemplate": "machine=field_13<br>start=%{base}<br>end=%{x}<br>job_id=%{y}<extra></extra>",
         "legendgroup": "field_13",
         "marker": {
          "color": "#B6E880",
          "pattern": {
           "shape": ""
          }
         },
         "name": "field_13",
         "offsetgroup": "field_13",
         "orientation": "h",
         "showlegend": true,
         "textposition": "auto",
         "type": "bar",
         "x": [
          1800000,
          300000,
          14400000,
          120000,
          1200000,
          2400000,
          120000,
          300000,
          300000,
          300000,
          300000,
          300000,
          300000,
          300000,
          300000,
          300000
         ],
         "xaxis": "x",
         "y": [
          "0",
          "0",
          "0",
          "0",
          "1",
          "1",
          "2",
          "2",
          "2",
          "2",
          "2",
          "2",
          "2",
          "2",
          "2",
          "2"
         ],
         "yaxis": "y"
        },
        {
         "alignmentgroup": "True",
         "base": [
          "1970-01-01T02:45:00",
          "1970-01-01T01:25:00",
          "1970-01-01T01:05:00"
         ],
         "hovertemplate": "machine=chicken_68<br>start=%{base}<br>end=%{x}<br>job_id=%{y}<extra></extra>",
         "legendgroup": "chicken_68",
         "marker": {
          "color": "#FF97FF",
          "pattern": {
           "shape": ""
          }
         },
         "name": "chicken_68",
         "offsetgroup": "chicken_68",
         "orientation": "h",
         "showlegend": true,
         "textposition": "auto",
         "type": "bar",
         "x": [
          1200000,
          1200000,
          1200000
         ],
         "xaxis": "x",
         "y": [
          "0",
          "0",
          "1"
         ],
         "yaxis": "y"
        },
        {
         "alignmentgroup": "True",
         "base": [
          "1970-01-01T00:25:00",
          "1970-01-01T00:30:00",
          "1970-01-01T00:20:00",
          "1970-01-01T00:00:00",
          "1970-01-01T04:37:00",
          "1970-01-01T04:35:00",
          "1970-01-01T04:30:00",
          "1970-01-01T04:25:00",
          "1970-01-01T04:15:00",
          "1970-01-01T04:20:00",
          "1970-01-01T04:10:00"
         ],
         "hovertemplate": "machine=field_7<br>start=%{base}<br>end=%{x}<br>job_id=%{y}<extra></extra>",
         "legendgroup": "field_7",
         "marker": {
          "color": "#FECB52",
          "pattern": {
           "shape": ""
          }
         },
         "name": "field_7",
         "offsetgroup": "field_7",
         "orientation": "h",
         "showlegend": true,
         "textposition": "auto",
         "type": "bar",
         "x": [
          300000,
          13200000,
          300000,
          1200000,
          120000,
          120000,
          300000,
          300000,
          300000,
          300000,
          300000
         ],
         "xaxis": "x",
         "y": [
          "0",
          "0",
          "0",
          "0",
          "2",
          "2",
          "2",
          "2",
          "2",
          "2",
          "2"
         ],
         "yaxis": "y"
        },
        {
         "alignmentgroup": "True",
         "base": [
          "1970-01-01T00:25:00",
          "1970-01-01T00:20:00",
          "1970-01-01T00:00:00",
          "1970-01-01T00:27:00",
          "1970-01-01T05:52:00",
          "1970-01-01T05:32:00",
          "1970-01-01T05:42:00",
          "1970-01-01T05:47:00",
          "1970-01-01T05:37:00",
          "1970-01-01T05:27:00"
         ],
         "hovertemplate": "machine=field_14<br>start=%{base}<br>end=%{x}<br>job_id=%{y}<extra></extra>",
         "legendgroup": "field_14",
         "marker": {
          "color": "#636efa",
          "pattern": {
           "shape": ""
          }
         },
         "name": "field_14",
         "offsetgroup": "field_14",
         "orientation": "h",
         "showlegend": true,
         "textposition": "auto",
         "type": "bar",
         "x": [
          120000,
          300000,
          1200000,
          18000000,
          120000,
          300000,
          300000,
          300000,
          300000,
          300000
         ],
         "xaxis": "x",
         "y": [
          "0",
          "1",
          "1",
          "1",
          "2",
          "2",
          "2",
          "2",
          "2",
          "2"
         ],
         "yaxis": "y"
        },
        {
         "alignmentgroup": "True",
         "base": [
          "1970-01-01T00:17:00",
          "1970-01-01T00:12:00",
          "1970-01-01T00:19:00",
          "1970-01-01T00:00:00",
          "1970-01-01T00:07:00",
          "1970-01-01T00:02:00",
          "1970-01-01T00:26:00",
          "1970-01-01T00:46:00",
          "1970-01-01T01:31:00",
          "1970-01-01T01:11:00",
          "1970-01-01T00:31:00",
          "1970-01-01T00:51:00",
          "1970-01-01T00:36:00",
          "1970-01-01T01:01:00",
          "1970-01-01T00:56:00",
          "1970-01-01T00:41:00",
          "1970-01-01T01:06:00",
          "1970-01-01T01:16:00",
          "1970-01-01T00:21:00",
          "1970-01-01T01:26:00",
          "1970-01-01T01:21:00"
         ],
         "hovertemplate": "machine=field_12<br>start=%{base}<br>end=%{x}<br>job_id=%{y}<extra></extra>",
         "legendgroup": "field_12",
         "marker": {
          "color": "#EF553B",
          "pattern": {
           "shape": ""
          }
         },
         "name": "field_12",
         "offsetgroup": "field_12",
         "orientation": "h",
         "showlegend": true,
         "textposition": "auto",
         "type": "bar",
         "x": [
          120000,
          300000,
          120000,
          120000,
          300000,
          300000,
          300000,
          300000,
          300000,
          300000,
          300000,
          300000,
          300000,
          300000,
          300000,
          300000,
          300000,
          300000,
          300000,
          300000,
          300000
         ],
         "xaxis": "x",
         "y": [
          "0",
          "1",
          "1",
          "1",
          "1",
          "1",
          "2",
          "2",
          "2",
          "2",
          "2",
          "2",
          "2",
          "2",
          "2",
          "2",
          "2",
          "2",
          "2",
          "2",
          "2"
         ],
         "yaxis": "y"
        },
        {
         "alignmentgroup": "True",
         "base": [
          "1970-01-01T10:30:00"
         ],
         "hovertemplate": "machine=bbq grill_84<br>start=%{base}<br>end=%{x}<br>job_id=%{y}<extra></extra>",
         "legendgroup": "bbq grill_84",
         "marker": {
          "color": "#00cc96",
          "pattern": {
           "shape": ""
          }
         },
         "name": "bbq grill_84",
         "offsetgroup": "bbq grill_84",
         "orientation": "h",
         "showlegend": true,
         "textposition": "auto",
         "type": "bar",
         "x": [
          2100000
         ],
         "xaxis": "x",
         "y": [
          "0"
         ],
         "yaxis": "y"
        },
        {
         "alignmentgroup": "True",
         "base": [
          "1970-01-01T02:40:00"
         ],
         "hovertemplate": "machine=cow_3<br>start=%{base}<br>end=%{x}<br>job_id=%{y}<extra></extra>",
         "legendgroup": "cow_3",
         "marker": {
          "color": "#ab63fa",
          "pattern": {
           "shape": ""
          }
         },
         "name": "cow_3",
         "offsetgroup": "cow_3",
         "orientation": "h",
         "showlegend": true,
         "textposition": "auto",
         "type": "bar",
         "x": [
          3600000
         ],
         "xaxis": "x",
         "y": [
          "0"
         ],
         "yaxis": "y"
        },
        {
         "alignmentgroup": "True",
         "base": [
          "1970-01-01T00:02:00",
          "1970-01-01T00:00:00",
          "1970-01-01T00:32:00",
          "1970-01-01T00:27:00",
          "1970-01-01T00:07:00",
          "1970-01-01T00:12:00",
          "1970-01-01T00:37:00",
          "1970-01-01T00:17:00",
          "1970-01-01T00:22:00"
         ],
         "hovertemplate": "machine=field_16<br>start=%{base}<br>end=%{x}<br>job_id=%{y}<extra></extra>",
         "legendgroup": "field_16",
         "marker": {
          "color": "#FFA15A",
          "pattern": {
           "shape": ""
          }
         },
         "name": "field_16",
         "offsetgroup": "field_16",
         "orientation": "h",
         "showlegend": true,
         "textposition": "auto",
         "type": "bar",
         "x": [
          300000,
          120000,
          300000,
          300000,
          300000,
          300000,
          300000,
          300000,
          300000
         ],
         "xaxis": "x",
         "y": [
          "0",
          "1",
          "2",
          "2",
          "2",
          "2",
          "2",
          "2",
          "2"
         ],
         "yaxis": "y"
        },
        {
         "alignmentgroup": "True",
         "base": [
          "1970-01-01T00:05:00",
          "1970-01-01T00:00:00",
          "1970-01-01T00:55:00",
          "1970-01-01T00:30:00",
          "1970-01-01T00:40:00",
          "1970-01-01T00:35:00",
          "1970-01-01T00:50:00",
          "1970-01-01T00:45:00",
          "1970-01-01T00:25:00"
         ],
         "hovertemplate": "machine=field_15<br>start=%{base}<br>end=%{x}<br>job_id=%{y}<extra></extra>",
         "legendgroup": "field_15",
         "marker": {
          "color": "#19d3f3",
          "pattern": {
           "shape": ""
          }
         },
         "name": "field_15",
         "offsetgroup": "field_15",
         "orientation": "h",
         "showlegend": true,
         "textposition": "auto",
         "type": "bar",
         "x": [
          1200000,
          300000,
          300000,
          300000,
          300000,
          300000,
          300000,
          300000,
          300000
         ],
         "xaxis": "x",
         "y": [
          "0",
          "0",
          "2",
          "2",
          "2",
          "2",
          "2",
          "2",
          "2"
         ],
         "yaxis": "y"
        },
        {
         "alignmentgroup": "True",
         "base": [
          "1970-01-01T00:50:00",
          "1970-01-01T00:20:00",
          "1970-01-01T00:00:00",
          "1970-01-01T01:10:00",
          "1970-01-01T07:25:00",
          "1970-01-01T07:10:00",
          "1970-01-01T07:45:00",
          "1970-01-01T07:30:00",
          "1970-01-01T07:35:00",
          "1970-01-01T07:40:00",
          "1970-01-01T07:15:00",
          "1970-01-01T07:20:00"
         ],
         "hovertemplate": "machine=field_11<br>start=%{base}<br>end=%{x}<br>job_id=%{y}<extra></extra>",
         "legendgroup": "field_11",
         "marker": {
          "color": "#FF6692",
          "pattern": {
           "shape": ""
          }
         },
         "name": "field_11",
         "offsetgroup": "field_11",
         "orientation": "h",
         "showlegend": true,
         "textposition": "auto",
         "type": "bar",
         "x": [
          1200000,
          1800000,
          1200000,
          21600000,
          300000,
          300000,
          300000,
          300000,
          300000,
          300000,
          300000,
          300000
         ],
         "xaxis": "x",
         "y": [
          "0",
          "0",
          "1",
          "1",
          "2",
          "2",
          "2",
          "2",
          "2",
          "2",
          "2",
          "2"
         ],
         "yaxis": "y"
        },
        {
         "alignmentgroup": "True",
         "base": [
          "1970-01-01T00:05:00",
          "1970-01-01T00:00:00",
          "1970-01-01T09:00:00",
          "1970-01-01T08:35:00",
          "1970-01-01T09:30:00",
          "1970-01-01T09:45:00",
          "1970-01-01T09:55:00",
          "1970-01-01T08:30:00",
          "1970-01-01T08:40:00",
          "1970-01-01T08:25:00",
          "1970-01-01T09:15:00",
          "1970-01-01T09:20:00",
          "1970-01-01T08:50:00",
          "1970-01-01T09:25:00",
          "1970-01-01T08:45:00",
          "1970-01-01T09:10:00",
          "1970-01-01T08:05:00",
          "1970-01-01T10:00:00",
          "1970-01-01T08:10:00",
          "1970-01-01T09:40:00",
          "1970-01-01T09:05:00",
          "1970-01-01T08:20:00",
          "1970-01-01T09:35:00",
          "1970-01-01T08:15:00",
          "1970-01-01T08:55:00",
          "1970-01-01T09:50:00"
         ],
         "hovertemplate": "machine=field_10<br>start=%{base}<br>end=%{x}<br>job_id=%{y}<extra></extra>",
         "legendgroup": "field_10",
         "marker": {
          "color": "#B6E880",
          "pattern": {
           "shape": ""
          }
         },
         "name": "field_10",
         "offsetgroup": "field_10",
         "orientation": "h",
         "showlegend": true,
         "textposition": "auto",
         "type": "bar",
         "x": [
          28800000,
          300000,
          300000,
          300000,
          300000,
          300000,
          300000,
          300000,
          300000,
          300000,
          300000,
          300000,
          300000,
          300000,
          300000,
          300000,
          300000,
          300000,
          300000,
          300000,
          300000,
          300000,
          300000,
          300000,
          300000,
          300000
         ],
         "xaxis": "x",
         "y": [
          "0",
          "1",
          "2",
          "2",
          "2",
          "2",
          "2",
          "2",
          "2",
          "2",
          "2",
          "2",
          "2",
          "2",
          "2",
          "2",
          "2",
          "2",
          "2",
          "2",
          "2",
          "2",
          "2",
          "2",
          "2",
          "2"
         ],
         "yaxis": "y"
        },
        {
         "alignmentgroup": "True",
         "base": [
          "1970-01-01T09:05:00"
         ],
         "hovertemplate": "machine=pie oven_40<br>start=%{base}<br>end=%{x}<br>job_id=%{y}<extra></extra>",
         "legendgroup": "pie oven_40",
         "marker": {
          "color": "#FF97FF",
          "pattern": {
           "shape": ""
          }
         },
         "name": "pie oven_40",
         "offsetgroup": "pie oven_40",
         "orientation": "h",
         "showlegend": true,
         "textposition": "auto",
         "type": "bar",
         "x": [
          7200000
         ],
         "xaxis": "x",
         "y": [
          "0"
         ],
         "yaxis": "y"
        },
        {
         "alignmentgroup": "True",
         "base": [
          "1970-01-01T05:05:00"
         ],
         "hovertemplate": "machine=pig_86<br>start=%{base}<br>end=%{x}<br>job_id=%{y}<extra></extra>",
         "legendgroup": "pig_86",
         "marker": {
          "color": "#FECB52",
          "pattern": {
           "shape": ""
          }
         },
         "name": "pig_86",
         "offsetgroup": "pig_86",
         "orientation": "h",
         "showlegend": true,
         "textposition": "auto",
         "type": "bar",
         "x": [
          14400000
         ],
         "xaxis": "x",
         "y": [
          "0"
         ],
         "yaxis": "y"
        },
        {
         "alignmentgroup": "True",
         "base": [
          "1970-01-01T00:00:00"
         ],
         "hovertemplate": "machine=lobster pool_51<br>start=%{base}<br>end=%{x}<br>job_id=%{y}<extra></extra>",
         "legendgroup": "lobster pool_51",
         "marker": {
          "color": "#636efa",
          "pattern": {
           "shape": ""
          }
         },
         "name": "lobster pool_51",
         "offsetgroup": "lobster pool_51",
         "orientation": "h",
         "showlegend": true,
         "textposition": "auto",
         "type": "bar",
         "x": [
          21600000
         ],
         "xaxis": "x",
         "y": [
          "1"
         ],
         "yaxis": "y"
        },
        {
         "alignmentgroup": "True",
         "base": [
          "1970-01-01T10:20:00"
         ],
         "hovertemplate": "machine=salad bar_22<br>start=%{base}<br>end=%{x}<br>job_id=%{y}<extra></extra>",
         "legendgroup": "salad bar_22",
         "marker": {
          "color": "#EF553B",
          "pattern": {
           "shape": ""
          }
         },
         "name": "salad bar_22",
         "offsetgroup": "salad bar_22",
         "orientation": "h",
         "showlegend": true,
         "textposition": "auto",
         "type": "bar",
         "x": [
          2700000
         ],
         "xaxis": "x",
         "y": [
          "1"
         ],
         "yaxis": "y"
        },
        {
         "alignmentgroup": "True",
         "base": [
          "1970-01-01T00:50:00"
         ],
         "hovertemplate": "machine=goat_80<br>start=%{base}<br>end=%{x}<br>job_id=%{y}<extra></extra>",
         "legendgroup": "goat_80",
         "marker": {
          "color": "#00cc96",
          "pattern": {
           "shape": ""
          }
         },
         "name": "goat_80",
         "offsetgroup": "goat_80",
         "orientation": "h",
         "showlegend": true,
         "textposition": "auto",
         "type": "bar",
         "x": [
          28800000
         ],
         "xaxis": "x",
         "y": [
          "1"
         ],
         "yaxis": "y"
        },
        {
         "alignmentgroup": "True",
         "base": [
          "1970-01-01T00:00:00",
          "1970-01-01T00:10:00",
          "1970-01-01T06:40:00",
          "1970-01-01T06:10:00",
          "1970-01-01T06:35:00",
          "1970-01-01T06:15:00",
          "1970-01-01T06:25:00",
          "1970-01-01T06:20:00",
          "1970-01-01T06:30:00",
          "1970-01-01T06:50:00",
          "1970-01-01T06:45:00"
         ],
         "hovertemplate": "machine=field_9<br>start=%{base}<br>end=%{x}<br>job_id=%{y}<extra></extra>",
         "legendgroup": "field_9",
         "marker": {
          "color": "#ab63fa",
          "pattern": {
           "shape": ""
          }
         },
         "name": "field_9",
         "offsetgroup": "field_9",
         "orientation": "h",
         "showlegend": true,
         "textposition": "auto",
         "type": "bar",
         "x": [
          600000,
          21600000,
          300000,
          300000,
          300000,
          300000,
          300000,
          300000,
          300000,
          300000,
          300000
         ],
         "xaxis": "x",
         "y": [
          "1",
          "1",
          "2",
          "2",
          "2",
          "2",
          "2",
          "2",
          "2",
          "2",
          "2"
         ],
         "yaxis": "y"
        },
        {
         "alignmentgroup": "True",
         "base": [
          "1970-01-01T09:35:00"
         ],
         "hovertemplate": "machine=omelet station_73<br>start=%{base}<br>end=%{x}<br>job_id=%{y}<extra></extra>",
         "legendgroup": "omelet station_73",
         "marker": {
          "color": "#FFA15A",
          "pattern": {
           "shape": ""
          }
         },
         "name": "omelet station_73",
         "offsetgroup": "omelet station_73",
         "orientation": "h",
         "showlegend": true,
         "textposition": "auto",
         "type": "bar",
         "x": [
          5400000
         ],
         "xaxis": "x",
         "y": [
          "1"
         ],
         "yaxis": "y"
        },
        {
         "alignmentgroup": "True",
         "base": [
          "1970-01-01T01:00:00"
         ],
         "hovertemplate": "machine=cow_2<br>start=%{base}<br>end=%{x}<br>job_id=%{y}<extra></extra>",
         "legendgroup": "cow_2",
         "marker": {
          "color": "#19d3f3",
          "pattern": {
           "shape": ""
          }
         },
         "name": "cow_2",
         "offsetgroup": "cow_2",
         "orientation": "h",
         "showlegend": true,
         "textposition": "auto",
         "type": "bar",
         "x": [
          3600000
         ],
         "xaxis": "x",
         "y": [
          "1"
         ],
         "yaxis": "y"
        }
       ],
       "layout": {
        "barmode": "overlay",
        "legend": {
         "title": {
          "text": "machine"
         },
         "tracegroupgap": 0
        },
        "template": {
         "data": {
          "bar": [
           {
            "error_x": {
             "color": "#2a3f5f"
            },
            "error_y": {
             "color": "#2a3f5f"
            },
            "marker": {
             "line": {
              "color": "#E5ECF6",
              "width": 0.5
             },
             "pattern": {
              "fillmode": "overlay",
              "size": 10,
              "solidity": 0.2
             }
            },
            "type": "bar"
           }
          ],
          "barpolar": [
           {
            "marker": {
             "line": {
              "color": "#E5ECF6",
              "width": 0.5
             },
             "pattern": {
              "fillmode": "overlay",
              "size": 10,
              "solidity": 0.2
             }
            },
            "type": "barpolar"
           }
          ],
          "carpet": [
           {
            "aaxis": {
             "endlinecolor": "#2a3f5f",
             "gridcolor": "white",
             "linecolor": "white",
             "minorgridcolor": "white",
             "startlinecolor": "#2a3f5f"
            },
            "baxis": {
             "endlinecolor": "#2a3f5f",
             "gridcolor": "white",
             "linecolor": "white",
             "minorgridcolor": "white",
             "startlinecolor": "#2a3f5f"
            },
            "type": "carpet"
           }
          ],
          "choropleth": [
           {
            "colorbar": {
             "outlinewidth": 0,
             "ticks": ""
            },
            "type": "choropleth"
           }
          ],
          "contour": [
           {
            "colorbar": {
             "outlinewidth": 0,
             "ticks": ""
            },
            "colorscale": [
             [
              0,
              "#0d0887"
             ],
             [
              0.1111111111111111,
              "#46039f"
             ],
             [
              0.2222222222222222,
              "#7201a8"
             ],
             [
              0.3333333333333333,
              "#9c179e"
             ],
             [
              0.4444444444444444,
              "#bd3786"
             ],
             [
              0.5555555555555556,
              "#d8576b"
             ],
             [
              0.6666666666666666,
              "#ed7953"
             ],
             [
              0.7777777777777778,
              "#fb9f3a"
             ],
             [
              0.8888888888888888,
              "#fdca26"
             ],
             [
              1,
              "#f0f921"
             ]
            ],
            "type": "contour"
           }
          ],
          "contourcarpet": [
           {
            "colorbar": {
             "outlinewidth": 0,
             "ticks": ""
            },
            "type": "contourcarpet"
           }
          ],
          "heatmap": [
           {
            "colorbar": {
             "outlinewidth": 0,
             "ticks": ""
            },
            "colorscale": [
             [
              0,
              "#0d0887"
             ],
             [
              0.1111111111111111,
              "#46039f"
             ],
             [
              0.2222222222222222,
              "#7201a8"
             ],
             [
              0.3333333333333333,
              "#9c179e"
             ],
             [
              0.4444444444444444,
              "#bd3786"
             ],
             [
              0.5555555555555556,
              "#d8576b"
             ],
             [
              0.6666666666666666,
              "#ed7953"
             ],
             [
              0.7777777777777778,
              "#fb9f3a"
             ],
             [
              0.8888888888888888,
              "#fdca26"
             ],
             [
              1,
              "#f0f921"
             ]
            ],
            "type": "heatmap"
           }
          ],
          "heatmapgl": [
           {
            "colorbar": {
             "outlinewidth": 0,
             "ticks": ""
            },
            "colorscale": [
             [
              0,
              "#0d0887"
             ],
             [
              0.1111111111111111,
              "#46039f"
             ],
             [
              0.2222222222222222,
              "#7201a8"
             ],
             [
              0.3333333333333333,
              "#9c179e"
             ],
             [
              0.4444444444444444,
              "#bd3786"
             ],
             [
              0.5555555555555556,
              "#d8576b"
             ],
             [
              0.6666666666666666,
              "#ed7953"
             ],
             [
              0.7777777777777778,
              "#fb9f3a"
             ],
             [
              0.8888888888888888,
              "#fdca26"
             ],
             [
              1,
              "#f0f921"
             ]
            ],
            "type": "heatmapgl"
           }
          ],
          "histogram": [
           {
            "marker": {
             "pattern": {
              "fillmode": "overlay",
              "size": 10,
              "solidity": 0.2
             }
            },
            "type": "histogram"
           }
          ],
          "histogram2d": [
           {
            "colorbar": {
             "outlinewidth": 0,
             "ticks": ""
            },
            "colorscale": [
             [
              0,
              "#0d0887"
             ],
             [
              0.1111111111111111,
              "#46039f"
             ],
             [
              0.2222222222222222,
              "#7201a8"
             ],
             [
              0.3333333333333333,
              "#9c179e"
             ],
             [
              0.4444444444444444,
              "#bd3786"
             ],
             [
              0.5555555555555556,
              "#d8576b"
             ],
             [
              0.6666666666666666,
              "#ed7953"
             ],
             [
              0.7777777777777778,
              "#fb9f3a"
             ],
             [
              0.8888888888888888,
              "#fdca26"
             ],
             [
              1,
              "#f0f921"
             ]
            ],
            "type": "histogram2d"
           }
          ],
          "histogram2dcontour": [
           {
            "colorbar": {
             "outlinewidth": 0,
             "ticks": ""
            },
            "colorscale": [
             [
              0,
              "#0d0887"
             ],
             [
              0.1111111111111111,
              "#46039f"
             ],
             [
              0.2222222222222222,
              "#7201a8"
             ],
             [
              0.3333333333333333,
              "#9c179e"
             ],
             [
              0.4444444444444444,
              "#bd3786"
             ],
             [
              0.5555555555555556,
              "#d8576b"
             ],
             [
              0.6666666666666666,
              "#ed7953"
             ],
             [
              0.7777777777777778,
              "#fb9f3a"
             ],
             [
              0.8888888888888888,
              "#fdca26"
             ],
             [
              1,
              "#f0f921"
             ]
            ],
            "type": "histogram2dcontour"
           }
          ],
          "mesh3d": [
           {
            "colorbar": {
             "outlinewidth": 0,
             "ticks": ""
            },
            "type": "mesh3d"
           }
          ],
          "parcoords": [
           {
            "line": {
             "colorbar": {
              "outlinewidth": 0,
              "ticks": ""
             }
            },
            "type": "parcoords"
           }
          ],
          "pie": [
           {
            "automargin": true,
            "type": "pie"
           }
          ],
          "scatter": [
           {
            "fillpattern": {
             "fillmode": "overlay",
             "size": 10,
             "solidity": 0.2
            },
            "type": "scatter"
           }
          ],
          "scatter3d": [
           {
            "line": {
             "colorbar": {
              "outlinewidth": 0,
              "ticks": ""
             }
            },
            "marker": {
             "colorbar": {
              "outlinewidth": 0,
              "ticks": ""
             }
            },
            "type": "scatter3d"
           }
          ],
          "scattercarpet": [
           {
            "marker": {
             "colorbar": {
              "outlinewidth": 0,
              "ticks": ""
             }
            },
            "type": "scattercarpet"
           }
          ],
          "scattergeo": [
           {
            "marker": {
             "colorbar": {
              "outlinewidth": 0,
              "ticks": ""
             }
            },
            "type": "scattergeo"
           }
          ],
          "scattergl": [
           {
            "marker": {
             "colorbar": {
              "outlinewidth": 0,
              "ticks": ""
             }
            },
            "type": "scattergl"
           }
          ],
          "scattermapbox": [
           {
            "marker": {
             "colorbar": {
              "outlinewidth": 0,
              "ticks": ""
             }
            },
            "type": "scattermapbox"
           }
          ],
          "scatterpolar": [
           {
            "marker": {
             "colorbar": {
              "outlinewidth": 0,
              "ticks": ""
             }
            },
            "type": "scatterpolar"
           }
          ],
          "scatterpolargl": [
           {
            "marker": {
             "colorbar": {
              "outlinewidth": 0,
              "ticks": ""
             }
            },
            "type": "scatterpolargl"
           }
          ],
          "scatterternary": [
           {
            "marker": {
             "colorbar": {
              "outlinewidth": 0,
              "ticks": ""
             }
            },
            "type": "scatterternary"
           }
          ],
          "surface": [
           {
            "colorbar": {
             "outlinewidth": 0,
             "ticks": ""
            },
            "colorscale": [
             [
              0,
              "#0d0887"
             ],
             [
              0.1111111111111111,
              "#46039f"
             ],
             [
              0.2222222222222222,
              "#7201a8"
             ],
             [
              0.3333333333333333,
              "#9c179e"
             ],
             [
              0.4444444444444444,
              "#bd3786"
             ],
             [
              0.5555555555555556,
              "#d8576b"
             ],
             [
              0.6666666666666666,
              "#ed7953"
             ],
             [
              0.7777777777777778,
              "#fb9f3a"
             ],
             [
              0.8888888888888888,
              "#fdca26"
             ],
             [
              1,
              "#f0f921"
             ]
            ],
            "type": "surface"
           }
          ],
          "table": [
           {
            "cells": {
             "fill": {
              "color": "#EBF0F8"
             },
             "line": {
              "color": "white"
             }
            },
            "header": {
             "fill": {
              "color": "#C8D4E3"
             },
             "line": {
              "color": "white"
             }
            },
            "type": "table"
           }
          ]
         },
         "layout": {
          "annotationdefaults": {
           "arrowcolor": "#2a3f5f",
           "arrowhead": 0,
           "arrowwidth": 1
          },
          "autotypenumbers": "strict",
          "coloraxis": {
           "colorbar": {
            "outlinewidth": 0,
            "ticks": ""
           }
          },
          "colorscale": {
           "diverging": [
            [
             0,
             "#8e0152"
            ],
            [
             0.1,
             "#c51b7d"
            ],
            [
             0.2,
             "#de77ae"
            ],
            [
             0.3,
             "#f1b6da"
            ],
            [
             0.4,
             "#fde0ef"
            ],
            [
             0.5,
             "#f7f7f7"
            ],
            [
             0.6,
             "#e6f5d0"
            ],
            [
             0.7,
             "#b8e186"
            ],
            [
             0.8,
             "#7fbc41"
            ],
            [
             0.9,
             "#4d9221"
            ],
            [
             1,
             "#276419"
            ]
           ],
           "sequential": [
            [
             0,
             "#0d0887"
            ],
            [
             0.1111111111111111,
             "#46039f"
            ],
            [
             0.2222222222222222,
             "#7201a8"
            ],
            [
             0.3333333333333333,
             "#9c179e"
            ],
            [
             0.4444444444444444,
             "#bd3786"
            ],
            [
             0.5555555555555556,
             "#d8576b"
            ],
            [
             0.6666666666666666,
             "#ed7953"
            ],
            [
             0.7777777777777778,
             "#fb9f3a"
            ],
            [
             0.8888888888888888,
             "#fdca26"
            ],
            [
             1,
             "#f0f921"
            ]
           ],
           "sequentialminus": [
            [
             0,
             "#0d0887"
            ],
            [
             0.1111111111111111,
             "#46039f"
            ],
            [
             0.2222222222222222,
             "#7201a8"
            ],
            [
             0.3333333333333333,
             "#9c179e"
            ],
            [
             0.4444444444444444,
             "#bd3786"
            ],
            [
             0.5555555555555556,
             "#d8576b"
            ],
            [
             0.6666666666666666,
             "#ed7953"
            ],
            [
             0.7777777777777778,
             "#fb9f3a"
            ],
            [
             0.8888888888888888,
             "#fdca26"
            ],
            [
             1,
             "#f0f921"
            ]
           ]
          },
          "colorway": [
           "#636efa",
           "#EF553B",
           "#00cc96",
           "#ab63fa",
           "#FFA15A",
           "#19d3f3",
           "#FF6692",
           "#B6E880",
           "#FF97FF",
           "#FECB52"
          ],
          "font": {
           "color": "#2a3f5f"
          },
          "geo": {
           "bgcolor": "white",
           "lakecolor": "white",
           "landcolor": "#E5ECF6",
           "showlakes": true,
           "showland": true,
           "subunitcolor": "white"
          },
          "hoverlabel": {
           "align": "left"
          },
          "hovermode": "closest",
          "mapbox": {
           "style": "light"
          },
          "paper_bgcolor": "white",
          "plot_bgcolor": "#E5ECF6",
          "polar": {
           "angularaxis": {
            "gridcolor": "white",
            "linecolor": "white",
            "ticks": ""
           },
           "bgcolor": "#E5ECF6",
           "radialaxis": {
            "gridcolor": "white",
            "linecolor": "white",
            "ticks": ""
           }
          },
          "scene": {
           "xaxis": {
            "backgroundcolor": "#E5ECF6",
            "gridcolor": "white",
            "gridwidth": 2,
            "linecolor": "white",
            "showbackground": true,
            "ticks": "",
            "zerolinecolor": "white"
           },
           "yaxis": {
            "backgroundcolor": "#E5ECF6",
            "gridcolor": "white",
            "gridwidth": 2,
            "linecolor": "white",
            "showbackground": true,
            "ticks": "",
            "zerolinecolor": "white"
           },
           "zaxis": {
            "backgroundcolor": "#E5ECF6",
            "gridcolor": "white",
            "gridwidth": 2,
            "linecolor": "white",
            "showbackground": true,
            "ticks": "",
            "zerolinecolor": "white"
           }
          },
          "shapedefaults": {
           "line": {
            "color": "#2a3f5f"
           }
          },
          "ternary": {
           "aaxis": {
            "gridcolor": "white",
            "linecolor": "white",
            "ticks": ""
           },
           "baxis": {
            "gridcolor": "white",
            "linecolor": "white",
            "ticks": ""
           },
           "bgcolor": "#E5ECF6",
           "caxis": {
            "gridcolor": "white",
            "linecolor": "white",
            "ticks": ""
           }
          },
          "title": {
           "x": 0.05
          },
          "xaxis": {
           "automargin": true,
           "gridcolor": "white",
           "linecolor": "white",
           "ticks": "",
           "title": {
            "standoff": 15
           },
           "zerolinecolor": "white",
           "zerolinewidth": 2
          },
          "yaxis": {
           "automargin": true,
           "gridcolor": "white",
           "linecolor": "white",
           "ticks": "",
           "title": {
            "standoff": 15
           },
           "zerolinecolor": "white",
           "zerolinewidth": 2
          }
         }
        },
        "title": {
         "text": "Job Schedule"
        },
        "xaxis": {
         "anchor": "y",
         "domain": [
          0,
          1
         ],
         "tickformat": "%H:%M:%S",
         "type": "date"
        },
        "yaxis": {
         "anchor": "x",
         "categoryarray": [
          "2",
          "1",
          "0"
         ],
         "categoryorder": "array",
         "domain": [
          0,
          1
         ],
         "title": {
          "text": "job_id"
         }
        }
       }
      }
     },
     "metadata": {},
     "output_type": "display_data"
    }
   ],
   "source": [
    "import plotly.express as px\n",
    "import plotly\n",
    "\n",
    "chart1 = px.timeline(df, x_start=\"start\", x_end=\"end\", y=\"machine\", color=\"job_id\", title=\"Machine Schedule\",\n",
    "                     # text=\"task_name\",\n",
    "                        category_orders={\"machine\": sorted(list(df[\"machine\"].unique()))}\n",
    "                     )\n",
    "# hide date only show time\n",
    "chart1.update_xaxes(type='date', tickformat='%H:%M:%S')\n",
    "chart1.show()\n",
    "\n",
    "chart2 = px.timeline(df, x_start=\"start\", x_end=\"end\", y=\"job_id\", color=\"machine\", title=\"Job Schedule\",\n",
    "                     # text=\"task_name\",\n",
    "                        category_orders={\"job_id\": sorted(list(df[\"job_id\"].unique()))}\n",
    "                     )\n",
    "chart2.update_xaxes(type='date', tickformat='%H:%M:%S')\n",
    "chart2.show()"
   ]
  }
 ],
 "metadata": {
  "kernelspec": {
   "display_name": "me",
   "language": "python",
   "name": "python3"
  },
  "language_info": {
   "codemirror_mode": {
    "name": "ipython",
    "version": 3
   },
   "file_extension": ".py",
   "mimetype": "text/x-python",
   "name": "python",
   "nbconvert_exporter": "python",
   "pygments_lexer": "ipython3",
   "version": "3.8.19"
  }
 },
 "nbformat": 4,
 "nbformat_minor": 2
}
